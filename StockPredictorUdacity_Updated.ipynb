{
 "cells": [
  {
   "cell_type": "markdown",
   "id": "9ca63959",
   "metadata": {
    "scrolled": true
   },
   "source": [
    "# FINANCIAL ASSET PRICE PREDICTOR : UDACITY DATA SCIENTIST CAPSTONE PROJECT"
   ]
  },
  {
   "cell_type": "markdown",
   "id": "d0ab246e",
   "metadata": {},
   "source": [
    "# Project overview\n",
    "\n",
    "This project is the capstone project of Udacity Data Scientist nano-degree. For this project, I built a model to predict stock/ETF (Exchange Traded Funds)\n",
    "prices. My personal professional background is in Finance and Investments. One of the reasons why I’m learning Data Science is to utility this powerful tool in the financial sector. The modern  Financial sectors consumers and generate enormous amount of date on daily basis. More than 90% of the daily trading volume of the major stock exchanges are conducted by computer program and algorithms. Machine learning and deep learning has become an essential tool for automate complicated trading decision making and trade execution process.  \n",
    "\n",
    "In this project, I’m using LSTM model to predict stocks/ asset price a day in the future. Long short-term memory model( LSTM) is a RNN ( Recurrent Neural Network) architecture. LSTMs are extremely effective tool for sequence prediction problems. Since LTSM has feedback connection, it’s good at processing sequential of data, such as : historical financial assets prices. \n"
   ]
  },
  {
   "cell_type": "markdown",
   "id": "7db3a42e",
   "metadata": {},
   "source": [
    "### Import all the libraries and packages "
   ]
  },
  {
   "cell_type": "code",
   "execution_count": 4,
   "id": "a6ad0d57",
   "metadata": {},
   "outputs": [
    {
     "data": {
      "text/html": [
       "        <script type=\"text/javascript\">\n",
       "        window.PlotlyConfig = {MathJaxConfig: 'local'};\n",
       "        if (window.MathJax) {MathJax.Hub.Config({SVG: {font: \"STIX-Web\"}});}\n",
       "        if (typeof require !== 'undefined') {\n",
       "        require.undef(\"plotly\");\n",
       "        requirejs.config({\n",
       "            paths: {\n",
       "                'plotly': ['https://cdn.plot.ly/plotly-2.4.2.min']\n",
       "            }\n",
       "        });\n",
       "        require(['plotly'], function(Plotly) {\n",
       "            window._Plotly = Plotly;\n",
       "        });\n",
       "        }\n",
       "        </script>\n",
       "        "
      ]
     },
     "metadata": {},
     "output_type": "display_data"
    },
    {
     "name": "stdout",
     "output_type": "stream",
     "text": [
      "libraries imported\n"
     ]
    }
   ],
   "source": [
    "import yfinance as yf\n",
    "import pandas as pd\n",
    "import numpy as np\n",
    "import datetime as dt\n",
    "import matplotlib.pyplot as plt\n",
    "import plotly.graph_objects as go\n",
    "from pandas_datareader import data as pdr \n",
    "import math \n",
    "from sklearn.preprocessing import MinMaxScaler\n",
    "from tensorflow import keras\n",
    "from tensorflow.keras import Sequential\n",
    "from tensorflow.keras.layers import Dense \n",
    "from tensorflow.keras.layers import LSTM\n",
    "from tensorflow.keras.layers import Dropout\n",
    "from sklearn.metrics import mean_squared_error, r2_score, mean_absolute_error\n",
    "#import powerful financil data plot libs\n",
    "# pip install cufflinks\n",
    "import cufflinks as cf\n",
    "import plotly.offline as plyo\n",
    "plyo.init_notebook_mode(connected = True)\n",
    "%matplotlib inline\n",
    "print('libraries imported')"
   ]
  },
  {
   "cell_type": "code",
   "execution_count": null,
   "id": "f7165df4",
   "metadata": {},
   "outputs": [],
   "source": []
  },
  {
   "cell_type": "markdown",
   "id": "21b4eac0",
   "metadata": {},
   "source": [
    "## Data Exploration and Data Visualization"
   ]
  },
  {
   "cell_type": "markdown",
   "id": "30fe0378",
   "metadata": {},
   "source": [
    "### Download the Financial Data : Historical  Asset price\n",
    "\n",
    "* In this project I used python package yfinance to download historical  stock prices\n",
    "* For more information about this python package, please visit https://pypi.org/project/yfinance/"
   ]
  },
  {
   "cell_type": "code",
   "execution_count": 5,
   "id": "1fcae0b5",
   "metadata": {},
   "outputs": [],
   "source": [
    "# First define a function to download data as dataframe \n",
    "# yfiance valid intervals: 1m,2m,5m,15m,30m,60m,90m,1h,1d,5d,1wk,1mo,3mo\n",
    "# The default interval is '1d')\n",
    "# This function can take a single symbol or multiple symbol separated by space\n",
    "\n",
    "def download_data(symbol, start_date, end_date, interval):\n",
    "    '''input: symbol as string. It can be single ticker symbol or multiple symbol separated by space\n",
    "              start_date & end_date as str, e.g:2017-01-01 \n",
    "              intervals: 1m,2m,5m,15m,30m,60m,90m,1h,1d,5d,1wk,1mo,3m        \n",
    "              The default interval is '1d')\n",
    "       output: return a dataframe with col open, high, low , close, Adj Close\n",
    "    '''\n",
    "    yf.pdr_override() \n",
    "    data = pdr.get_data_yahoo(symbol, start=start_date, end=end_date, interval = interval)\n",
    "    return data "
   ]
  },
  {
   "cell_type": "markdown",
   "id": "c401d81d",
   "metadata": {},
   "source": [
    "##### Download Stock Price data\n",
    "\n",
    "* With yfinance library, you can download one or multiple stocks' price\n",
    "* However, if we download multiple stocks price, the data will have multiple levels of column names, so we need to flat the column names"
   ]
  },
  {
   "cell_type": "code",
   "execution_count": 6,
   "id": "41eae373",
   "metadata": {},
   "outputs": [
    {
     "name": "stdout",
     "output_type": "stream",
     "text": [
      "[*********************100%***********************]  4 of 4 completed\n"
     ]
    }
   ],
   "source": [
    "# download the data\n",
    "# download multiple historical price of stocks and index\n",
    "# this function can be used to download multiple or single stock/financial asset\n",
    "# AAPL: ticker symbol of Apple stock,  ^VIX the ticker symbol of COBE volatility index\n",
    "dataMulti = download_data(\"AAPL QQQ MSFT ^VIX\", \"2000-01-01\", \"2022-03-30\",\"1d\")"
   ]
  },
  {
   "cell_type": "code",
   "execution_count": 7,
   "id": "0b6becab",
   "metadata": {},
   "outputs": [
    {
     "data": {
      "text/html": [
       "<div>\n",
       "<style scoped>\n",
       "    .dataframe tbody tr th:only-of-type {\n",
       "        vertical-align: middle;\n",
       "    }\n",
       "\n",
       "    .dataframe tbody tr th {\n",
       "        vertical-align: top;\n",
       "    }\n",
       "\n",
       "    .dataframe thead tr th {\n",
       "        text-align: left;\n",
       "    }\n",
       "\n",
       "    .dataframe thead tr:last-of-type th {\n",
       "        text-align: right;\n",
       "    }\n",
       "</style>\n",
       "<table border=\"1\" class=\"dataframe\">\n",
       "  <thead>\n",
       "    <tr>\n",
       "      <th></th>\n",
       "      <th colspan=\"4\" halign=\"left\">Adj Close</th>\n",
       "      <th colspan=\"4\" halign=\"left\">Close</th>\n",
       "      <th colspan=\"2\" halign=\"left\">High</th>\n",
       "      <th>...</th>\n",
       "      <th colspan=\"2\" halign=\"left\">Low</th>\n",
       "      <th colspan=\"4\" halign=\"left\">Open</th>\n",
       "      <th colspan=\"4\" halign=\"left\">Volume</th>\n",
       "    </tr>\n",
       "    <tr>\n",
       "      <th></th>\n",
       "      <th>AAPL</th>\n",
       "      <th>MSFT</th>\n",
       "      <th>QQQ</th>\n",
       "      <th>^VIX</th>\n",
       "      <th>AAPL</th>\n",
       "      <th>MSFT</th>\n",
       "      <th>QQQ</th>\n",
       "      <th>^VIX</th>\n",
       "      <th>AAPL</th>\n",
       "      <th>MSFT</th>\n",
       "      <th>...</th>\n",
       "      <th>QQQ</th>\n",
       "      <th>^VIX</th>\n",
       "      <th>AAPL</th>\n",
       "      <th>MSFT</th>\n",
       "      <th>QQQ</th>\n",
       "      <th>^VIX</th>\n",
       "      <th>AAPL</th>\n",
       "      <th>MSFT</th>\n",
       "      <th>QQQ</th>\n",
       "      <th>^VIX</th>\n",
       "    </tr>\n",
       "    <tr>\n",
       "      <th>Date</th>\n",
       "      <th></th>\n",
       "      <th></th>\n",
       "      <th></th>\n",
       "      <th></th>\n",
       "      <th></th>\n",
       "      <th></th>\n",
       "      <th></th>\n",
       "      <th></th>\n",
       "      <th></th>\n",
       "      <th></th>\n",
       "      <th></th>\n",
       "      <th></th>\n",
       "      <th></th>\n",
       "      <th></th>\n",
       "      <th></th>\n",
       "      <th></th>\n",
       "      <th></th>\n",
       "      <th></th>\n",
       "      <th></th>\n",
       "      <th></th>\n",
       "      <th></th>\n",
       "    </tr>\n",
       "  </thead>\n",
       "  <tbody>\n",
       "    <tr>\n",
       "      <th>1999-12-31</th>\n",
       "      <td>0.786033</td>\n",
       "      <td>36.777348</td>\n",
       "      <td>79.050415</td>\n",
       "      <td>24.639999</td>\n",
       "      <td>0.917969</td>\n",
       "      <td>58.37500</td>\n",
       "      <td>91.37500</td>\n",
       "      <td>24.639999</td>\n",
       "      <td>0.918527</td>\n",
       "      <td>58.8750</td>\n",
       "      <td>...</td>\n",
       "      <td>91.3750</td>\n",
       "      <td>24.450001</td>\n",
       "      <td>0.901228</td>\n",
       "      <td>58.75000</td>\n",
       "      <td>92.6250</td>\n",
       "      <td>25.030001</td>\n",
       "      <td>163811200</td>\n",
       "      <td>12517600</td>\n",
       "      <td>14464400</td>\n",
       "      <td>0</td>\n",
       "    </tr>\n",
       "    <tr>\n",
       "      <th>2000-01-03</th>\n",
       "      <td>0.855796</td>\n",
       "      <td>36.718277</td>\n",
       "      <td>81.970169</td>\n",
       "      <td>24.209999</td>\n",
       "      <td>0.999442</td>\n",
       "      <td>58.28125</td>\n",
       "      <td>94.75000</td>\n",
       "      <td>24.209999</td>\n",
       "      <td>1.004464</td>\n",
       "      <td>59.3125</td>\n",
       "      <td>...</td>\n",
       "      <td>90.7500</td>\n",
       "      <td>23.980000</td>\n",
       "      <td>0.936384</td>\n",
       "      <td>58.68750</td>\n",
       "      <td>96.1875</td>\n",
       "      <td>24.360001</td>\n",
       "      <td>535796800</td>\n",
       "      <td>53228400</td>\n",
       "      <td>36345200</td>\n",
       "      <td>0</td>\n",
       "    </tr>\n",
       "    <tr>\n",
       "      <th>2000-01-04</th>\n",
       "      <td>0.783644</td>\n",
       "      <td>35.477936</td>\n",
       "      <td>76.346878</td>\n",
       "      <td>27.010000</td>\n",
       "      <td>0.915179</td>\n",
       "      <td>56.31250</td>\n",
       "      <td>88.25000</td>\n",
       "      <td>27.010000</td>\n",
       "      <td>0.987723</td>\n",
       "      <td>58.5625</td>\n",
       "      <td>...</td>\n",
       "      <td>87.9375</td>\n",
       "      <td>24.799999</td>\n",
       "      <td>0.966518</td>\n",
       "      <td>56.78125</td>\n",
       "      <td>92.0000</td>\n",
       "      <td>24.940001</td>\n",
       "      <td>512377600</td>\n",
       "      <td>54119000</td>\n",
       "      <td>33786600</td>\n",
       "      <td>0</td>\n",
       "    </tr>\n",
       "    <tr>\n",
       "      <th>2000-01-05</th>\n",
       "      <td>0.795111</td>\n",
       "      <td>35.852016</td>\n",
       "      <td>74.400352</td>\n",
       "      <td>26.410000</td>\n",
       "      <td>0.928571</td>\n",
       "      <td>56.90625</td>\n",
       "      <td>86.00000</td>\n",
       "      <td>26.410000</td>\n",
       "      <td>0.987165</td>\n",
       "      <td>58.1875</td>\n",
       "      <td>...</td>\n",
       "      <td>84.2500</td>\n",
       "      <td>25.850000</td>\n",
       "      <td>0.926339</td>\n",
       "      <td>55.56250</td>\n",
       "      <td>87.5000</td>\n",
       "      <td>27.980000</td>\n",
       "      <td>778321600</td>\n",
       "      <td>64059600</td>\n",
       "      <td>42496600</td>\n",
       "      <td>0</td>\n",
       "    </tr>\n",
       "    <tr>\n",
       "      <th>2000-01-06</th>\n",
       "      <td>0.726304</td>\n",
       "      <td>34.651043</td>\n",
       "      <td>69.290749</td>\n",
       "      <td>25.730000</td>\n",
       "      <td>0.848214</td>\n",
       "      <td>55.00000</td>\n",
       "      <td>80.09375</td>\n",
       "      <td>25.730000</td>\n",
       "      <td>0.955357</td>\n",
       "      <td>56.9375</td>\n",
       "      <td>...</td>\n",
       "      <td>79.7500</td>\n",
       "      <td>24.700001</td>\n",
       "      <td>0.947545</td>\n",
       "      <td>56.09375</td>\n",
       "      <td>86.8750</td>\n",
       "      <td>26.680000</td>\n",
       "      <td>767972800</td>\n",
       "      <td>54976600</td>\n",
       "      <td>37134800</td>\n",
       "      <td>0</td>\n",
       "    </tr>\n",
       "  </tbody>\n",
       "</table>\n",
       "<p>5 rows × 24 columns</p>\n",
       "</div>"
      ],
      "text/plain": [
       "           Adj Close                                      Close            \\\n",
       "                AAPL       MSFT        QQQ       ^VIX      AAPL      MSFT   \n",
       "Date                                                                        \n",
       "1999-12-31  0.786033  36.777348  79.050415  24.639999  0.917969  58.37500   \n",
       "2000-01-03  0.855796  36.718277  81.970169  24.209999  0.999442  58.28125   \n",
       "2000-01-04  0.783644  35.477936  76.346878  27.010000  0.915179  56.31250   \n",
       "2000-01-05  0.795111  35.852016  74.400352  26.410000  0.928571  56.90625   \n",
       "2000-01-06  0.726304  34.651043  69.290749  25.730000  0.848214  55.00000   \n",
       "\n",
       "                                     High           ...      Low             \\\n",
       "                 QQQ       ^VIX      AAPL     MSFT  ...      QQQ       ^VIX   \n",
       "Date                                                ...                       \n",
       "1999-12-31  91.37500  24.639999  0.918527  58.8750  ...  91.3750  24.450001   \n",
       "2000-01-03  94.75000  24.209999  1.004464  59.3125  ...  90.7500  23.980000   \n",
       "2000-01-04  88.25000  27.010000  0.987723  58.5625  ...  87.9375  24.799999   \n",
       "2000-01-05  86.00000  26.410000  0.987165  58.1875  ...  84.2500  25.850000   \n",
       "2000-01-06  80.09375  25.730000  0.955357  56.9375  ...  79.7500  24.700001   \n",
       "\n",
       "                Open                                   Volume            \\\n",
       "                AAPL      MSFT      QQQ       ^VIX       AAPL      MSFT   \n",
       "Date                                                                      \n",
       "1999-12-31  0.901228  58.75000  92.6250  25.030001  163811200  12517600   \n",
       "2000-01-03  0.936384  58.68750  96.1875  24.360001  535796800  53228400   \n",
       "2000-01-04  0.966518  56.78125  92.0000  24.940001  512377600  54119000   \n",
       "2000-01-05  0.926339  55.56250  87.5000  27.980000  778321600  64059600   \n",
       "2000-01-06  0.947545  56.09375  86.8750  26.680000  767972800  54976600   \n",
       "\n",
       "                           \n",
       "                 QQQ ^VIX  \n",
       "Date                       \n",
       "1999-12-31  14464400    0  \n",
       "2000-01-03  36345200    0  \n",
       "2000-01-04  33786600    0  \n",
       "2000-01-05  42496600    0  \n",
       "2000-01-06  37134800    0  \n",
       "\n",
       "[5 rows x 24 columns]"
      ]
     },
     "execution_count": 7,
     "metadata": {},
     "output_type": "execute_result"
    }
   ],
   "source": [
    "# inspected the data downloaded \n",
    "dataMulti.head()"
   ]
  },
  {
   "cell_type": "markdown",
   "id": "6444b321",
   "metadata": {},
   "source": [
    "* Open, the price at the open of a trading day \n",
    "* Close, is the price at the close of a trading day\n",
    "* Adj Close: The adjusted closing price amends a stock's closing price to reflect that stock's value after accounting for any corporate actions. Such as stock splits\n",
    "* High, the highest price of a trading day\n",
    "* Low, the lowest price of a trading day"
   ]
  },
  {
   "cell_type": "code",
   "execution_count": null,
   "id": "992663e7",
   "metadata": {},
   "outputs": [],
   "source": []
  },
  {
   "cell_type": "code",
   "execution_count": 8,
   "id": "1ee52353",
   "metadata": {},
   "outputs": [],
   "source": [
    "# for multiple tickers, the column name of this dataframe has multiple levels, we need to flatten it\n",
    "def rename_column(df):\n",
    "    '''\n",
    "    input: a dataframe with multiple levels of column name\n",
    "    output: a dataframe with flated column name \n",
    "    '''\n",
    "    col = list(df.columns)\n",
    "    newcol = [i[0] +' '+ i[1] for i in col]\n",
    "    dfCOPY = df.copy()\n",
    "    dfCOPY.columns = [''] * len(dfCOPY.columns)\n",
    "    dfCOPY.columns = newcol\n",
    "    return dfCOPY"
   ]
  },
  {
   "cell_type": "code",
   "execution_count": 9,
   "id": "f771d605",
   "metadata": {},
   "outputs": [
    {
     "data": {
      "text/html": [
       "<div>\n",
       "<style scoped>\n",
       "    .dataframe tbody tr th:only-of-type {\n",
       "        vertical-align: middle;\n",
       "    }\n",
       "\n",
       "    .dataframe tbody tr th {\n",
       "        vertical-align: top;\n",
       "    }\n",
       "\n",
       "    .dataframe thead th {\n",
       "        text-align: right;\n",
       "    }\n",
       "</style>\n",
       "<table border=\"1\" class=\"dataframe\">\n",
       "  <thead>\n",
       "    <tr style=\"text-align: right;\">\n",
       "      <th></th>\n",
       "      <th>Adj Close AAPL</th>\n",
       "      <th>Adj Close MSFT</th>\n",
       "      <th>Adj Close QQQ</th>\n",
       "      <th>Adj Close ^VIX</th>\n",
       "      <th>Close AAPL</th>\n",
       "      <th>Close MSFT</th>\n",
       "      <th>Close QQQ</th>\n",
       "      <th>Close ^VIX</th>\n",
       "      <th>High AAPL</th>\n",
       "      <th>High MSFT</th>\n",
       "      <th>...</th>\n",
       "      <th>Low QQQ</th>\n",
       "      <th>Low ^VIX</th>\n",
       "      <th>Open AAPL</th>\n",
       "      <th>Open MSFT</th>\n",
       "      <th>Open QQQ</th>\n",
       "      <th>Open ^VIX</th>\n",
       "      <th>Volume AAPL</th>\n",
       "      <th>Volume MSFT</th>\n",
       "      <th>Volume QQQ</th>\n",
       "      <th>Volume ^VIX</th>\n",
       "    </tr>\n",
       "    <tr>\n",
       "      <th>Date</th>\n",
       "      <th></th>\n",
       "      <th></th>\n",
       "      <th></th>\n",
       "      <th></th>\n",
       "      <th></th>\n",
       "      <th></th>\n",
       "      <th></th>\n",
       "      <th></th>\n",
       "      <th></th>\n",
       "      <th></th>\n",
       "      <th></th>\n",
       "      <th></th>\n",
       "      <th></th>\n",
       "      <th></th>\n",
       "      <th></th>\n",
       "      <th></th>\n",
       "      <th></th>\n",
       "      <th></th>\n",
       "      <th></th>\n",
       "      <th></th>\n",
       "      <th></th>\n",
       "    </tr>\n",
       "  </thead>\n",
       "  <tbody>\n",
       "    <tr>\n",
       "      <th>1999-12-31</th>\n",
       "      <td>0.786033</td>\n",
       "      <td>36.777348</td>\n",
       "      <td>79.050415</td>\n",
       "      <td>24.639999</td>\n",
       "      <td>0.917969</td>\n",
       "      <td>58.37500</td>\n",
       "      <td>91.37500</td>\n",
       "      <td>24.639999</td>\n",
       "      <td>0.918527</td>\n",
       "      <td>58.8750</td>\n",
       "      <td>...</td>\n",
       "      <td>91.3750</td>\n",
       "      <td>24.450001</td>\n",
       "      <td>0.901228</td>\n",
       "      <td>58.75000</td>\n",
       "      <td>92.6250</td>\n",
       "      <td>25.030001</td>\n",
       "      <td>163811200</td>\n",
       "      <td>12517600</td>\n",
       "      <td>14464400</td>\n",
       "      <td>0</td>\n",
       "    </tr>\n",
       "    <tr>\n",
       "      <th>2000-01-03</th>\n",
       "      <td>0.855796</td>\n",
       "      <td>36.718277</td>\n",
       "      <td>81.970169</td>\n",
       "      <td>24.209999</td>\n",
       "      <td>0.999442</td>\n",
       "      <td>58.28125</td>\n",
       "      <td>94.75000</td>\n",
       "      <td>24.209999</td>\n",
       "      <td>1.004464</td>\n",
       "      <td>59.3125</td>\n",
       "      <td>...</td>\n",
       "      <td>90.7500</td>\n",
       "      <td>23.980000</td>\n",
       "      <td>0.936384</td>\n",
       "      <td>58.68750</td>\n",
       "      <td>96.1875</td>\n",
       "      <td>24.360001</td>\n",
       "      <td>535796800</td>\n",
       "      <td>53228400</td>\n",
       "      <td>36345200</td>\n",
       "      <td>0</td>\n",
       "    </tr>\n",
       "    <tr>\n",
       "      <th>2000-01-04</th>\n",
       "      <td>0.783644</td>\n",
       "      <td>35.477936</td>\n",
       "      <td>76.346878</td>\n",
       "      <td>27.010000</td>\n",
       "      <td>0.915179</td>\n",
       "      <td>56.31250</td>\n",
       "      <td>88.25000</td>\n",
       "      <td>27.010000</td>\n",
       "      <td>0.987723</td>\n",
       "      <td>58.5625</td>\n",
       "      <td>...</td>\n",
       "      <td>87.9375</td>\n",
       "      <td>24.799999</td>\n",
       "      <td>0.966518</td>\n",
       "      <td>56.78125</td>\n",
       "      <td>92.0000</td>\n",
       "      <td>24.940001</td>\n",
       "      <td>512377600</td>\n",
       "      <td>54119000</td>\n",
       "      <td>33786600</td>\n",
       "      <td>0</td>\n",
       "    </tr>\n",
       "    <tr>\n",
       "      <th>2000-01-05</th>\n",
       "      <td>0.795111</td>\n",
       "      <td>35.852016</td>\n",
       "      <td>74.400352</td>\n",
       "      <td>26.410000</td>\n",
       "      <td>0.928571</td>\n",
       "      <td>56.90625</td>\n",
       "      <td>86.00000</td>\n",
       "      <td>26.410000</td>\n",
       "      <td>0.987165</td>\n",
       "      <td>58.1875</td>\n",
       "      <td>...</td>\n",
       "      <td>84.2500</td>\n",
       "      <td>25.850000</td>\n",
       "      <td>0.926339</td>\n",
       "      <td>55.56250</td>\n",
       "      <td>87.5000</td>\n",
       "      <td>27.980000</td>\n",
       "      <td>778321600</td>\n",
       "      <td>64059600</td>\n",
       "      <td>42496600</td>\n",
       "      <td>0</td>\n",
       "    </tr>\n",
       "    <tr>\n",
       "      <th>2000-01-06</th>\n",
       "      <td>0.726304</td>\n",
       "      <td>34.651043</td>\n",
       "      <td>69.290749</td>\n",
       "      <td>25.730000</td>\n",
       "      <td>0.848214</td>\n",
       "      <td>55.00000</td>\n",
       "      <td>80.09375</td>\n",
       "      <td>25.730000</td>\n",
       "      <td>0.955357</td>\n",
       "      <td>56.9375</td>\n",
       "      <td>...</td>\n",
       "      <td>79.7500</td>\n",
       "      <td>24.700001</td>\n",
       "      <td>0.947545</td>\n",
       "      <td>56.09375</td>\n",
       "      <td>86.8750</td>\n",
       "      <td>26.680000</td>\n",
       "      <td>767972800</td>\n",
       "      <td>54976600</td>\n",
       "      <td>37134800</td>\n",
       "      <td>0</td>\n",
       "    </tr>\n",
       "  </tbody>\n",
       "</table>\n",
       "<p>5 rows × 24 columns</p>\n",
       "</div>"
      ],
      "text/plain": [
       "            Adj Close AAPL  Adj Close MSFT  Adj Close QQQ  Adj Close ^VIX  \\\n",
       "Date                                                                        \n",
       "1999-12-31        0.786033       36.777348      79.050415       24.639999   \n",
       "2000-01-03        0.855796       36.718277      81.970169       24.209999   \n",
       "2000-01-04        0.783644       35.477936      76.346878       27.010000   \n",
       "2000-01-05        0.795111       35.852016      74.400352       26.410000   \n",
       "2000-01-06        0.726304       34.651043      69.290749       25.730000   \n",
       "\n",
       "            Close AAPL  Close MSFT  Close QQQ  Close ^VIX  High AAPL  \\\n",
       "Date                                                                   \n",
       "1999-12-31    0.917969    58.37500   91.37500   24.639999   0.918527   \n",
       "2000-01-03    0.999442    58.28125   94.75000   24.209999   1.004464   \n",
       "2000-01-04    0.915179    56.31250   88.25000   27.010000   0.987723   \n",
       "2000-01-05    0.928571    56.90625   86.00000   26.410000   0.987165   \n",
       "2000-01-06    0.848214    55.00000   80.09375   25.730000   0.955357   \n",
       "\n",
       "            High MSFT  ...  Low QQQ   Low ^VIX  Open AAPL  Open MSFT  \\\n",
       "Date                   ...                                             \n",
       "1999-12-31    58.8750  ...  91.3750  24.450001   0.901228   58.75000   \n",
       "2000-01-03    59.3125  ...  90.7500  23.980000   0.936384   58.68750   \n",
       "2000-01-04    58.5625  ...  87.9375  24.799999   0.966518   56.78125   \n",
       "2000-01-05    58.1875  ...  84.2500  25.850000   0.926339   55.56250   \n",
       "2000-01-06    56.9375  ...  79.7500  24.700001   0.947545   56.09375   \n",
       "\n",
       "            Open QQQ  Open ^VIX  Volume AAPL  Volume MSFT  Volume QQQ  \\\n",
       "Date                                                                    \n",
       "1999-12-31   92.6250  25.030001    163811200     12517600    14464400   \n",
       "2000-01-03   96.1875  24.360001    535796800     53228400    36345200   \n",
       "2000-01-04   92.0000  24.940001    512377600     54119000    33786600   \n",
       "2000-01-05   87.5000  27.980000    778321600     64059600    42496600   \n",
       "2000-01-06   86.8750  26.680000    767972800     54976600    37134800   \n",
       "\n",
       "            Volume ^VIX  \n",
       "Date                     \n",
       "1999-12-31            0  \n",
       "2000-01-03            0  \n",
       "2000-01-04            0  \n",
       "2000-01-05            0  \n",
       "2000-01-06            0  \n",
       "\n",
       "[5 rows x 24 columns]"
      ]
     },
     "execution_count": 9,
     "metadata": {},
     "output_type": "execute_result"
    }
   ],
   "source": [
    "stocks = rename_column(dataMulti)\n",
    "stocks.head()"
   ]
  },
  {
   "cell_type": "code",
   "execution_count": 10,
   "id": "b9a792bc",
   "metadata": {},
   "outputs": [
    {
     "name": "stdout",
     "output_type": "stream",
     "text": [
      "<class 'pandas.core.frame.DataFrame'>\n",
      "DatetimeIndex: 5597 entries, 1999-12-31 to 2022-03-29\n",
      "Data columns (total 24 columns):\n",
      " #   Column          Non-Null Count  Dtype  \n",
      "---  ------          --------------  -----  \n",
      " 0   Adj Close AAPL  5597 non-null   float64\n",
      " 1   Adj Close MSFT  5597 non-null   float64\n",
      " 2   Adj Close QQQ   5597 non-null   float64\n",
      " 3   Adj Close ^VIX  5597 non-null   float64\n",
      " 4   Close AAPL      5597 non-null   float64\n",
      " 5   Close MSFT      5597 non-null   float64\n",
      " 6   Close QQQ       5597 non-null   float64\n",
      " 7   Close ^VIX      5597 non-null   float64\n",
      " 8   High AAPL       5597 non-null   float64\n",
      " 9   High MSFT       5597 non-null   float64\n",
      " 10  High QQQ        5597 non-null   float64\n",
      " 11  High ^VIX       5597 non-null   float64\n",
      " 12  Low AAPL        5597 non-null   float64\n",
      " 13  Low MSFT        5597 non-null   float64\n",
      " 14  Low QQQ         5597 non-null   float64\n",
      " 15  Low ^VIX        5597 non-null   float64\n",
      " 16  Open AAPL       5597 non-null   float64\n",
      " 17  Open MSFT       5597 non-null   float64\n",
      " 18  Open QQQ        5597 non-null   float64\n",
      " 19  Open ^VIX       5597 non-null   float64\n",
      " 20  Volume AAPL     5597 non-null   int64  \n",
      " 21  Volume MSFT     5597 non-null   int64  \n",
      " 22  Volume QQQ      5597 non-null   int64  \n",
      " 23  Volume ^VIX     5597 non-null   int64  \n",
      "dtypes: float64(20), int64(4)\n",
      "memory usage: 1.1 MB\n"
     ]
    }
   ],
   "source": [
    "stocks.info()"
   ]
  },
  {
   "cell_type": "code",
   "execution_count": 11,
   "id": "86a47628",
   "metadata": {},
   "outputs": [
    {
     "data": {
      "text/plain": [
       "0"
      ]
     },
     "execution_count": 11,
     "metadata": {},
     "output_type": "execute_result"
    }
   ],
   "source": [
    "# Check duplicate data\n",
    "stocks.duplicated().sum()"
   ]
  },
  {
   "cell_type": "code",
   "execution_count": 12,
   "id": "d58b07d2",
   "metadata": {},
   "outputs": [
    {
     "data": {
      "text/html": [
       "<div>\n",
       "<style scoped>\n",
       "    .dataframe tbody tr th:only-of-type {\n",
       "        vertical-align: middle;\n",
       "    }\n",
       "\n",
       "    .dataframe tbody tr th {\n",
       "        vertical-align: top;\n",
       "    }\n",
       "\n",
       "    .dataframe thead th {\n",
       "        text-align: right;\n",
       "    }\n",
       "</style>\n",
       "<table border=\"1\" class=\"dataframe\">\n",
       "  <thead>\n",
       "    <tr style=\"text-align: right;\">\n",
       "      <th></th>\n",
       "      <th>Adj Close AAPL</th>\n",
       "      <th>Adj Close MSFT</th>\n",
       "      <th>Adj Close QQQ</th>\n",
       "      <th>Adj Close ^VIX</th>\n",
       "      <th>Close AAPL</th>\n",
       "      <th>Close MSFT</th>\n",
       "      <th>Close QQQ</th>\n",
       "      <th>Close ^VIX</th>\n",
       "      <th>High AAPL</th>\n",
       "      <th>High MSFT</th>\n",
       "      <th>...</th>\n",
       "      <th>Low QQQ</th>\n",
       "      <th>Low ^VIX</th>\n",
       "      <th>Open AAPL</th>\n",
       "      <th>Open MSFT</th>\n",
       "      <th>Open QQQ</th>\n",
       "      <th>Open ^VIX</th>\n",
       "      <th>Volume AAPL</th>\n",
       "      <th>Volume MSFT</th>\n",
       "      <th>Volume QQQ</th>\n",
       "      <th>Volume ^VIX</th>\n",
       "    </tr>\n",
       "    <tr>\n",
       "      <th>Date</th>\n",
       "      <th></th>\n",
       "      <th></th>\n",
       "      <th></th>\n",
       "      <th></th>\n",
       "      <th></th>\n",
       "      <th></th>\n",
       "      <th></th>\n",
       "      <th></th>\n",
       "      <th></th>\n",
       "      <th></th>\n",
       "      <th></th>\n",
       "      <th></th>\n",
       "      <th></th>\n",
       "      <th></th>\n",
       "      <th></th>\n",
       "      <th></th>\n",
       "      <th></th>\n",
       "      <th></th>\n",
       "      <th></th>\n",
       "      <th></th>\n",
       "      <th></th>\n",
       "    </tr>\n",
       "  </thead>\n",
       "  <tbody>\n",
       "  </tbody>\n",
       "</table>\n",
       "<p>0 rows × 24 columns</p>\n",
       "</div>"
      ],
      "text/plain": [
       "Empty DataFrame\n",
       "Columns: [Adj Close AAPL, Adj Close MSFT, Adj Close QQQ, Adj Close ^VIX, Close AAPL, Close MSFT, Close QQQ, Close ^VIX, High AAPL, High MSFT, High QQQ, High ^VIX, Low AAPL, Low MSFT, Low QQQ, Low ^VIX, Open AAPL, Open MSFT, Open QQQ, Open ^VIX, Volume AAPL, Volume MSFT, Volume QQQ, Volume ^VIX]\n",
       "Index: []\n",
       "\n",
       "[0 rows x 24 columns]"
      ]
     },
     "execution_count": 12,
     "metadata": {},
     "output_type": "execute_result"
    }
   ],
   "source": [
    "duplicateRows = stocks[stocks.duplicated()]\n",
    "duplicateRows.head(20)"
   ]
  },
  {
   "cell_type": "code",
   "execution_count": 13,
   "id": "e834e322",
   "metadata": {},
   "outputs": [
    {
     "data": {
      "text/plain": [
       "Adj Close AAPL    0\n",
       "Adj Close MSFT    0\n",
       "Adj Close QQQ     0\n",
       "Adj Close ^VIX    0\n",
       "Close AAPL        0\n",
       "Close MSFT        0\n",
       "Close QQQ         0\n",
       "Close ^VIX        0\n",
       "High AAPL         0\n",
       "High MSFT         0\n",
       "High QQQ          0\n",
       "High ^VIX         0\n",
       "Low AAPL          0\n",
       "Low MSFT          0\n",
       "Low QQQ           0\n",
       "Low ^VIX          0\n",
       "Open AAPL         0\n",
       "Open MSFT         0\n",
       "Open QQQ          0\n",
       "Open ^VIX         0\n",
       "Volume AAPL       0\n",
       "Volume MSFT       0\n",
       "Volume QQQ        0\n",
       "Volume ^VIX       0\n",
       "dtype: int64"
      ]
     },
     "execution_count": 13,
     "metadata": {},
     "output_type": "execute_result"
    }
   ],
   "source": [
    "# check missing data \n",
    "stocks.isna().sum()"
   ]
  },
  {
   "cell_type": "code",
   "execution_count": 14,
   "id": "2561ac43",
   "metadata": {},
   "outputs": [],
   "source": [
    "stocks.to_csv(\"downloadedDataMulti.csv\")"
   ]
  },
  {
   "cell_type": "code",
   "execution_count": null,
   "id": "db6d8fd1",
   "metadata": {},
   "outputs": [],
   "source": []
  },
  {
   "cell_type": "code",
   "execution_count": null,
   "id": "b948e990",
   "metadata": {},
   "outputs": [],
   "source": []
  },
  {
   "cell_type": "markdown",
   "id": "10d84ece",
   "metadata": {},
   "source": [
    "### Explore Data, Data Visualization and the Simple Moving Average Strategy \n",
    "\n",
    "* This section is a demo about how can we utilise the data\n",
    "* We will explore the data and define a simple moving average strategy. In order to keep it within the scope of this project, I won't discussing optimization of this strategy\n",
    "* The book Python for Finance by Yves Hilpisch is extremely helpful\n",
    "* In this section Generate Simple Moving Averages using Adjusted close price"
   ]
  },
  {
   "cell_type": "markdown",
   "id": "24ec866f",
   "metadata": {},
   "source": [
    "There are two types of basic and simple trade strategies: trend following and mean reversion. A trend following strategy is to identify the stocks that are in up or down trend, we would like to long(buy) when the stock price is trending up, and short short selling) when the stock price is trending down.  A mean reversion trading strategy based on the assumption that a financial asset’s price will eventually reverse to the long-term mean.  So, we will sell an overbought asset and buy an overbought asset and expecting the price will reverse to the mean. The deviation from the long-term mean is measured by standard deviation. \n",
    "\n",
    " Funds and trading house seldom use strategies that is so simple, however this project is not about how to earn money on the financial market. To keep it relevant and more understandable, in the Data Exploration section, I will demonstrate how to build a Simple Moving Average strategy which is a basic trend following strategy. If you are interested in more advanced topics, Udacity’s. AI For Trading nanodegree might be a good place to start"
   ]
  },
  {
   "cell_type": "code",
   "execution_count": 15,
   "id": "770eef82",
   "metadata": {},
   "outputs": [],
   "source": [
    "# We have downloaded multiple columns, but here we only need Adjusted close price\n",
    "# Change the variable symbol if you need to run it with other stock data\n",
    "# Define a function to cleanup data \n",
    "def cleanData(symbol, df):\n",
    "    '''\n",
    "       input: \n",
    "             df: a dataframe that contains stock data\n",
    "             symbol: symbol of a stock that you're intereted in \n",
    "       output: cleaned dataframe with one column: price\n",
    "    '''\n",
    "    symbol = symbol\n",
    "    close = stocks.loc[:, stocks.columns.str.startswith('Adj Close')]\n",
    "    strSymbol = 'Adj Close '+ symbol\n",
    "    stock = pd.DataFrame(close[strSymbol])\n",
    "    stock.rename(columns={strSymbol: 'price'}, inplace=True)\n",
    "    return stock "
   ]
  },
  {
   "cell_type": "code",
   "execution_count": 16,
   "id": "7399d06e",
   "metadata": {},
   "outputs": [
    {
     "data": {
      "text/html": [
       "<div>\n",
       "<style scoped>\n",
       "    .dataframe tbody tr th:only-of-type {\n",
       "        vertical-align: middle;\n",
       "    }\n",
       "\n",
       "    .dataframe tbody tr th {\n",
       "        vertical-align: top;\n",
       "    }\n",
       "\n",
       "    .dataframe thead th {\n",
       "        text-align: right;\n",
       "    }\n",
       "</style>\n",
       "<table border=\"1\" class=\"dataframe\">\n",
       "  <thead>\n",
       "    <tr style=\"text-align: right;\">\n",
       "      <th></th>\n",
       "      <th>price</th>\n",
       "    </tr>\n",
       "    <tr>\n",
       "      <th>Date</th>\n",
       "      <th></th>\n",
       "    </tr>\n",
       "  </thead>\n",
       "  <tbody>\n",
       "    <tr>\n",
       "      <th>1999-12-31</th>\n",
       "      <td>79.050415</td>\n",
       "    </tr>\n",
       "    <tr>\n",
       "      <th>2000-01-03</th>\n",
       "      <td>81.970169</td>\n",
       "    </tr>\n",
       "    <tr>\n",
       "      <th>2000-01-04</th>\n",
       "      <td>76.346878</td>\n",
       "    </tr>\n",
       "    <tr>\n",
       "      <th>2000-01-05</th>\n",
       "      <td>74.400352</td>\n",
       "    </tr>\n",
       "    <tr>\n",
       "      <th>2000-01-06</th>\n",
       "      <td>69.290749</td>\n",
       "    </tr>\n",
       "  </tbody>\n",
       "</table>\n",
       "</div>"
      ],
      "text/plain": [
       "                price\n",
       "Date                 \n",
       "1999-12-31  79.050415\n",
       "2000-01-03  81.970169\n",
       "2000-01-04  76.346878\n",
       "2000-01-05  74.400352\n",
       "2000-01-06  69.290749"
      ]
     },
     "execution_count": 16,
     "metadata": {},
     "output_type": "execute_result"
    }
   ],
   "source": [
    "# Clean the data and get a dataframe with the index of date and a col of price\n",
    "# This dataset will be used in the later section as the input data of the model\n",
    "symbol = 'QQQ'\n",
    "stock = cleanData(symbol,stocks)\n",
    "stock.head()"
   ]
  },
  {
   "cell_type": "code",
   "execution_count": null,
   "id": "c46907e4",
   "metadata": {},
   "outputs": [],
   "source": []
  },
  {
   "cell_type": "code",
   "execution_count": 17,
   "id": "3b752a80",
   "metadata": {},
   "outputs": [
    {
     "data": {
      "text/plain": [
       "price    0\n",
       "dtype: int64"
      ]
     },
     "execution_count": 17,
     "metadata": {},
     "output_type": "execute_result"
    }
   ],
   "source": [
    "# check missing data \n",
    "stock.isna().sum()"
   ]
  },
  {
   "cell_type": "markdown",
   "id": "30985671",
   "metadata": {},
   "source": [
    "#### Visualization: Financial Data plots "
   ]
  },
  {
   "cell_type": "markdown",
   "id": "23548619",
   "metadata": {},
   "source": [
    "\n",
    "* Candle chart is one of the most used charts among financial institutions and professional traders. The chart plot out Open, High, Low, Close  price of a financial instrument. \n",
    "\n",
    "* The function plotCandelChart ( ), takes a dataframe, period and symbol as input and plot out a candle chart with Bollinger Band and Relative Strength indictor (RSI)\n"
   ]
  },
  {
   "cell_type": "code",
   "execution_count": 18,
   "id": "56f96e86",
   "metadata": {},
   "outputs": [],
   "source": [
    "def plotCandleChart(df,period,symbol):\n",
    "    '''\n",
    "        Input: \n",
    "             df: dataframe that contains historical pricing data\n",
    "             period:an int numbr of days/interval, the last n days of the dataset\n",
    "             symbol: the ticker symbol(a string) of the financial instrument\n",
    "        Output:\n",
    "             candle charts with bollinger band and RSI              \n",
    "    '''\n",
    "    subSet = df.tail(period)\n",
    "    ticker = symbol\n",
    "    OHLC = subSet[[\"Open \" + ticker,\"High \"+ ticker,\"Low \"+ ticker, \"Adj Close \"+ ticker ]]\n",
    "    OHLC.head()\n",
    "    candle = cf.QuantFig(\n",
    "             OHLC,\n",
    "             title = ticker + \" candle chart \",\n",
    "             legend = 'top',\n",
    "             name =ticker)\n",
    "\n",
    "    candle.add_bollinger_bands(periods = 15,boll_std =2)\n",
    "    candle.add_rsi(periods=14, showbands=True)\n",
    "    plyo.iplot(\n",
    "             candle.iplot(asFigure = True),\n",
    "             image = 'png',\n",
    "             filename = ticker + \" candle chart \") "
   ]
  },
  {
   "cell_type": "code",
   "execution_count": 19,
   "id": "a608c7cc",
   "metadata": {},
   "outputs": [
    {
     "data": {
      "application/vnd.plotly.v1+json": {
       "config": {
        "linkText": "Export to plot.ly",
        "plotlyServerURL": "https://plot.ly",
        "showLink": false
       },
       "data": [
        {
         "legendgroup": "BOLL(Adj Close QQQ,15)",
         "line": {
          "color": "rgba(55, 128, 191, 1.0)",
          "dash": "solid",
          "shape": "linear",
          "width": 1.3
         },
         "mode": "lines",
         "name": "BOLL(Adj Close QQQ,15)",
         "showlegend": true,
         "text": "",
         "type": "scatter",
         "x": [
          "2021-11-04",
          "2021-11-05",
          "2021-11-08",
          "2021-11-09",
          "2021-11-10",
          "2021-11-11",
          "2021-11-12",
          "2021-11-15",
          "2021-11-16",
          "2021-11-17",
          "2021-11-18",
          "2021-11-19",
          "2021-11-22",
          "2021-11-23",
          "2021-11-24",
          "2021-11-26",
          "2021-11-29",
          "2021-11-30",
          "2021-12-01",
          "2021-12-02",
          "2021-12-03",
          "2021-12-06",
          "2021-12-07",
          "2021-12-08",
          "2021-12-09",
          "2021-12-10",
          "2021-12-13",
          "2021-12-14",
          "2021-12-15",
          "2021-12-16",
          "2021-12-17",
          "2021-12-20",
          "2021-12-21",
          "2021-12-22",
          "2021-12-23",
          "2021-12-27",
          "2021-12-28",
          "2021-12-29",
          "2021-12-30",
          "2021-12-31",
          "2022-01-03",
          "2022-01-04",
          "2022-01-05",
          "2022-01-06",
          "2022-01-07",
          "2022-01-10",
          "2022-01-11",
          "2022-01-12",
          "2022-01-13",
          "2022-01-14",
          "2022-01-18",
          "2022-01-19",
          "2022-01-20",
          "2022-01-21",
          "2022-01-24",
          "2022-01-25",
          "2022-01-26",
          "2022-01-27",
          "2022-01-28",
          "2022-01-31",
          "2022-02-01",
          "2022-02-02",
          "2022-02-03",
          "2022-02-04",
          "2022-02-07",
          "2022-02-08",
          "2022-02-09",
          "2022-02-10",
          "2022-02-11",
          "2022-02-14",
          "2022-02-15",
          "2022-02-16",
          "2022-02-17",
          "2022-02-18",
          "2022-02-22",
          "2022-02-23",
          "2022-02-24",
          "2022-02-25",
          "2022-02-28",
          "2022-03-01",
          "2022-03-02",
          "2022-03-03",
          "2022-03-04",
          "2022-03-07",
          "2022-03-08",
          "2022-03-09",
          "2022-03-10",
          "2022-03-11",
          "2022-03-14",
          "2022-03-15",
          "2022-03-16",
          "2022-03-17",
          "2022-03-18",
          "2022-03-21",
          "2022-03-22",
          "2022-03-23",
          "2022-03-24",
          "2022-03-25",
          "2022-03-28",
          "2022-03-29"
         ],
         "y": [
          "",
          "",
          "",
          "",
          "",
          "",
          "",
          "",
          "",
          "",
          "",
          "",
          "",
          "",
          396.0665242513021,
          395.5996988932292,
          395.67218221028645,
          395.390224202474,
          394.8449300130208,
          394.8715291341146,
          394.3754435221354,
          393.81019897460936,
          394.024326578776,
          394.1699584960937,
          393.9106119791667,
          393.6619059244792,
          392.8818684895833,
          392.1437255859375,
          392.11512858072916,
          391.3224568684896,
          390.9041748046875,
          389.6730204264323,
          389.39951375325523,
          389.8871643066406,
          390.3870381673177,
          391.774570719401,
          392.83343505859375,
          393.1149190266927,
          393.19813232421876,
          393.5059000651042,
          393.78406778971356,
          394.0977030436198,
          393.8703287760417,
          393.0364583333333,
          392.60455525716145,
          392.31764119466146,
          392.659218343099,
          392.5353719075521,
          391.4507141113281,
          390.32477213541665,
          388.13214721679685,
          385.7930419921875,
          383.1409871419271,
          379.90099283854164,
          376.934657796224,
          373.16798095703126,
          369.7122538248698,
          366.8364766438802,
          364.6911295572917,
          363.5718465169271,
          362.6003824869792,
          361.44647623697915,
          359.1959248860677,
          357.8875427246094,
          356.2309244791667,
          355.46986694335936,
          355.48651326497395,
          355.2674519856771,
          354.95916748046875,
          354.5723124186198,
          355.3060729980469,
          356.0697957356771,
          356.35943806966145,
          355.6742858886719,
          354.0116739908854,
          351.6079793294271,
          349.7436157226563,
          349.2255900065104,
          348.4791768391927,
          347.5709655761719,
          346.7786112467448,
          345.1492919921875,
          343.74236450195315,
          342.2641906738281,
          340.65684611002604,
          339.24925130208334,
          337.59995727539064,
          336.19835408528644,
          334.64427693684894,
          333.98309529622395,
          334.7088643391927,
          334.971875,
          335.3527364095052,
          335.599951171875,
          336.6593953450521,
          336.9953104654948,
          338.1828165690104,
          339.6805826822917,
          342.3773254394531,
          345.59327596028646
         ],
         "yaxis": "y2"
        },
        {
         "legendgroup": "BOLL(Adj Close QQQ,15)",
         "line": {
          "color": "rgba(55, 128, 191, 0.8999999999999999)",
          "dash": "solid",
          "shape": "linear",
          "width": 1.3
         },
         "mode": "lines",
         "name": "UPPER(Adj Close QQQ,15)",
         "showlegend": false,
         "text": "",
         "type": "scatter",
         "x": [
          "2021-11-04",
          "2021-11-05",
          "2021-11-08",
          "2021-11-09",
          "2021-11-10",
          "2021-11-11",
          "2021-11-12",
          "2021-11-15",
          "2021-11-16",
          "2021-11-17",
          "2021-11-18",
          "2021-11-19",
          "2021-11-22",
          "2021-11-23",
          "2021-11-24",
          "2021-11-26",
          "2021-11-29",
          "2021-11-30",
          "2021-12-01",
          "2021-12-02",
          "2021-12-03",
          "2021-12-06",
          "2021-12-07",
          "2021-12-08",
          "2021-12-09",
          "2021-12-10",
          "2021-12-13",
          "2021-12-14",
          "2021-12-15",
          "2021-12-16",
          "2021-12-17",
          "2021-12-20",
          "2021-12-21",
          "2021-12-22",
          "2021-12-23",
          "2021-12-27",
          "2021-12-28",
          "2021-12-29",
          "2021-12-30",
          "2021-12-31",
          "2022-01-03",
          "2022-01-04",
          "2022-01-05",
          "2022-01-06",
          "2022-01-07",
          "2022-01-10",
          "2022-01-11",
          "2022-01-12",
          "2022-01-13",
          "2022-01-14",
          "2022-01-18",
          "2022-01-19",
          "2022-01-20",
          "2022-01-21",
          "2022-01-24",
          "2022-01-25",
          "2022-01-26",
          "2022-01-27",
          "2022-01-28",
          "2022-01-31",
          "2022-02-01",
          "2022-02-02",
          "2022-02-03",
          "2022-02-04",
          "2022-02-07",
          "2022-02-08",
          "2022-02-09",
          "2022-02-10",
          "2022-02-11",
          "2022-02-14",
          "2022-02-15",
          "2022-02-16",
          "2022-02-17",
          "2022-02-18",
          "2022-02-22",
          "2022-02-23",
          "2022-02-24",
          "2022-02-25",
          "2022-02-28",
          "2022-03-01",
          "2022-03-02",
          "2022-03-03",
          "2022-03-04",
          "2022-03-07",
          "2022-03-08",
          "2022-03-09",
          "2022-03-10",
          "2022-03-11",
          "2022-03-14",
          "2022-03-15",
          "2022-03-16",
          "2022-03-17",
          "2022-03-18",
          "2022-03-21",
          "2022-03-22",
          "2022-03-23",
          "2022-03-24",
          "2022-03-25",
          "2022-03-28",
          "2022-03-29"
         ],
         "y": [
          "",
          "",
          "",
          "",
          "",
          "",
          "",
          "",
          "",
          "",
          "",
          "",
          "",
          "",
          403.54513511147337,
          403.62378220391804,
          403.7927674642473,
          403.5973282334427,
          404.34024847108986,
          404.2930155764136,
          405.59608888510127,
          405.9879691083516,
          406.3003205111749,
          406.61852122786786,
          406.30126628759734,
          405.60663152979055,
          403.6941977746627,
          402.88284360342954,
          402.8069075178035,
          401.9837685406515,
          402.22313715140757,
          401.37474901997393,
          400.97591530990354,
          401.49292743212925,
          402.4532204847404,
          404.5560886887249,
          405.9197065109065,
          406.74032512594465,
          406.98162772678177,
          407.4509844613752,
          408.187762165046,
          408.47218558783476,
          408.8075274090044,
          408.8235913405419,
          409.5443966978424,
          410.01496215400397,
          409.5345247719184,
          409.56087940587634,
          410.2077771075844,
          409.81421391399584,
          408.8786914473525,
          408.11843299261,
          407.08910590730306,
          407.0888003359657,
          405.6269724062588,
          403.0278211454462,
          400.24774545602656,
          399.7147964196504,
          397.0928590814326,
          394.94080736347945,
          392.71407018135324,
          389.0468304822198,
          383.1795568255645,
          379.7069552795206,
          374.48696302690564,
          372.1315580644201,
          372.19384604675645,
          371.73403900761593,
          371.91356390469707,
          371.9900964569665,
          371.84364627040094,
          371.4132649436805,
          370.58073395013497,
          371.79069805992884,
          372.0913014837802,
          372.7202876279922,
          369.5368607764538,
          369.04756904731744,
          367.79149808539455,
          366.9125207824291,
          365.11819496628885,
          360.092918122507,
          357.4266157958431,
          359.0497042168545,
          359.9099306954739,
          356.80433122702067,
          353.09958480821535,
          352.59725050445786,
          353.3176697603236,
          352.89922526656824,
          353.6431608148667,
          354.33015657286853,
          355.78074067519566,
          356.67883654604634,
          360.3516470453635,
          361.4343269539614,
          365.2228166252497,
          368.8195491673857,
          372.9317937898614,
          377.509047361003
         ],
         "yaxis": "y2"
        },
        {
         "fill": "tonexty",
         "fillcolor": "rgba(55, 128, 191, 0.1)",
         "legendgroup": "BOLL(Adj Close QQQ,15)",
         "line": {
          "color": "rgba(55, 128, 191, 0.7999999999999998)",
          "dash": "solid",
          "shape": "linear",
          "width": 1.3
         },
         "mode": "lines",
         "name": "LOWER(Adj Close QQQ,15)",
         "showlegend": false,
         "text": "",
         "type": "scatter",
         "x": [
          "2021-11-04",
          "2021-11-05",
          "2021-11-08",
          "2021-11-09",
          "2021-11-10",
          "2021-11-11",
          "2021-11-12",
          "2021-11-15",
          "2021-11-16",
          "2021-11-17",
          "2021-11-18",
          "2021-11-19",
          "2021-11-22",
          "2021-11-23",
          "2021-11-24",
          "2021-11-26",
          "2021-11-29",
          "2021-11-30",
          "2021-12-01",
          "2021-12-02",
          "2021-12-03",
          "2021-12-06",
          "2021-12-07",
          "2021-12-08",
          "2021-12-09",
          "2021-12-10",
          "2021-12-13",
          "2021-12-14",
          "2021-12-15",
          "2021-12-16",
          "2021-12-17",
          "2021-12-20",
          "2021-12-21",
          "2021-12-22",
          "2021-12-23",
          "2021-12-27",
          "2021-12-28",
          "2021-12-29",
          "2021-12-30",
          "2021-12-31",
          "2022-01-03",
          "2022-01-04",
          "2022-01-05",
          "2022-01-06",
          "2022-01-07",
          "2022-01-10",
          "2022-01-11",
          "2022-01-12",
          "2022-01-13",
          "2022-01-14",
          "2022-01-18",
          "2022-01-19",
          "2022-01-20",
          "2022-01-21",
          "2022-01-24",
          "2022-01-25",
          "2022-01-26",
          "2022-01-27",
          "2022-01-28",
          "2022-01-31",
          "2022-02-01",
          "2022-02-02",
          "2022-02-03",
          "2022-02-04",
          "2022-02-07",
          "2022-02-08",
          "2022-02-09",
          "2022-02-10",
          "2022-02-11",
          "2022-02-14",
          "2022-02-15",
          "2022-02-16",
          "2022-02-17",
          "2022-02-18",
          "2022-02-22",
          "2022-02-23",
          "2022-02-24",
          "2022-02-25",
          "2022-02-28",
          "2022-03-01",
          "2022-03-02",
          "2022-03-03",
          "2022-03-04",
          "2022-03-07",
          "2022-03-08",
          "2022-03-09",
          "2022-03-10",
          "2022-03-11",
          "2022-03-14",
          "2022-03-15",
          "2022-03-16",
          "2022-03-17",
          "2022-03-18",
          "2022-03-21",
          "2022-03-22",
          "2022-03-23",
          "2022-03-24",
          "2022-03-25",
          "2022-03-28",
          "2022-03-29"
         ],
         "y": [
          "",
          "",
          "",
          "",
          "",
          "",
          "",
          "",
          "",
          "",
          "",
          "",
          "",
          "",
          388.5879133911308,
          387.5756155825403,
          387.5515969563256,
          387.18312017150527,
          385.34961155495176,
          385.4500426918156,
          383.15479815916956,
          381.63242884086714,
          381.74833264637715,
          381.7213957643196,
          381.519957670736,
          381.7171803191678,
          382.06953920450394,
          381.40460756844544,
          381.42334964365483,
          380.6611451963277,
          379.58521245796743,
          377.97129183289064,
          377.8231121966069,
          378.281401181152,
          378.320855849895,
          378.99305275007714,
          379.747163606281,
          379.4895129274407,
          379.41463692165576,
          379.5608156688332,
          379.3803734143811,
          379.7232204994048,
          378.9331301430789,
          377.24932532612473,
          375.6647138164805,
          374.62032023531896,
          375.78391191427954,
          375.5098644092278,
          372.6936511150719,
          370.83533035683746,
          367.3856029862412,
          363.467650991765,
          359.19286837655113,
          352.7131853411176,
          348.24234318618915,
          343.30814076861634,
          339.176762193713,
          333.95815686811,
          332.28940003315074,
          332.20288567037477,
          332.48669479260514,
          333.8461219917385,
          335.2122929465709,
          336.0681301696981,
          337.9748859314277,
          338.8081758222986,
          338.77918048319145,
          338.80086496373826,
          338.00477105624043,
          337.15452838027306,
          338.76849972569283,
          340.7263265276737,
          342.13814218918793,
          339.5578737174149,
          335.9320464979906,
          330.495671030862,
          329.95037066885874,
          329.40361096570336,
          329.1668555929908,
          328.22941036991466,
          328.4390275272007,
          330.205665861868,
          330.0581132080632,
          325.47867713080177,
          321.40376152457816,
          321.694171377146,
          322.1003297425659,
          319.799457666115,
          315.97088411337427,
          315.06696532587966,
          315.7745678635187,
          315.6135934271315,
          314.92473214381477,
          314.5210657977036,
          312.96714364474064,
          312.55629397702825,
          311.1428165127711,
          310.5416161971977,
          311.8228570890448,
          313.6775045595699
         ],
         "yaxis": "y2"
        },
        {
         "legendgroup": "RSI(Adj Close QQQ,14)",
         "line": {
          "color": "rgba(55, 128, 191, 1.0)",
          "dash": "solid",
          "shape": "linear",
          "width": 1.3
         },
         "mode": "lines",
         "name": "RSI(Adj Close QQQ,14)",
         "showlegend": true,
         "text": "",
         "type": "scatter",
         "x": [
          "2021-11-04",
          "2021-11-05",
          "2021-11-08",
          "2021-11-09",
          "2021-11-10",
          "2021-11-11",
          "2021-11-12",
          "2021-11-15",
          "2021-11-16",
          "2021-11-17",
          "2021-11-18",
          "2021-11-19",
          "2021-11-22",
          "2021-11-23",
          "2021-11-24",
          "2021-11-26",
          "2021-11-29",
          "2021-11-30",
          "2021-12-01",
          "2021-12-02",
          "2021-12-03",
          "2021-12-06",
          "2021-12-07",
          "2021-12-08",
          "2021-12-09",
          "2021-12-10",
          "2021-12-13",
          "2021-12-14",
          "2021-12-15",
          "2021-12-16",
          "2021-12-17",
          "2021-12-20",
          "2021-12-21",
          "2021-12-22",
          "2021-12-23",
          "2021-12-27",
          "2021-12-28",
          "2021-12-29",
          "2021-12-30",
          "2021-12-31",
          "2022-01-03",
          "2022-01-04",
          "2022-01-05",
          "2022-01-06",
          "2022-01-07",
          "2022-01-10",
          "2022-01-11",
          "2022-01-12",
          "2022-01-13",
          "2022-01-14",
          "2022-01-18",
          "2022-01-19",
          "2022-01-20",
          "2022-01-21",
          "2022-01-24",
          "2022-01-25",
          "2022-01-26",
          "2022-01-27",
          "2022-01-28",
          "2022-01-31",
          "2022-02-01",
          "2022-02-02",
          "2022-02-03",
          "2022-02-04",
          "2022-02-07",
          "2022-02-08",
          "2022-02-09",
          "2022-02-10",
          "2022-02-11",
          "2022-02-14",
          "2022-02-15",
          "2022-02-16",
          "2022-02-17",
          "2022-02-18",
          "2022-02-22",
          "2022-02-23",
          "2022-02-24",
          "2022-02-25",
          "2022-02-28",
          "2022-03-01",
          "2022-03-02",
          "2022-03-03",
          "2022-03-04",
          "2022-03-07",
          "2022-03-08",
          "2022-03-09",
          "2022-03-10",
          "2022-03-11",
          "2022-03-14",
          "2022-03-15",
          "2022-03-16",
          "2022-03-17",
          "2022-03-18",
          "2022-03-21",
          "2022-03-22",
          "2022-03-23",
          "2022-03-24",
          "2022-03-25",
          "2022-03-28",
          "2022-03-29"
         ],
         "y": [
          "",
          "",
          "",
          "",
          "",
          "",
          "",
          "",
          "",
          "",
          "",
          "",
          "",
          48.79245286786828,
          50.845849347761494,
          40.53706808929174,
          51.73217415052687,
          48.505398830609025,
          47.66007233140893,
          49.35579626850488,
          39.56717633401455,
          42.80335339274185,
          50.30480675706538,
          51.43851934111337,
          44.31851135500142,
          45.88268799428388,
          45.22257341742087,
          43.88829337094499,
          48.975917676188956,
          47.46923156699868,
          40.71372826425438,
          41.83678306771287,
          51.6317278550944,
          52.796464143332514,
          59.232845598233204,
          60.995264695040696,
          53.016174768667796,
          51.766045163740365,
          55.50535769283821,
          50.276339697476146,
          58.1318461679493,
          57.05136650921691,
          40.64525219028655,
          47.90649949382944,
          46.056156128691875,
          49.466097485654686,
          46.70938832456596,
          43.16769361185268,
          32.49727323415533,
          26.90410154887533,
          23.40749809683014,
          21.903509484842772,
          20.721498930308144,
          18.598595202937304,
          16.063368879770678,
          15.418763763483696,
          18.284850756027623,
          17.395896148920002,
          30.610798843490798,
          39.76727947173283,
          37.33148699509978,
          38.437953661227574,
          36.113324669948994,
          37.62934546290496,
          40.63639932818413,
          45.526376687347636,
          52.943267172678524,
          54.04174105768639,
          46.65022004464864,
          51.39375846148505,
          56.183146023711394,
          58.29077017249653,
          46.471849529141934,
          36.97389831247595,
          33.596387144289196,
          28.13167530626241,
          42.35899914834219,
          42.906803544526504,
          45.06691005711882,
          39.72010987793202,
          38.368892536920846,
          39.960266327913594,
          43.41607699014538,
          36.86289034008508,
          29.253154642763903,
          38.37657589378963,
          41.52723305262212,
          40.12236945018417,
          38.86590849596366,
          49.30011995826718,
          49.90744890723828,
          49.2665809126701,
          52.425277033214904,
          54.88473575904348,
          55.44363975579432,
          55.33927294298972,
          61.803150662737835,
          70.69027982321622,
          73.7407772572733,
          72.05004171981196
         ],
         "yaxis": "y3"
        },
        {
         "legendgroup": "RSI(Adj Close QQQ,14)",
         "line": {
          "color": "grey",
          "width": 1
         },
         "mode": "lines",
         "name": "",
         "showlegend": true,
         "text": "",
         "type": "scatter",
         "x": [
          "2021-11-04",
          "2021-11-05",
          "2021-11-08",
          "2021-11-09",
          "2021-11-10",
          "2021-11-11",
          "2021-11-12",
          "2021-11-15",
          "2021-11-16",
          "2021-11-17",
          "2021-11-18",
          "2021-11-19",
          "2021-11-22",
          "2021-11-23",
          "2021-11-24",
          "2021-11-26",
          "2021-11-29",
          "2021-11-30",
          "2021-12-01",
          "2021-12-02",
          "2021-12-03",
          "2021-12-06",
          "2021-12-07",
          "2021-12-08",
          "2021-12-09",
          "2021-12-10",
          "2021-12-13",
          "2021-12-14",
          "2021-12-15",
          "2021-12-16",
          "2021-12-17",
          "2021-12-20",
          "2021-12-21",
          "2021-12-22",
          "2021-12-23",
          "2021-12-27",
          "2021-12-28",
          "2021-12-29",
          "2021-12-30",
          "2021-12-31",
          "2022-01-03",
          "2022-01-04",
          "2022-01-05",
          "2022-01-06",
          "2022-01-07",
          "2022-01-10",
          "2022-01-11",
          "2022-01-12",
          "2022-01-13",
          "2022-01-14",
          "2022-01-18",
          "2022-01-19",
          "2022-01-20",
          "2022-01-21",
          "2022-01-24",
          "2022-01-25",
          "2022-01-26",
          "2022-01-27",
          "2022-01-28",
          "2022-01-31",
          "2022-02-01",
          "2022-02-02",
          "2022-02-03",
          "2022-02-04",
          "2022-02-07",
          "2022-02-08",
          "2022-02-09",
          "2022-02-10",
          "2022-02-11",
          "2022-02-14",
          "2022-02-15",
          "2022-02-16",
          "2022-02-17",
          "2022-02-18",
          "2022-02-22",
          "2022-02-23",
          "2022-02-24",
          "2022-02-25",
          "2022-02-28",
          "2022-03-01",
          "2022-03-02",
          "2022-03-03",
          "2022-03-04",
          "2022-03-07",
          "2022-03-08",
          "2022-03-09",
          "2022-03-10",
          "2022-03-11",
          "2022-03-14",
          "2022-03-15",
          "2022-03-16",
          "2022-03-17",
          "2022-03-18",
          "2022-03-21",
          "2022-03-22",
          "2022-03-23",
          "2022-03-24",
          "2022-03-25",
          "2022-03-28",
          "2022-03-29"
         ],
         "y": [
          30,
          30,
          30,
          30,
          30,
          30,
          30,
          30,
          30,
          30,
          30,
          30,
          30,
          30,
          30,
          30,
          30,
          30,
          30,
          30,
          30,
          30,
          30,
          30,
          30,
          30,
          30,
          30,
          30,
          30,
          30,
          30,
          30,
          30,
          30,
          30,
          30,
          30,
          30,
          30,
          30,
          30,
          30,
          30,
          30,
          30,
          30,
          30,
          30,
          30,
          30,
          30,
          30,
          30,
          30,
          30,
          30,
          30,
          30,
          30,
          30,
          30,
          30,
          30,
          30,
          30,
          30,
          30,
          30,
          30,
          30,
          30,
          30,
          30,
          30,
          30,
          30,
          30,
          30,
          30,
          30,
          30,
          30,
          30,
          30,
          30,
          30,
          30,
          30,
          30,
          30,
          30,
          30,
          30,
          30,
          30,
          30,
          30,
          30,
          30
         ],
         "yaxis": "y3"
        },
        {
         "legendgroup": "RSI(Adj Close QQQ,14)",
         "line": {
          "color": "#17BECF",
          "width": 1
         },
         "mode": "lines",
         "name": "",
         "showlegend": true,
         "text": "",
         "type": "scatter",
         "x": [
          "2021-11-04",
          "2021-11-05",
          "2021-11-08",
          "2021-11-09",
          "2021-11-10",
          "2021-11-11",
          "2021-11-12",
          "2021-11-15",
          "2021-11-16",
          "2021-11-17",
          "2021-11-18",
          "2021-11-19",
          "2021-11-22",
          "2021-11-23",
          "2021-11-24",
          "2021-11-26",
          "2021-11-29",
          "2021-11-30",
          "2021-12-01",
          "2021-12-02",
          "2021-12-03",
          "2021-12-06",
          "2021-12-07",
          "2021-12-08",
          "2021-12-09",
          "2021-12-10",
          "2021-12-13",
          "2021-12-14",
          "2021-12-15",
          "2021-12-16",
          "2021-12-17",
          "2021-12-20",
          "2021-12-21",
          "2021-12-22",
          "2021-12-23",
          "2021-12-27",
          "2021-12-28",
          "2021-12-29",
          "2021-12-30",
          "2021-12-31",
          "2022-01-03",
          "2022-01-04",
          "2022-01-05",
          "2022-01-06",
          "2022-01-07",
          "2022-01-10",
          "2022-01-11",
          "2022-01-12",
          "2022-01-13",
          "2022-01-14",
          "2022-01-18",
          "2022-01-19",
          "2022-01-20",
          "2022-01-21",
          "2022-01-24",
          "2022-01-25",
          "2022-01-26",
          "2022-01-27",
          "2022-01-28",
          "2022-01-31",
          "2022-02-01",
          "2022-02-02",
          "2022-02-03",
          "2022-02-04",
          "2022-02-07",
          "2022-02-08",
          "2022-02-09",
          "2022-02-10",
          "2022-02-11",
          "2022-02-14",
          "2022-02-15",
          "2022-02-16",
          "2022-02-17",
          "2022-02-18",
          "2022-02-22",
          "2022-02-23",
          "2022-02-24",
          "2022-02-25",
          "2022-02-28",
          "2022-03-01",
          "2022-03-02",
          "2022-03-03",
          "2022-03-04",
          "2022-03-07",
          "2022-03-08",
          "2022-03-09",
          "2022-03-10",
          "2022-03-11",
          "2022-03-14",
          "2022-03-15",
          "2022-03-16",
          "2022-03-17",
          "2022-03-18",
          "2022-03-21",
          "2022-03-22",
          "2022-03-23",
          "2022-03-24",
          "2022-03-25",
          "2022-03-28",
          "2022-03-29"
         ],
         "y": [
          70,
          70,
          70,
          70,
          70,
          70,
          70,
          70,
          70,
          70,
          70,
          70,
          70,
          70,
          70,
          70,
          70,
          70,
          70,
          70,
          70,
          70,
          70,
          70,
          70,
          70,
          70,
          70,
          70,
          70,
          70,
          70,
          70,
          70,
          70,
          70,
          70,
          70,
          70,
          70,
          70,
          70,
          70,
          70,
          70,
          70,
          70,
          70,
          70,
          70,
          70,
          70,
          70,
          70,
          70,
          70,
          70,
          70,
          70,
          70,
          70,
          70,
          70,
          70,
          70,
          70,
          70,
          70,
          70,
          70,
          70,
          70,
          70,
          70,
          70,
          70,
          70,
          70,
          70,
          70,
          70,
          70,
          70,
          70,
          70,
          70,
          70,
          70,
          70,
          70,
          70,
          70,
          70,
          70,
          70,
          70,
          70,
          70,
          70,
          70
         ],
         "yaxis": "y3"
        },
        {
         "close": [
          397.220947265625,
          397.6000061035156,
          397.0613708496094,
          394.3282165527344,
          388.5328063964844,
          389.610107421875,
          393.70977783203125,
          393.6199951171875,
          396.4229736328125,
          396.6324462890625,
          400.7420959472656,
          402.9764709472656,
          398.2982482910156,
          396.4828186035156,
          397.75958251953125,
          390.21856689453125,
          398.687255859375,
          392.8320007324219,
          386.1488037109375,
          388.9317932128906,
          382.1688232421875,
          385.2311096191406,
          396.8319091796875,
          398.6074523925781,
          392.74224853515625,
          397.0115051269531,
          391.2759094238281,
          387.2261047363281,
          396.0538635253906,
          385.8695068359375,
          383.9443359375,
          380.2199401855469,
          388.7294006347656,
          393.46356201171875,
          396.4299011230469,
          402.9818115234375,
          401.11407470703125,
          401.0541687011719,
          399.85565185546875,
          397.3587646484375,
          401.18402099609375,
          395.9804382324219,
          383.81549072265625,
          383.5458068847656,
          379.3909606933594,
          379.640625,
          385.3435974121094,
          386.8717041015625,
          377.1936950683594,
          379.540771484375,
          370.0924377441406,
          366.0274963378906,
          361.2733459472656,
          351.2557373046875,
          352.8637390136719,
          344.6838684082031,
          344.14453125,
          340.6788330078125,
          351.3656005859375,
          362.6017150878906,
          365.06866455078125,
          368.0350036621094,
          353.1134338378906,
          357.5679626464844,
          354.6914978027344,
          358.67657470703125,
          366.2771911621094,
          357.9874267578125,
          346.6314697265625,
          347.0609130859375,
          355.6902770996094,
          355.6003723144531,
          345.0234680175781,
          341.08831787109375,
          337.66253662109375,
          329.01324462890625,
          340.0695495605469,
          345.3430480957031,
          346.37176513671875,
          341.0683288574219,
          346.791259765625,
          341.83740234375,
          336.8835144042969,
          324.4588623046875,
          322.95074462890625,
          334.57635498046875,
          330.8609619140625,
          323.9994201660156,
          317.77716064453125,
          327.74481201171875,
          339.8997802734375,
          344.01470947265625,
          351.05596923828125,
          350.0799865722656,
          356.9599914550781,
          351.8299865722656,
          359.6499938964844,
          359.3500061035156,
          364.9100036621094,
          371.19000244140625
         ],
         "decreasing": {
          "line": {
           "color": "#808080"
          }
         },
         "high": [
          399.20001220703125,
          400.989990234375,
          399.6199951171875,
          399.57000732421875,
          395.3599853515625,
          392.75,
          395.25,
          396.239990234375,
          397.92999267578125,
          399.7200012207031,
          402.2699890136719,
          405.29998779296875,
          408.7099914550781,
          400.2300109863281,
          399.04998779296875,
          397.5400085449219,
          400.7300109863281,
          401.19000244140625,
          400.4800109863281,
          391.739990234375,
          392.3399963378906,
          387.6000061035156,
          398.4599914550781,
          399.82000732421875,
          400.20001220703125,
          398.2799987792969,
          398.3299865722656,
          390.0899963378906,
          397.4200134277344,
          398.4800109863281,
          389.19000244140625,
          381.5,
          389.5299987792969,
          394.1600036621094,
          398.42999267578125,
          403.4800109863281,
          404.5799865722656,
          403.04998779296875,
          403.57000732421875,
          401.05999755859375,
          401.94000244140625,
          402.2799987792969,
          395.8900146484375,
          387.3500061035156,
          385.760009765625,
          380.6400146484375,
          385.989990234375,
          390.20001220703125,
          389.4700012207031,
          380.3500061035156,
          376.2200012207031,
          374.69000244140625,
          373.8699951171875,
          362.17999267578125,
          353.9800109863281,
          351.0299987792969,
          356.8800048828125,
          351.2699890136719,
          352.0199890136719,
          363.6499938964844,
          366.19000244140625,
          370.1000061035156,
          361.92999267578125,
          361.3999938964844,
          361.04998779296875,
          360.239990234375,
          366.80999755859375,
          366.489990234375,
          360.07000732421875,
          350.9800109863281,
          356.3699951171875,
          357.0899963378906,
          353.4599914550781,
          346.80999755859375,
          344.0400085449219,
          342.17999267578125,
          341.0400085449219,
          345.9800109863281,
          348.5400085449219,
          348.0799865722656,
          348.5899963378906,
          350.0400085449219,
          341.30999755859375,
          338.4800109863281,
          333.2099914550781,
          336.3800048828125,
          332.510009765625,
          334.6400146484375,
          326.5899963378906,
          328.95001220703125,
          340.44000244140625,
          344.5,
          351.7900085449219,
          352.4800109863281,
          357.8500061035156,
          357.6600036621094,
          359.70001220703125,
          360.6700134277344,
          365.010009765625,
          371.8299865722656
         ],
         "increasing": {
          "line": {
           "color": "#17BECF"
          }
         },
         "low": [
          393.9200134277344,
          397.1600036621094,
          397.3999938964844,
          393.9200134277344,
          387.5299987792969,
          390.239990234375,
          390.1300048828125,
          392.1000061035156,
          393.6600036621094,
          396.6400146484375,
          397.45001220703125,
          402.5799865722656,
          399.19000244140625,
          392.9200134277344,
          392.5400085449219,
          389.7699890136719,
          395.1400146484375,
          391.75,
          386.6400146484375,
          384.3399963378906,
          378.8999938964844,
          379.29998779296875,
          392.989990234375,
          396.2200012207031,
          393.5299987792969,
          393.3599853515625,
          391.8800048828125,
          383.6300048828125,
          383.8800048828125,
          385.2099914550781,
          381.7699890136719,
          377.4700012207031,
          380.20001220703125,
          388.2300109863281,
          394.1400146484375,
          398.2200012207031,
          400.7099914550781,
          399.1099853515625,
          399.75,
          397.3399963378906,
          396.8800048828125,
          393.2900085449219,
          384.0299987792969,
          380.1300048828125,
          378.0400085449219,
          369.30999755859375,
          377.2200012207031,
          385.010009765625,
          376.70001220703125,
          374.8599853515625,
          369.7699890136719,
          366.2099914550781,
          361.1700134277344,
          351.3999938964844,
          334.1499938964844,
          341.67999267578125,
          340.7799987792969,
          340.04998779296875,
          337.95001220703125,
          351.5199890136719,
          359.1400146484375,
          364.2900085449219,
          352.4599914550781,
          351.9700012207031,
          353.8399963378906,
          352.79998779296875,
          362.1199951171875,
          356.5400085449219,
          345.79998779296875,
          343.8900146484375,
          351.82000732421875,
          350.7099914550781,
          345.0199890136719,
          339.1400146484375,
          334.3500061035156,
          329.1000061035156,
          318.260009765625,
          337.3900146484375,
          341.32000732421875,
          338.8999938964844,
          340.239990234375,
          340.3500061035156,
          334.9200134277344,
          324.6499938964844,
          319.94000244140625,
          329.0899963378906,
          326.7099914550781,
          323.8999938964844,
          317.45001220703125,
          319.2300109863281,
          328.3999938964844,
          337.0400085449219,
          341.54998779296875,
          345.5799865722656,
          350.20001220703125,
          351.7699890136719,
          351.5899963378906,
          354.94000244140625,
          358.07000732421875,
          366.05999755859375
         ],
         "name": "QQQ",
         "open": [
          394.4800109863281,
          400.0400085449219,
          398.57000732421875,
          399.1600036621094,
          392.4700012207031,
          392.57000732421875,
          391.7699890136719,
          395.9100036621094,
          393.8599853515625,
          397.75,
          399.7300109863281,
          403.42999267578125,
          405.57000732421875,
          398.1099853515625,
          394.92999267578125,
          396.1099853515625,
          395.8900146484375,
          398.7799987792969,
          398.2799987792969,
          385.79998779296875,
          391.30999755859375,
          383.6300048828125,
          393.0299987792969,
          398.1700134277344,
          398.3500061035156,
          396.6199951171875,
          398,
          387.29998779296875,
          387.94000244140625,
          398.0400085449219,
          383.3299865722656,
          379.57000732421875,
          384.04998779296875,
          388.9100036621094,
          394.30999755859375,
          398.25,
          404.3999938964844,
          401.75,
          401.3299865722656,
          399.6600036621094,
          399.04998779296875,
          402.239990234375,
          394.739990234375,
          382.4200134277344,
          384.0299987792969,
          374.82000732421875,
          379.3599853515625,
          388.4599914550781,
          388.7699890136719,
          375.07000732421875,
          374.0400085449219,
          372.1499938964844,
          369.7900085449219,
          359.4700012207031,
          345.9100036621094,
          346.6700134277344,
          352.9100036621094,
          349.3999938964844,
          343.0299987792969,
          353.20001220703125,
          364.42999267578125,
          369.760009765625,
          358.5299987792969,
          354.0799865722656,
          358.6199951171875,
          353.9599914550781,
          363.760009765625,
          359.5199890136719,
          358.42999267578125,
          346.489990234375,
          352.9100036621094,
          353.82000732421875,
          352.739990234375,
          346.4100036621094,
          338.489990234375,
          341.32000732421875,
          318.8399963378906,
          341.30999755859375,
          342.510009765625,
          345.75,
          343.0799865722656,
          349.92999267578125,
          339.8399963378906,
          337.2900085449219,
          324.04998779296875,
          331.75,
          330.82000732421875,
          334.32000732421875,
          323.1300048828125,
          320.8800048828125,
          332.1700134277344,
          338.3699951171875,
          342.739990234375,
          350.20001220703125,
          350.5899963378906,
          354.010009765625,
          353.79998779296875,
          359.5899963378906,
          359.3399963378906,
          368.8999938964844
         ],
         "showlegend": true,
         "type": "candlestick",
         "x": [
          "2021-11-04",
          "2021-11-05",
          "2021-11-08",
          "2021-11-09",
          "2021-11-10",
          "2021-11-11",
          "2021-11-12",
          "2021-11-15",
          "2021-11-16",
          "2021-11-17",
          "2021-11-18",
          "2021-11-19",
          "2021-11-22",
          "2021-11-23",
          "2021-11-24",
          "2021-11-26",
          "2021-11-29",
          "2021-11-30",
          "2021-12-01",
          "2021-12-02",
          "2021-12-03",
          "2021-12-06",
          "2021-12-07",
          "2021-12-08",
          "2021-12-09",
          "2021-12-10",
          "2021-12-13",
          "2021-12-14",
          "2021-12-15",
          "2021-12-16",
          "2021-12-17",
          "2021-12-20",
          "2021-12-21",
          "2021-12-22",
          "2021-12-23",
          "2021-12-27",
          "2021-12-28",
          "2021-12-29",
          "2021-12-30",
          "2021-12-31",
          "2022-01-03",
          "2022-01-04",
          "2022-01-05",
          "2022-01-06",
          "2022-01-07",
          "2022-01-10",
          "2022-01-11",
          "2022-01-12",
          "2022-01-13",
          "2022-01-14",
          "2022-01-18",
          "2022-01-19",
          "2022-01-20",
          "2022-01-21",
          "2022-01-24",
          "2022-01-25",
          "2022-01-26",
          "2022-01-27",
          "2022-01-28",
          "2022-01-31",
          "2022-02-01",
          "2022-02-02",
          "2022-02-03",
          "2022-02-04",
          "2022-02-07",
          "2022-02-08",
          "2022-02-09",
          "2022-02-10",
          "2022-02-11",
          "2022-02-14",
          "2022-02-15",
          "2022-02-16",
          "2022-02-17",
          "2022-02-18",
          "2022-02-22",
          "2022-02-23",
          "2022-02-24",
          "2022-02-25",
          "2022-02-28",
          "2022-03-01",
          "2022-03-02",
          "2022-03-03",
          "2022-03-04",
          "2022-03-07",
          "2022-03-08",
          "2022-03-09",
          "2022-03-10",
          "2022-03-11",
          "2022-03-14",
          "2022-03-15",
          "2022-03-16",
          "2022-03-17",
          "2022-03-18",
          "2022-03-21",
          "2022-03-22",
          "2022-03-23",
          "2022-03-24",
          "2022-03-25",
          "2022-03-28",
          "2022-03-29"
         ],
         "yaxis": "y2"
        }
       ],
       "layout": {
        "legend": {
         "bgcolor": "#F5F6F9",
         "font": {
          "color": "#4D5663"
         },
         "orientation": "h",
         "x": 0.3,
         "y": 0.95,
         "yanchor": "bottom"
        },
        "margin": {
         "b": 30,
         "l": 30,
         "r": 30,
         "t": 30
        },
        "paper_bgcolor": "#F5F6F9",
        "plot_bgcolor": "#F5F6F9",
        "showlegend": true,
        "template": {
         "data": {
          "bar": [
           {
            "error_x": {
             "color": "#2a3f5f"
            },
            "error_y": {
             "color": "#2a3f5f"
            },
            "marker": {
             "line": {
              "color": "#E5ECF6",
              "width": 0.5
             },
             "pattern": {
              "fillmode": "overlay",
              "size": 10,
              "solidity": 0.2
             }
            },
            "type": "bar"
           }
          ],
          "barpolar": [
           {
            "marker": {
             "line": {
              "color": "#E5ECF6",
              "width": 0.5
             },
             "pattern": {
              "fillmode": "overlay",
              "size": 10,
              "solidity": 0.2
             }
            },
            "type": "barpolar"
           }
          ],
          "carpet": [
           {
            "aaxis": {
             "endlinecolor": "#2a3f5f",
             "gridcolor": "white",
             "linecolor": "white",
             "minorgridcolor": "white",
             "startlinecolor": "#2a3f5f"
            },
            "baxis": {
             "endlinecolor": "#2a3f5f",
             "gridcolor": "white",
             "linecolor": "white",
             "minorgridcolor": "white",
             "startlinecolor": "#2a3f5f"
            },
            "type": "carpet"
           }
          ],
          "choropleth": [
           {
            "colorbar": {
             "outlinewidth": 0,
             "ticks": ""
            },
            "type": "choropleth"
           }
          ],
          "contour": [
           {
            "colorbar": {
             "outlinewidth": 0,
             "ticks": ""
            },
            "colorscale": [
             [
              0,
              "#0d0887"
             ],
             [
              0.1111111111111111,
              "#46039f"
             ],
             [
              0.2222222222222222,
              "#7201a8"
             ],
             [
              0.3333333333333333,
              "#9c179e"
             ],
             [
              0.4444444444444444,
              "#bd3786"
             ],
             [
              0.5555555555555556,
              "#d8576b"
             ],
             [
              0.6666666666666666,
              "#ed7953"
             ],
             [
              0.7777777777777778,
              "#fb9f3a"
             ],
             [
              0.8888888888888888,
              "#fdca26"
             ],
             [
              1,
              "#f0f921"
             ]
            ],
            "type": "contour"
           }
          ],
          "contourcarpet": [
           {
            "colorbar": {
             "outlinewidth": 0,
             "ticks": ""
            },
            "type": "contourcarpet"
           }
          ],
          "heatmap": [
           {
            "colorbar": {
             "outlinewidth": 0,
             "ticks": ""
            },
            "colorscale": [
             [
              0,
              "#0d0887"
             ],
             [
              0.1111111111111111,
              "#46039f"
             ],
             [
              0.2222222222222222,
              "#7201a8"
             ],
             [
              0.3333333333333333,
              "#9c179e"
             ],
             [
              0.4444444444444444,
              "#bd3786"
             ],
             [
              0.5555555555555556,
              "#d8576b"
             ],
             [
              0.6666666666666666,
              "#ed7953"
             ],
             [
              0.7777777777777778,
              "#fb9f3a"
             ],
             [
              0.8888888888888888,
              "#fdca26"
             ],
             [
              1,
              "#f0f921"
             ]
            ],
            "type": "heatmap"
           }
          ],
          "heatmapgl": [
           {
            "colorbar": {
             "outlinewidth": 0,
             "ticks": ""
            },
            "colorscale": [
             [
              0,
              "#0d0887"
             ],
             [
              0.1111111111111111,
              "#46039f"
             ],
             [
              0.2222222222222222,
              "#7201a8"
             ],
             [
              0.3333333333333333,
              "#9c179e"
             ],
             [
              0.4444444444444444,
              "#bd3786"
             ],
             [
              0.5555555555555556,
              "#d8576b"
             ],
             [
              0.6666666666666666,
              "#ed7953"
             ],
             [
              0.7777777777777778,
              "#fb9f3a"
             ],
             [
              0.8888888888888888,
              "#fdca26"
             ],
             [
              1,
              "#f0f921"
             ]
            ],
            "type": "heatmapgl"
           }
          ],
          "histogram": [
           {
            "marker": {
             "pattern": {
              "fillmode": "overlay",
              "size": 10,
              "solidity": 0.2
             }
            },
            "type": "histogram"
           }
          ],
          "histogram2d": [
           {
            "colorbar": {
             "outlinewidth": 0,
             "ticks": ""
            },
            "colorscale": [
             [
              0,
              "#0d0887"
             ],
             [
              0.1111111111111111,
              "#46039f"
             ],
             [
              0.2222222222222222,
              "#7201a8"
             ],
             [
              0.3333333333333333,
              "#9c179e"
             ],
             [
              0.4444444444444444,
              "#bd3786"
             ],
             [
              0.5555555555555556,
              "#d8576b"
             ],
             [
              0.6666666666666666,
              "#ed7953"
             ],
             [
              0.7777777777777778,
              "#fb9f3a"
             ],
             [
              0.8888888888888888,
              "#fdca26"
             ],
             [
              1,
              "#f0f921"
             ]
            ],
            "type": "histogram2d"
           }
          ],
          "histogram2dcontour": [
           {
            "colorbar": {
             "outlinewidth": 0,
             "ticks": ""
            },
            "colorscale": [
             [
              0,
              "#0d0887"
             ],
             [
              0.1111111111111111,
              "#46039f"
             ],
             [
              0.2222222222222222,
              "#7201a8"
             ],
             [
              0.3333333333333333,
              "#9c179e"
             ],
             [
              0.4444444444444444,
              "#bd3786"
             ],
             [
              0.5555555555555556,
              "#d8576b"
             ],
             [
              0.6666666666666666,
              "#ed7953"
             ],
             [
              0.7777777777777778,
              "#fb9f3a"
             ],
             [
              0.8888888888888888,
              "#fdca26"
             ],
             [
              1,
              "#f0f921"
             ]
            ],
            "type": "histogram2dcontour"
           }
          ],
          "mesh3d": [
           {
            "colorbar": {
             "outlinewidth": 0,
             "ticks": ""
            },
            "type": "mesh3d"
           }
          ],
          "parcoords": [
           {
            "line": {
             "colorbar": {
              "outlinewidth": 0,
              "ticks": ""
             }
            },
            "type": "parcoords"
           }
          ],
          "pie": [
           {
            "automargin": true,
            "type": "pie"
           }
          ],
          "scatter": [
           {
            "marker": {
             "colorbar": {
              "outlinewidth": 0,
              "ticks": ""
             }
            },
            "type": "scatter"
           }
          ],
          "scatter3d": [
           {
            "line": {
             "colorbar": {
              "outlinewidth": 0,
              "ticks": ""
             }
            },
            "marker": {
             "colorbar": {
              "outlinewidth": 0,
              "ticks": ""
             }
            },
            "type": "scatter3d"
           }
          ],
          "scattercarpet": [
           {
            "marker": {
             "colorbar": {
              "outlinewidth": 0,
              "ticks": ""
             }
            },
            "type": "scattercarpet"
           }
          ],
          "scattergeo": [
           {
            "marker": {
             "colorbar": {
              "outlinewidth": 0,
              "ticks": ""
             }
            },
            "type": "scattergeo"
           }
          ],
          "scattergl": [
           {
            "marker": {
             "colorbar": {
              "outlinewidth": 0,
              "ticks": ""
             }
            },
            "type": "scattergl"
           }
          ],
          "scattermapbox": [
           {
            "marker": {
             "colorbar": {
              "outlinewidth": 0,
              "ticks": ""
             }
            },
            "type": "scattermapbox"
           }
          ],
          "scatterpolar": [
           {
            "marker": {
             "colorbar": {
              "outlinewidth": 0,
              "ticks": ""
             }
            },
            "type": "scatterpolar"
           }
          ],
          "scatterpolargl": [
           {
            "marker": {
             "colorbar": {
              "outlinewidth": 0,
              "ticks": ""
             }
            },
            "type": "scatterpolargl"
           }
          ],
          "scatterternary": [
           {
            "marker": {
             "colorbar": {
              "outlinewidth": 0,
              "ticks": ""
             }
            },
            "type": "scatterternary"
           }
          ],
          "surface": [
           {
            "colorbar": {
             "outlinewidth": 0,
             "ticks": ""
            },
            "colorscale": [
             [
              0,
              "#0d0887"
             ],
             [
              0.1111111111111111,
              "#46039f"
             ],
             [
              0.2222222222222222,
              "#7201a8"
             ],
             [
              0.3333333333333333,
              "#9c179e"
             ],
             [
              0.4444444444444444,
              "#bd3786"
             ],
             [
              0.5555555555555556,
              "#d8576b"
             ],
             [
              0.6666666666666666,
              "#ed7953"
             ],
             [
              0.7777777777777778,
              "#fb9f3a"
             ],
             [
              0.8888888888888888,
              "#fdca26"
             ],
             [
              1,
              "#f0f921"
             ]
            ],
            "type": "surface"
           }
          ],
          "table": [
           {
            "cells": {
             "fill": {
              "color": "#EBF0F8"
             },
             "line": {
              "color": "white"
             }
            },
            "header": {
             "fill": {
              "color": "#C8D4E3"
             },
             "line": {
              "color": "white"
             }
            },
            "type": "table"
           }
          ]
         },
         "layout": {
          "annotationdefaults": {
           "arrowcolor": "#2a3f5f",
           "arrowhead": 0,
           "arrowwidth": 1
          },
          "autotypenumbers": "strict",
          "coloraxis": {
           "colorbar": {
            "outlinewidth": 0,
            "ticks": ""
           }
          },
          "colorscale": {
           "diverging": [
            [
             0,
             "#8e0152"
            ],
            [
             0.1,
             "#c51b7d"
            ],
            [
             0.2,
             "#de77ae"
            ],
            [
             0.3,
             "#f1b6da"
            ],
            [
             0.4,
             "#fde0ef"
            ],
            [
             0.5,
             "#f7f7f7"
            ],
            [
             0.6,
             "#e6f5d0"
            ],
            [
             0.7,
             "#b8e186"
            ],
            [
             0.8,
             "#7fbc41"
            ],
            [
             0.9,
             "#4d9221"
            ],
            [
             1,
             "#276419"
            ]
           ],
           "sequential": [
            [
             0,
             "#0d0887"
            ],
            [
             0.1111111111111111,
             "#46039f"
            ],
            [
             0.2222222222222222,
             "#7201a8"
            ],
            [
             0.3333333333333333,
             "#9c179e"
            ],
            [
             0.4444444444444444,
             "#bd3786"
            ],
            [
             0.5555555555555556,
             "#d8576b"
            ],
            [
             0.6666666666666666,
             "#ed7953"
            ],
            [
             0.7777777777777778,
             "#fb9f3a"
            ],
            [
             0.8888888888888888,
             "#fdca26"
            ],
            [
             1,
             "#f0f921"
            ]
           ],
           "sequentialminus": [
            [
             0,
             "#0d0887"
            ],
            [
             0.1111111111111111,
             "#46039f"
            ],
            [
             0.2222222222222222,
             "#7201a8"
            ],
            [
             0.3333333333333333,
             "#9c179e"
            ],
            [
             0.4444444444444444,
             "#bd3786"
            ],
            [
             0.5555555555555556,
             "#d8576b"
            ],
            [
             0.6666666666666666,
             "#ed7953"
            ],
            [
             0.7777777777777778,
             "#fb9f3a"
            ],
            [
             0.8888888888888888,
             "#fdca26"
            ],
            [
             1,
             "#f0f921"
            ]
           ]
          },
          "colorway": [
           "#636efa",
           "#EF553B",
           "#00cc96",
           "#ab63fa",
           "#FFA15A",
           "#19d3f3",
           "#FF6692",
           "#B6E880",
           "#FF97FF",
           "#FECB52"
          ],
          "font": {
           "color": "#2a3f5f"
          },
          "geo": {
           "bgcolor": "white",
           "lakecolor": "white",
           "landcolor": "#E5ECF6",
           "showlakes": true,
           "showland": true,
           "subunitcolor": "white"
          },
          "hoverlabel": {
           "align": "left"
          },
          "hovermode": "closest",
          "mapbox": {
           "style": "light"
          },
          "paper_bgcolor": "white",
          "plot_bgcolor": "#E5ECF6",
          "polar": {
           "angularaxis": {
            "gridcolor": "white",
            "linecolor": "white",
            "ticks": ""
           },
           "bgcolor": "#E5ECF6",
           "radialaxis": {
            "gridcolor": "white",
            "linecolor": "white",
            "ticks": ""
           }
          },
          "scene": {
           "xaxis": {
            "backgroundcolor": "#E5ECF6",
            "gridcolor": "white",
            "gridwidth": 2,
            "linecolor": "white",
            "showbackground": true,
            "ticks": "",
            "zerolinecolor": "white"
           },
           "yaxis": {
            "backgroundcolor": "#E5ECF6",
            "gridcolor": "white",
            "gridwidth": 2,
            "linecolor": "white",
            "showbackground": true,
            "ticks": "",
            "zerolinecolor": "white"
           },
           "zaxis": {
            "backgroundcolor": "#E5ECF6",
            "gridcolor": "white",
            "gridwidth": 2,
            "linecolor": "white",
            "showbackground": true,
            "ticks": "",
            "zerolinecolor": "white"
           }
          },
          "shapedefaults": {
           "line": {
            "color": "#2a3f5f"
           }
          },
          "ternary": {
           "aaxis": {
            "gridcolor": "white",
            "linecolor": "white",
            "ticks": ""
           },
           "baxis": {
            "gridcolor": "white",
            "linecolor": "white",
            "ticks": ""
           },
           "bgcolor": "#E5ECF6",
           "caxis": {
            "gridcolor": "white",
            "linecolor": "white",
            "ticks": ""
           }
          },
          "title": {
           "x": 0.05
          },
          "xaxis": {
           "automargin": true,
           "gridcolor": "white",
           "linecolor": "white",
           "ticks": "",
           "title": {
            "standoff": 15
           },
           "zerolinecolor": "white",
           "zerolinewidth": 2
          },
          "yaxis": {
           "automargin": true,
           "gridcolor": "white",
           "linecolor": "white",
           "ticks": "",
           "title": {
            "standoff": 15
           },
           "zerolinecolor": "white",
           "zerolinewidth": 2
          }
         }
        },
        "title": {
         "font": {
          "color": "#4D5663"
         },
         "text": "QQQ candle chart "
        },
        "xaxis": {
         "anchor": "y2",
         "gridcolor": "#E1E5ED",
         "rangeselector": {
          "bgcolor": "rgba(150, 200, 250, 1)",
          "buttons": [
           {
            "count": 1,
            "label": "1m",
            "step": "month",
            "stepmode": "backward"
           },
           {
            "count": 1,
            "label": "1y",
            "step": "year",
            "stepmode": "backward"
           }
          ],
          "font": {
           "size": 13
          },
          "visible": false,
          "x": 0,
          "y": 0.9
         },
         "rangeslider": {
          "visible": false
         },
         "showgrid": true,
         "tickfont": {
          "color": "#4D5663"
         },
         "title": {
          "font": {
           "color": "#4D5663"
          },
          "text": ""
         },
         "zerolinecolor": "#E1E5ED"
        },
        "yaxis": {
         "gridcolor": "#E1E5ED",
         "showgrid": true,
         "showticklabels": false,
         "tickfont": {
          "color": "#4D5663"
         },
         "title": {
          "font": {
           "color": "#4D5663"
          },
          "text": ""
         },
         "zerolinecolor": "#E1E5ED"
        },
        "yaxis2": {
         "domain": [
          0.23,
          0.9
         ],
         "gridcolor": "#E1E5ED",
         "showgrid": true,
         "tickfont": {
          "color": "#4D5663"
         },
         "title": {
          "font": {
           "color": "#4D5663"
          },
          "text": ""
         },
         "zerolinecolor": "#E1E5ED"
        },
        "yaxis3": {
         "domain": [
          0,
          0.15
         ],
         "gridcolor": "#E1E5ED",
         "showgrid": true,
         "tickfont": {
          "color": "#4D5663"
         },
         "title": {
          "font": {
           "color": "#4D5663"
          },
          "text": ""
         },
         "zerolinecolor": "#E1E5ED"
        }
       }
      },
      "text/html": [
       "<div>                            <div id=\"950c6b3d-f3f9-4855-ad34-e46f9fb4f9ae\" class=\"plotly-graph-div\" style=\"height:525px; width:100%;\"></div>            <script type=\"text/javascript\">                require([\"plotly\"], function(Plotly) {                    window.PLOTLYENV=window.PLOTLYENV || {};                                    if (document.getElementById(\"950c6b3d-f3f9-4855-ad34-e46f9fb4f9ae\")) {                    Plotly.newPlot(                        \"950c6b3d-f3f9-4855-ad34-e46f9fb4f9ae\",                        [{\"legendgroup\":\"BOLL(Adj Close QQQ,15)\",\"line\":{\"color\":\"rgba(55, 128, 191, 1.0)\",\"dash\":\"solid\",\"shape\":\"linear\",\"width\":1.3},\"mode\":\"lines\",\"name\":\"BOLL(Adj Close QQQ,15)\",\"showlegend\":true,\"text\":\"\",\"type\":\"scatter\",\"x\":[\"2021-11-04\",\"2021-11-05\",\"2021-11-08\",\"2021-11-09\",\"2021-11-10\",\"2021-11-11\",\"2021-11-12\",\"2021-11-15\",\"2021-11-16\",\"2021-11-17\",\"2021-11-18\",\"2021-11-19\",\"2021-11-22\",\"2021-11-23\",\"2021-11-24\",\"2021-11-26\",\"2021-11-29\",\"2021-11-30\",\"2021-12-01\",\"2021-12-02\",\"2021-12-03\",\"2021-12-06\",\"2021-12-07\",\"2021-12-08\",\"2021-12-09\",\"2021-12-10\",\"2021-12-13\",\"2021-12-14\",\"2021-12-15\",\"2021-12-16\",\"2021-12-17\",\"2021-12-20\",\"2021-12-21\",\"2021-12-22\",\"2021-12-23\",\"2021-12-27\",\"2021-12-28\",\"2021-12-29\",\"2021-12-30\",\"2021-12-31\",\"2022-01-03\",\"2022-01-04\",\"2022-01-05\",\"2022-01-06\",\"2022-01-07\",\"2022-01-10\",\"2022-01-11\",\"2022-01-12\",\"2022-01-13\",\"2022-01-14\",\"2022-01-18\",\"2022-01-19\",\"2022-01-20\",\"2022-01-21\",\"2022-01-24\",\"2022-01-25\",\"2022-01-26\",\"2022-01-27\",\"2022-01-28\",\"2022-01-31\",\"2022-02-01\",\"2022-02-02\",\"2022-02-03\",\"2022-02-04\",\"2022-02-07\",\"2022-02-08\",\"2022-02-09\",\"2022-02-10\",\"2022-02-11\",\"2022-02-14\",\"2022-02-15\",\"2022-02-16\",\"2022-02-17\",\"2022-02-18\",\"2022-02-22\",\"2022-02-23\",\"2022-02-24\",\"2022-02-25\",\"2022-02-28\",\"2022-03-01\",\"2022-03-02\",\"2022-03-03\",\"2022-03-04\",\"2022-03-07\",\"2022-03-08\",\"2022-03-09\",\"2022-03-10\",\"2022-03-11\",\"2022-03-14\",\"2022-03-15\",\"2022-03-16\",\"2022-03-17\",\"2022-03-18\",\"2022-03-21\",\"2022-03-22\",\"2022-03-23\",\"2022-03-24\",\"2022-03-25\",\"2022-03-28\",\"2022-03-29\"],\"y\":[\"\",\"\",\"\",\"\",\"\",\"\",\"\",\"\",\"\",\"\",\"\",\"\",\"\",\"\",396.0665242513021,395.5996988932292,395.67218221028645,395.390224202474,394.8449300130208,394.8715291341146,394.3754435221354,393.81019897460936,394.024326578776,394.1699584960937,393.9106119791667,393.6619059244792,392.8818684895833,392.1437255859375,392.11512858072916,391.3224568684896,390.9041748046875,389.6730204264323,389.39951375325523,389.8871643066406,390.3870381673177,391.774570719401,392.83343505859375,393.1149190266927,393.19813232421876,393.5059000651042,393.78406778971356,394.0977030436198,393.8703287760417,393.0364583333333,392.60455525716145,392.31764119466146,392.659218343099,392.5353719075521,391.4507141113281,390.32477213541665,388.13214721679685,385.7930419921875,383.1409871419271,379.90099283854164,376.934657796224,373.16798095703126,369.7122538248698,366.8364766438802,364.6911295572917,363.5718465169271,362.6003824869792,361.44647623697915,359.1959248860677,357.8875427246094,356.2309244791667,355.46986694335936,355.48651326497395,355.2674519856771,354.95916748046875,354.5723124186198,355.3060729980469,356.0697957356771,356.35943806966145,355.6742858886719,354.0116739908854,351.6079793294271,349.7436157226563,349.2255900065104,348.4791768391927,347.5709655761719,346.7786112467448,345.1492919921875,343.74236450195315,342.2641906738281,340.65684611002604,339.24925130208334,337.59995727539064,336.19835408528644,334.64427693684894,333.98309529622395,334.7088643391927,334.971875,335.3527364095052,335.599951171875,336.6593953450521,336.9953104654948,338.1828165690104,339.6805826822917,342.3773254394531,345.59327596028646],\"yaxis\":\"y2\"},{\"legendgroup\":\"BOLL(Adj Close QQQ,15)\",\"line\":{\"color\":\"rgba(55, 128, 191, 0.8999999999999999)\",\"dash\":\"solid\",\"shape\":\"linear\",\"width\":1.3},\"mode\":\"lines\",\"name\":\"UPPER(Adj Close QQQ,15)\",\"showlegend\":false,\"text\":\"\",\"type\":\"scatter\",\"x\":[\"2021-11-04\",\"2021-11-05\",\"2021-11-08\",\"2021-11-09\",\"2021-11-10\",\"2021-11-11\",\"2021-11-12\",\"2021-11-15\",\"2021-11-16\",\"2021-11-17\",\"2021-11-18\",\"2021-11-19\",\"2021-11-22\",\"2021-11-23\",\"2021-11-24\",\"2021-11-26\",\"2021-11-29\",\"2021-11-30\",\"2021-12-01\",\"2021-12-02\",\"2021-12-03\",\"2021-12-06\",\"2021-12-07\",\"2021-12-08\",\"2021-12-09\",\"2021-12-10\",\"2021-12-13\",\"2021-12-14\",\"2021-12-15\",\"2021-12-16\",\"2021-12-17\",\"2021-12-20\",\"2021-12-21\",\"2021-12-22\",\"2021-12-23\",\"2021-12-27\",\"2021-12-28\",\"2021-12-29\",\"2021-12-30\",\"2021-12-31\",\"2022-01-03\",\"2022-01-04\",\"2022-01-05\",\"2022-01-06\",\"2022-01-07\",\"2022-01-10\",\"2022-01-11\",\"2022-01-12\",\"2022-01-13\",\"2022-01-14\",\"2022-01-18\",\"2022-01-19\",\"2022-01-20\",\"2022-01-21\",\"2022-01-24\",\"2022-01-25\",\"2022-01-26\",\"2022-01-27\",\"2022-01-28\",\"2022-01-31\",\"2022-02-01\",\"2022-02-02\",\"2022-02-03\",\"2022-02-04\",\"2022-02-07\",\"2022-02-08\",\"2022-02-09\",\"2022-02-10\",\"2022-02-11\",\"2022-02-14\",\"2022-02-15\",\"2022-02-16\",\"2022-02-17\",\"2022-02-18\",\"2022-02-22\",\"2022-02-23\",\"2022-02-24\",\"2022-02-25\",\"2022-02-28\",\"2022-03-01\",\"2022-03-02\",\"2022-03-03\",\"2022-03-04\",\"2022-03-07\",\"2022-03-08\",\"2022-03-09\",\"2022-03-10\",\"2022-03-11\",\"2022-03-14\",\"2022-03-15\",\"2022-03-16\",\"2022-03-17\",\"2022-03-18\",\"2022-03-21\",\"2022-03-22\",\"2022-03-23\",\"2022-03-24\",\"2022-03-25\",\"2022-03-28\",\"2022-03-29\"],\"y\":[\"\",\"\",\"\",\"\",\"\",\"\",\"\",\"\",\"\",\"\",\"\",\"\",\"\",\"\",403.54513511147337,403.62378220391804,403.7927674642473,403.5973282334427,404.34024847108986,404.2930155764136,405.59608888510127,405.9879691083516,406.3003205111749,406.61852122786786,406.30126628759734,405.60663152979055,403.6941977746627,402.88284360342954,402.8069075178035,401.9837685406515,402.22313715140757,401.37474901997393,400.97591530990354,401.49292743212925,402.4532204847404,404.5560886887249,405.9197065109065,406.74032512594465,406.98162772678177,407.4509844613752,408.187762165046,408.47218558783476,408.8075274090044,408.8235913405419,409.5443966978424,410.01496215400397,409.5345247719184,409.56087940587634,410.2077771075844,409.81421391399584,408.8786914473525,408.11843299261,407.08910590730306,407.0888003359657,405.6269724062588,403.0278211454462,400.24774545602656,399.7147964196504,397.0928590814326,394.94080736347945,392.71407018135324,389.0468304822198,383.1795568255645,379.7069552795206,374.48696302690564,372.1315580644201,372.19384604675645,371.73403900761593,371.91356390469707,371.9900964569665,371.84364627040094,371.4132649436805,370.58073395013497,371.79069805992884,372.0913014837802,372.7202876279922,369.5368607764538,369.04756904731744,367.79149808539455,366.9125207824291,365.11819496628885,360.092918122507,357.4266157958431,359.0497042168545,359.9099306954739,356.80433122702067,353.09958480821535,352.59725050445786,353.3176697603236,352.89922526656824,353.6431608148667,354.33015657286853,355.78074067519566,356.67883654604634,360.3516470453635,361.4343269539614,365.2228166252497,368.8195491673857,372.9317937898614,377.509047361003],\"yaxis\":\"y2\"},{\"fill\":\"tonexty\",\"fillcolor\":\"rgba(55, 128, 191, 0.1)\",\"legendgroup\":\"BOLL(Adj Close QQQ,15)\",\"line\":{\"color\":\"rgba(55, 128, 191, 0.7999999999999998)\",\"dash\":\"solid\",\"shape\":\"linear\",\"width\":1.3},\"mode\":\"lines\",\"name\":\"LOWER(Adj Close QQQ,15)\",\"showlegend\":false,\"text\":\"\",\"type\":\"scatter\",\"x\":[\"2021-11-04\",\"2021-11-05\",\"2021-11-08\",\"2021-11-09\",\"2021-11-10\",\"2021-11-11\",\"2021-11-12\",\"2021-11-15\",\"2021-11-16\",\"2021-11-17\",\"2021-11-18\",\"2021-11-19\",\"2021-11-22\",\"2021-11-23\",\"2021-11-24\",\"2021-11-26\",\"2021-11-29\",\"2021-11-30\",\"2021-12-01\",\"2021-12-02\",\"2021-12-03\",\"2021-12-06\",\"2021-12-07\",\"2021-12-08\",\"2021-12-09\",\"2021-12-10\",\"2021-12-13\",\"2021-12-14\",\"2021-12-15\",\"2021-12-16\",\"2021-12-17\",\"2021-12-20\",\"2021-12-21\",\"2021-12-22\",\"2021-12-23\",\"2021-12-27\",\"2021-12-28\",\"2021-12-29\",\"2021-12-30\",\"2021-12-31\",\"2022-01-03\",\"2022-01-04\",\"2022-01-05\",\"2022-01-06\",\"2022-01-07\",\"2022-01-10\",\"2022-01-11\",\"2022-01-12\",\"2022-01-13\",\"2022-01-14\",\"2022-01-18\",\"2022-01-19\",\"2022-01-20\",\"2022-01-21\",\"2022-01-24\",\"2022-01-25\",\"2022-01-26\",\"2022-01-27\",\"2022-01-28\",\"2022-01-31\",\"2022-02-01\",\"2022-02-02\",\"2022-02-03\",\"2022-02-04\",\"2022-02-07\",\"2022-02-08\",\"2022-02-09\",\"2022-02-10\",\"2022-02-11\",\"2022-02-14\",\"2022-02-15\",\"2022-02-16\",\"2022-02-17\",\"2022-02-18\",\"2022-02-22\",\"2022-02-23\",\"2022-02-24\",\"2022-02-25\",\"2022-02-28\",\"2022-03-01\",\"2022-03-02\",\"2022-03-03\",\"2022-03-04\",\"2022-03-07\",\"2022-03-08\",\"2022-03-09\",\"2022-03-10\",\"2022-03-11\",\"2022-03-14\",\"2022-03-15\",\"2022-03-16\",\"2022-03-17\",\"2022-03-18\",\"2022-03-21\",\"2022-03-22\",\"2022-03-23\",\"2022-03-24\",\"2022-03-25\",\"2022-03-28\",\"2022-03-29\"],\"y\":[\"\",\"\",\"\",\"\",\"\",\"\",\"\",\"\",\"\",\"\",\"\",\"\",\"\",\"\",388.5879133911308,387.5756155825403,387.5515969563256,387.18312017150527,385.34961155495176,385.4500426918156,383.15479815916956,381.63242884086714,381.74833264637715,381.7213957643196,381.519957670736,381.7171803191678,382.06953920450394,381.40460756844544,381.42334964365483,380.6611451963277,379.58521245796743,377.97129183289064,377.8231121966069,378.281401181152,378.320855849895,378.99305275007714,379.747163606281,379.4895129274407,379.41463692165576,379.5608156688332,379.3803734143811,379.7232204994048,378.9331301430789,377.24932532612473,375.6647138164805,374.62032023531896,375.78391191427954,375.5098644092278,372.6936511150719,370.83533035683746,367.3856029862412,363.467650991765,359.19286837655113,352.7131853411176,348.24234318618915,343.30814076861634,339.176762193713,333.95815686811,332.28940003315074,332.20288567037477,332.48669479260514,333.8461219917385,335.2122929465709,336.0681301696981,337.9748859314277,338.8081758222986,338.77918048319145,338.80086496373826,338.00477105624043,337.15452838027306,338.76849972569283,340.7263265276737,342.13814218918793,339.5578737174149,335.9320464979906,330.495671030862,329.95037066885874,329.40361096570336,329.1668555929908,328.22941036991466,328.4390275272007,330.205665861868,330.0581132080632,325.47867713080177,321.40376152457816,321.694171377146,322.1003297425659,319.799457666115,315.97088411337427,315.06696532587966,315.7745678635187,315.6135934271315,314.92473214381477,314.5210657977036,312.96714364474064,312.55629397702825,311.1428165127711,310.5416161971977,311.8228570890448,313.6775045595699],\"yaxis\":\"y2\"},{\"legendgroup\":\"RSI(Adj Close QQQ,14)\",\"line\":{\"color\":\"rgba(55, 128, 191, 1.0)\",\"dash\":\"solid\",\"shape\":\"linear\",\"width\":1.3},\"mode\":\"lines\",\"name\":\"RSI(Adj Close QQQ,14)\",\"showlegend\":true,\"text\":\"\",\"type\":\"scatter\",\"x\":[\"2021-11-04\",\"2021-11-05\",\"2021-11-08\",\"2021-11-09\",\"2021-11-10\",\"2021-11-11\",\"2021-11-12\",\"2021-11-15\",\"2021-11-16\",\"2021-11-17\",\"2021-11-18\",\"2021-11-19\",\"2021-11-22\",\"2021-11-23\",\"2021-11-24\",\"2021-11-26\",\"2021-11-29\",\"2021-11-30\",\"2021-12-01\",\"2021-12-02\",\"2021-12-03\",\"2021-12-06\",\"2021-12-07\",\"2021-12-08\",\"2021-12-09\",\"2021-12-10\",\"2021-12-13\",\"2021-12-14\",\"2021-12-15\",\"2021-12-16\",\"2021-12-17\",\"2021-12-20\",\"2021-12-21\",\"2021-12-22\",\"2021-12-23\",\"2021-12-27\",\"2021-12-28\",\"2021-12-29\",\"2021-12-30\",\"2021-12-31\",\"2022-01-03\",\"2022-01-04\",\"2022-01-05\",\"2022-01-06\",\"2022-01-07\",\"2022-01-10\",\"2022-01-11\",\"2022-01-12\",\"2022-01-13\",\"2022-01-14\",\"2022-01-18\",\"2022-01-19\",\"2022-01-20\",\"2022-01-21\",\"2022-01-24\",\"2022-01-25\",\"2022-01-26\",\"2022-01-27\",\"2022-01-28\",\"2022-01-31\",\"2022-02-01\",\"2022-02-02\",\"2022-02-03\",\"2022-02-04\",\"2022-02-07\",\"2022-02-08\",\"2022-02-09\",\"2022-02-10\",\"2022-02-11\",\"2022-02-14\",\"2022-02-15\",\"2022-02-16\",\"2022-02-17\",\"2022-02-18\",\"2022-02-22\",\"2022-02-23\",\"2022-02-24\",\"2022-02-25\",\"2022-02-28\",\"2022-03-01\",\"2022-03-02\",\"2022-03-03\",\"2022-03-04\",\"2022-03-07\",\"2022-03-08\",\"2022-03-09\",\"2022-03-10\",\"2022-03-11\",\"2022-03-14\",\"2022-03-15\",\"2022-03-16\",\"2022-03-17\",\"2022-03-18\",\"2022-03-21\",\"2022-03-22\",\"2022-03-23\",\"2022-03-24\",\"2022-03-25\",\"2022-03-28\",\"2022-03-29\"],\"y\":[\"\",\"\",\"\",\"\",\"\",\"\",\"\",\"\",\"\",\"\",\"\",\"\",\"\",48.79245286786828,50.845849347761494,40.53706808929174,51.73217415052687,48.505398830609025,47.66007233140893,49.35579626850488,39.56717633401455,42.80335339274185,50.30480675706538,51.43851934111337,44.31851135500142,45.88268799428388,45.22257341742087,43.88829337094499,48.975917676188956,47.46923156699868,40.71372826425438,41.83678306771287,51.6317278550944,52.796464143332514,59.232845598233204,60.995264695040696,53.016174768667796,51.766045163740365,55.50535769283821,50.276339697476146,58.1318461679493,57.05136650921691,40.64525219028655,47.90649949382944,46.056156128691875,49.466097485654686,46.70938832456596,43.16769361185268,32.49727323415533,26.90410154887533,23.40749809683014,21.903509484842772,20.721498930308144,18.598595202937304,16.063368879770678,15.418763763483696,18.284850756027623,17.395896148920002,30.610798843490798,39.76727947173283,37.33148699509978,38.437953661227574,36.113324669948994,37.62934546290496,40.63639932818413,45.526376687347636,52.943267172678524,54.04174105768639,46.65022004464864,51.39375846148505,56.183146023711394,58.29077017249653,46.471849529141934,36.97389831247595,33.596387144289196,28.13167530626241,42.35899914834219,42.906803544526504,45.06691005711882,39.72010987793202,38.368892536920846,39.960266327913594,43.41607699014538,36.86289034008508,29.253154642763903,38.37657589378963,41.52723305262212,40.12236945018417,38.86590849596366,49.30011995826718,49.90744890723828,49.2665809126701,52.425277033214904,54.88473575904348,55.44363975579432,55.33927294298972,61.803150662737835,70.69027982321622,73.7407772572733,72.05004171981196],\"yaxis\":\"y3\"},{\"legendgroup\":\"RSI(Adj Close QQQ,14)\",\"line\":{\"color\":\"grey\",\"width\":1},\"mode\":\"lines\",\"name\":\"\",\"showlegend\":true,\"text\":\"\",\"type\":\"scatter\",\"x\":[\"2021-11-04\",\"2021-11-05\",\"2021-11-08\",\"2021-11-09\",\"2021-11-10\",\"2021-11-11\",\"2021-11-12\",\"2021-11-15\",\"2021-11-16\",\"2021-11-17\",\"2021-11-18\",\"2021-11-19\",\"2021-11-22\",\"2021-11-23\",\"2021-11-24\",\"2021-11-26\",\"2021-11-29\",\"2021-11-30\",\"2021-12-01\",\"2021-12-02\",\"2021-12-03\",\"2021-12-06\",\"2021-12-07\",\"2021-12-08\",\"2021-12-09\",\"2021-12-10\",\"2021-12-13\",\"2021-12-14\",\"2021-12-15\",\"2021-12-16\",\"2021-12-17\",\"2021-12-20\",\"2021-12-21\",\"2021-12-22\",\"2021-12-23\",\"2021-12-27\",\"2021-12-28\",\"2021-12-29\",\"2021-12-30\",\"2021-12-31\",\"2022-01-03\",\"2022-01-04\",\"2022-01-05\",\"2022-01-06\",\"2022-01-07\",\"2022-01-10\",\"2022-01-11\",\"2022-01-12\",\"2022-01-13\",\"2022-01-14\",\"2022-01-18\",\"2022-01-19\",\"2022-01-20\",\"2022-01-21\",\"2022-01-24\",\"2022-01-25\",\"2022-01-26\",\"2022-01-27\",\"2022-01-28\",\"2022-01-31\",\"2022-02-01\",\"2022-02-02\",\"2022-02-03\",\"2022-02-04\",\"2022-02-07\",\"2022-02-08\",\"2022-02-09\",\"2022-02-10\",\"2022-02-11\",\"2022-02-14\",\"2022-02-15\",\"2022-02-16\",\"2022-02-17\",\"2022-02-18\",\"2022-02-22\",\"2022-02-23\",\"2022-02-24\",\"2022-02-25\",\"2022-02-28\",\"2022-03-01\",\"2022-03-02\",\"2022-03-03\",\"2022-03-04\",\"2022-03-07\",\"2022-03-08\",\"2022-03-09\",\"2022-03-10\",\"2022-03-11\",\"2022-03-14\",\"2022-03-15\",\"2022-03-16\",\"2022-03-17\",\"2022-03-18\",\"2022-03-21\",\"2022-03-22\",\"2022-03-23\",\"2022-03-24\",\"2022-03-25\",\"2022-03-28\",\"2022-03-29\"],\"y\":[30,30,30,30,30,30,30,30,30,30,30,30,30,30,30,30,30,30,30,30,30,30,30,30,30,30,30,30,30,30,30,30,30,30,30,30,30,30,30,30,30,30,30,30,30,30,30,30,30,30,30,30,30,30,30,30,30,30,30,30,30,30,30,30,30,30,30,30,30,30,30,30,30,30,30,30,30,30,30,30,30,30,30,30,30,30,30,30,30,30,30,30,30,30,30,30,30,30,30,30],\"yaxis\":\"y3\"},{\"legendgroup\":\"RSI(Adj Close QQQ,14)\",\"line\":{\"color\":\"#17BECF\",\"width\":1},\"mode\":\"lines\",\"name\":\"\",\"showlegend\":true,\"text\":\"\",\"type\":\"scatter\",\"x\":[\"2021-11-04\",\"2021-11-05\",\"2021-11-08\",\"2021-11-09\",\"2021-11-10\",\"2021-11-11\",\"2021-11-12\",\"2021-11-15\",\"2021-11-16\",\"2021-11-17\",\"2021-11-18\",\"2021-11-19\",\"2021-11-22\",\"2021-11-23\",\"2021-11-24\",\"2021-11-26\",\"2021-11-29\",\"2021-11-30\",\"2021-12-01\",\"2021-12-02\",\"2021-12-03\",\"2021-12-06\",\"2021-12-07\",\"2021-12-08\",\"2021-12-09\",\"2021-12-10\",\"2021-12-13\",\"2021-12-14\",\"2021-12-15\",\"2021-12-16\",\"2021-12-17\",\"2021-12-20\",\"2021-12-21\",\"2021-12-22\",\"2021-12-23\",\"2021-12-27\",\"2021-12-28\",\"2021-12-29\",\"2021-12-30\",\"2021-12-31\",\"2022-01-03\",\"2022-01-04\",\"2022-01-05\",\"2022-01-06\",\"2022-01-07\",\"2022-01-10\",\"2022-01-11\",\"2022-01-12\",\"2022-01-13\",\"2022-01-14\",\"2022-01-18\",\"2022-01-19\",\"2022-01-20\",\"2022-01-21\",\"2022-01-24\",\"2022-01-25\",\"2022-01-26\",\"2022-01-27\",\"2022-01-28\",\"2022-01-31\",\"2022-02-01\",\"2022-02-02\",\"2022-02-03\",\"2022-02-04\",\"2022-02-07\",\"2022-02-08\",\"2022-02-09\",\"2022-02-10\",\"2022-02-11\",\"2022-02-14\",\"2022-02-15\",\"2022-02-16\",\"2022-02-17\",\"2022-02-18\",\"2022-02-22\",\"2022-02-23\",\"2022-02-24\",\"2022-02-25\",\"2022-02-28\",\"2022-03-01\",\"2022-03-02\",\"2022-03-03\",\"2022-03-04\",\"2022-03-07\",\"2022-03-08\",\"2022-03-09\",\"2022-03-10\",\"2022-03-11\",\"2022-03-14\",\"2022-03-15\",\"2022-03-16\",\"2022-03-17\",\"2022-03-18\",\"2022-03-21\",\"2022-03-22\",\"2022-03-23\",\"2022-03-24\",\"2022-03-25\",\"2022-03-28\",\"2022-03-29\"],\"y\":[70,70,70,70,70,70,70,70,70,70,70,70,70,70,70,70,70,70,70,70,70,70,70,70,70,70,70,70,70,70,70,70,70,70,70,70,70,70,70,70,70,70,70,70,70,70,70,70,70,70,70,70,70,70,70,70,70,70,70,70,70,70,70,70,70,70,70,70,70,70,70,70,70,70,70,70,70,70,70,70,70,70,70,70,70,70,70,70,70,70,70,70,70,70,70,70,70,70,70,70],\"yaxis\":\"y3\"},{\"close\":[397.220947265625,397.6000061035156,397.0613708496094,394.3282165527344,388.5328063964844,389.610107421875,393.70977783203125,393.6199951171875,396.4229736328125,396.6324462890625,400.7420959472656,402.9764709472656,398.2982482910156,396.4828186035156,397.75958251953125,390.21856689453125,398.687255859375,392.8320007324219,386.1488037109375,388.9317932128906,382.1688232421875,385.2311096191406,396.8319091796875,398.6074523925781,392.74224853515625,397.0115051269531,391.2759094238281,387.2261047363281,396.0538635253906,385.8695068359375,383.9443359375,380.2199401855469,388.7294006347656,393.46356201171875,396.4299011230469,402.9818115234375,401.11407470703125,401.0541687011719,399.85565185546875,397.3587646484375,401.18402099609375,395.9804382324219,383.81549072265625,383.5458068847656,379.3909606933594,379.640625,385.3435974121094,386.8717041015625,377.1936950683594,379.540771484375,370.0924377441406,366.0274963378906,361.2733459472656,351.2557373046875,352.8637390136719,344.6838684082031,344.14453125,340.6788330078125,351.3656005859375,362.6017150878906,365.06866455078125,368.0350036621094,353.1134338378906,357.5679626464844,354.6914978027344,358.67657470703125,366.2771911621094,357.9874267578125,346.6314697265625,347.0609130859375,355.6902770996094,355.6003723144531,345.0234680175781,341.08831787109375,337.66253662109375,329.01324462890625,340.0695495605469,345.3430480957031,346.37176513671875,341.0683288574219,346.791259765625,341.83740234375,336.8835144042969,324.4588623046875,322.95074462890625,334.57635498046875,330.8609619140625,323.9994201660156,317.77716064453125,327.74481201171875,339.8997802734375,344.01470947265625,351.05596923828125,350.0799865722656,356.9599914550781,351.8299865722656,359.6499938964844,359.3500061035156,364.9100036621094,371.19000244140625],\"decreasing\":{\"line\":{\"color\":\"#808080\"}},\"high\":[399.20001220703125,400.989990234375,399.6199951171875,399.57000732421875,395.3599853515625,392.75,395.25,396.239990234375,397.92999267578125,399.7200012207031,402.2699890136719,405.29998779296875,408.7099914550781,400.2300109863281,399.04998779296875,397.5400085449219,400.7300109863281,401.19000244140625,400.4800109863281,391.739990234375,392.3399963378906,387.6000061035156,398.4599914550781,399.82000732421875,400.20001220703125,398.2799987792969,398.3299865722656,390.0899963378906,397.4200134277344,398.4800109863281,389.19000244140625,381.5,389.5299987792969,394.1600036621094,398.42999267578125,403.4800109863281,404.5799865722656,403.04998779296875,403.57000732421875,401.05999755859375,401.94000244140625,402.2799987792969,395.8900146484375,387.3500061035156,385.760009765625,380.6400146484375,385.989990234375,390.20001220703125,389.4700012207031,380.3500061035156,376.2200012207031,374.69000244140625,373.8699951171875,362.17999267578125,353.9800109863281,351.0299987792969,356.8800048828125,351.2699890136719,352.0199890136719,363.6499938964844,366.19000244140625,370.1000061035156,361.92999267578125,361.3999938964844,361.04998779296875,360.239990234375,366.80999755859375,366.489990234375,360.07000732421875,350.9800109863281,356.3699951171875,357.0899963378906,353.4599914550781,346.80999755859375,344.0400085449219,342.17999267578125,341.0400085449219,345.9800109863281,348.5400085449219,348.0799865722656,348.5899963378906,350.0400085449219,341.30999755859375,338.4800109863281,333.2099914550781,336.3800048828125,332.510009765625,334.6400146484375,326.5899963378906,328.95001220703125,340.44000244140625,344.5,351.7900085449219,352.4800109863281,357.8500061035156,357.6600036621094,359.70001220703125,360.6700134277344,365.010009765625,371.8299865722656],\"increasing\":{\"line\":{\"color\":\"#17BECF\"}},\"low\":[393.9200134277344,397.1600036621094,397.3999938964844,393.9200134277344,387.5299987792969,390.239990234375,390.1300048828125,392.1000061035156,393.6600036621094,396.6400146484375,397.45001220703125,402.5799865722656,399.19000244140625,392.9200134277344,392.5400085449219,389.7699890136719,395.1400146484375,391.75,386.6400146484375,384.3399963378906,378.8999938964844,379.29998779296875,392.989990234375,396.2200012207031,393.5299987792969,393.3599853515625,391.8800048828125,383.6300048828125,383.8800048828125,385.2099914550781,381.7699890136719,377.4700012207031,380.20001220703125,388.2300109863281,394.1400146484375,398.2200012207031,400.7099914550781,399.1099853515625,399.75,397.3399963378906,396.8800048828125,393.2900085449219,384.0299987792969,380.1300048828125,378.0400085449219,369.30999755859375,377.2200012207031,385.010009765625,376.70001220703125,374.8599853515625,369.7699890136719,366.2099914550781,361.1700134277344,351.3999938964844,334.1499938964844,341.67999267578125,340.7799987792969,340.04998779296875,337.95001220703125,351.5199890136719,359.1400146484375,364.2900085449219,352.4599914550781,351.9700012207031,353.8399963378906,352.79998779296875,362.1199951171875,356.5400085449219,345.79998779296875,343.8900146484375,351.82000732421875,350.7099914550781,345.0199890136719,339.1400146484375,334.3500061035156,329.1000061035156,318.260009765625,337.3900146484375,341.32000732421875,338.8999938964844,340.239990234375,340.3500061035156,334.9200134277344,324.6499938964844,319.94000244140625,329.0899963378906,326.7099914550781,323.8999938964844,317.45001220703125,319.2300109863281,328.3999938964844,337.0400085449219,341.54998779296875,345.5799865722656,350.20001220703125,351.7699890136719,351.5899963378906,354.94000244140625,358.07000732421875,366.05999755859375],\"name\":\"QQQ\",\"open\":[394.4800109863281,400.0400085449219,398.57000732421875,399.1600036621094,392.4700012207031,392.57000732421875,391.7699890136719,395.9100036621094,393.8599853515625,397.75,399.7300109863281,403.42999267578125,405.57000732421875,398.1099853515625,394.92999267578125,396.1099853515625,395.8900146484375,398.7799987792969,398.2799987792969,385.79998779296875,391.30999755859375,383.6300048828125,393.0299987792969,398.1700134277344,398.3500061035156,396.6199951171875,398.0,387.29998779296875,387.94000244140625,398.0400085449219,383.3299865722656,379.57000732421875,384.04998779296875,388.9100036621094,394.30999755859375,398.25,404.3999938964844,401.75,401.3299865722656,399.6600036621094,399.04998779296875,402.239990234375,394.739990234375,382.4200134277344,384.0299987792969,374.82000732421875,379.3599853515625,388.4599914550781,388.7699890136719,375.07000732421875,374.0400085449219,372.1499938964844,369.7900085449219,359.4700012207031,345.9100036621094,346.6700134277344,352.9100036621094,349.3999938964844,343.0299987792969,353.20001220703125,364.42999267578125,369.760009765625,358.5299987792969,354.0799865722656,358.6199951171875,353.9599914550781,363.760009765625,359.5199890136719,358.42999267578125,346.489990234375,352.9100036621094,353.82000732421875,352.739990234375,346.4100036621094,338.489990234375,341.32000732421875,318.8399963378906,341.30999755859375,342.510009765625,345.75,343.0799865722656,349.92999267578125,339.8399963378906,337.2900085449219,324.04998779296875,331.75,330.82000732421875,334.32000732421875,323.1300048828125,320.8800048828125,332.1700134277344,338.3699951171875,342.739990234375,350.20001220703125,350.5899963378906,354.010009765625,353.79998779296875,359.5899963378906,359.3399963378906,368.8999938964844],\"showlegend\":true,\"type\":\"candlestick\",\"x\":[\"2021-11-04\",\"2021-11-05\",\"2021-11-08\",\"2021-11-09\",\"2021-11-10\",\"2021-11-11\",\"2021-11-12\",\"2021-11-15\",\"2021-11-16\",\"2021-11-17\",\"2021-11-18\",\"2021-11-19\",\"2021-11-22\",\"2021-11-23\",\"2021-11-24\",\"2021-11-26\",\"2021-11-29\",\"2021-11-30\",\"2021-12-01\",\"2021-12-02\",\"2021-12-03\",\"2021-12-06\",\"2021-12-07\",\"2021-12-08\",\"2021-12-09\",\"2021-12-10\",\"2021-12-13\",\"2021-12-14\",\"2021-12-15\",\"2021-12-16\",\"2021-12-17\",\"2021-12-20\",\"2021-12-21\",\"2021-12-22\",\"2021-12-23\",\"2021-12-27\",\"2021-12-28\",\"2021-12-29\",\"2021-12-30\",\"2021-12-31\",\"2022-01-03\",\"2022-01-04\",\"2022-01-05\",\"2022-01-06\",\"2022-01-07\",\"2022-01-10\",\"2022-01-11\",\"2022-01-12\",\"2022-01-13\",\"2022-01-14\",\"2022-01-18\",\"2022-01-19\",\"2022-01-20\",\"2022-01-21\",\"2022-01-24\",\"2022-01-25\",\"2022-01-26\",\"2022-01-27\",\"2022-01-28\",\"2022-01-31\",\"2022-02-01\",\"2022-02-02\",\"2022-02-03\",\"2022-02-04\",\"2022-02-07\",\"2022-02-08\",\"2022-02-09\",\"2022-02-10\",\"2022-02-11\",\"2022-02-14\",\"2022-02-15\",\"2022-02-16\",\"2022-02-17\",\"2022-02-18\",\"2022-02-22\",\"2022-02-23\",\"2022-02-24\",\"2022-02-25\",\"2022-02-28\",\"2022-03-01\",\"2022-03-02\",\"2022-03-03\",\"2022-03-04\",\"2022-03-07\",\"2022-03-08\",\"2022-03-09\",\"2022-03-10\",\"2022-03-11\",\"2022-03-14\",\"2022-03-15\",\"2022-03-16\",\"2022-03-17\",\"2022-03-18\",\"2022-03-21\",\"2022-03-22\",\"2022-03-23\",\"2022-03-24\",\"2022-03-25\",\"2022-03-28\",\"2022-03-29\"],\"yaxis\":\"y2\"}],                        {\"legend\":{\"bgcolor\":\"#F5F6F9\",\"font\":{\"color\":\"#4D5663\"},\"orientation\":\"h\",\"x\":0.3,\"y\":0.95,\"yanchor\":\"bottom\"},\"margin\":{\"b\":30,\"l\":30,\"r\":30,\"t\":30},\"paper_bgcolor\":\"#F5F6F9\",\"plot_bgcolor\":\"#F5F6F9\",\"showlegend\":true,\"template\":{\"data\":{\"bar\":[{\"error_x\":{\"color\":\"#2a3f5f\"},\"error_y\":{\"color\":\"#2a3f5f\"},\"marker\":{\"line\":{\"color\":\"#E5ECF6\",\"width\":0.5},\"pattern\":{\"fillmode\":\"overlay\",\"size\":10,\"solidity\":0.2}},\"type\":\"bar\"}],\"barpolar\":[{\"marker\":{\"line\":{\"color\":\"#E5ECF6\",\"width\":0.5},\"pattern\":{\"fillmode\":\"overlay\",\"size\":10,\"solidity\":0.2}},\"type\":\"barpolar\"}],\"carpet\":[{\"aaxis\":{\"endlinecolor\":\"#2a3f5f\",\"gridcolor\":\"white\",\"linecolor\":\"white\",\"minorgridcolor\":\"white\",\"startlinecolor\":\"#2a3f5f\"},\"baxis\":{\"endlinecolor\":\"#2a3f5f\",\"gridcolor\":\"white\",\"linecolor\":\"white\",\"minorgridcolor\":\"white\",\"startlinecolor\":\"#2a3f5f\"},\"type\":\"carpet\"}],\"choropleth\":[{\"colorbar\":{\"outlinewidth\":0,\"ticks\":\"\"},\"type\":\"choropleth\"}],\"contour\":[{\"colorbar\":{\"outlinewidth\":0,\"ticks\":\"\"},\"colorscale\":[[0.0,\"#0d0887\"],[0.1111111111111111,\"#46039f\"],[0.2222222222222222,\"#7201a8\"],[0.3333333333333333,\"#9c179e\"],[0.4444444444444444,\"#bd3786\"],[0.5555555555555556,\"#d8576b\"],[0.6666666666666666,\"#ed7953\"],[0.7777777777777778,\"#fb9f3a\"],[0.8888888888888888,\"#fdca26\"],[1.0,\"#f0f921\"]],\"type\":\"contour\"}],\"contourcarpet\":[{\"colorbar\":{\"outlinewidth\":0,\"ticks\":\"\"},\"type\":\"contourcarpet\"}],\"heatmap\":[{\"colorbar\":{\"outlinewidth\":0,\"ticks\":\"\"},\"colorscale\":[[0.0,\"#0d0887\"],[0.1111111111111111,\"#46039f\"],[0.2222222222222222,\"#7201a8\"],[0.3333333333333333,\"#9c179e\"],[0.4444444444444444,\"#bd3786\"],[0.5555555555555556,\"#d8576b\"],[0.6666666666666666,\"#ed7953\"],[0.7777777777777778,\"#fb9f3a\"],[0.8888888888888888,\"#fdca26\"],[1.0,\"#f0f921\"]],\"type\":\"heatmap\"}],\"heatmapgl\":[{\"colorbar\":{\"outlinewidth\":0,\"ticks\":\"\"},\"colorscale\":[[0.0,\"#0d0887\"],[0.1111111111111111,\"#46039f\"],[0.2222222222222222,\"#7201a8\"],[0.3333333333333333,\"#9c179e\"],[0.4444444444444444,\"#bd3786\"],[0.5555555555555556,\"#d8576b\"],[0.6666666666666666,\"#ed7953\"],[0.7777777777777778,\"#fb9f3a\"],[0.8888888888888888,\"#fdca26\"],[1.0,\"#f0f921\"]],\"type\":\"heatmapgl\"}],\"histogram\":[{\"marker\":{\"pattern\":{\"fillmode\":\"overlay\",\"size\":10,\"solidity\":0.2}},\"type\":\"histogram\"}],\"histogram2d\":[{\"colorbar\":{\"outlinewidth\":0,\"ticks\":\"\"},\"colorscale\":[[0.0,\"#0d0887\"],[0.1111111111111111,\"#46039f\"],[0.2222222222222222,\"#7201a8\"],[0.3333333333333333,\"#9c179e\"],[0.4444444444444444,\"#bd3786\"],[0.5555555555555556,\"#d8576b\"],[0.6666666666666666,\"#ed7953\"],[0.7777777777777778,\"#fb9f3a\"],[0.8888888888888888,\"#fdca26\"],[1.0,\"#f0f921\"]],\"type\":\"histogram2d\"}],\"histogram2dcontour\":[{\"colorbar\":{\"outlinewidth\":0,\"ticks\":\"\"},\"colorscale\":[[0.0,\"#0d0887\"],[0.1111111111111111,\"#46039f\"],[0.2222222222222222,\"#7201a8\"],[0.3333333333333333,\"#9c179e\"],[0.4444444444444444,\"#bd3786\"],[0.5555555555555556,\"#d8576b\"],[0.6666666666666666,\"#ed7953\"],[0.7777777777777778,\"#fb9f3a\"],[0.8888888888888888,\"#fdca26\"],[1.0,\"#f0f921\"]],\"type\":\"histogram2dcontour\"}],\"mesh3d\":[{\"colorbar\":{\"outlinewidth\":0,\"ticks\":\"\"},\"type\":\"mesh3d\"}],\"parcoords\":[{\"line\":{\"colorbar\":{\"outlinewidth\":0,\"ticks\":\"\"}},\"type\":\"parcoords\"}],\"pie\":[{\"automargin\":true,\"type\":\"pie\"}],\"scatter\":[{\"marker\":{\"colorbar\":{\"outlinewidth\":0,\"ticks\":\"\"}},\"type\":\"scatter\"}],\"scatter3d\":[{\"line\":{\"colorbar\":{\"outlinewidth\":0,\"ticks\":\"\"}},\"marker\":{\"colorbar\":{\"outlinewidth\":0,\"ticks\":\"\"}},\"type\":\"scatter3d\"}],\"scattercarpet\":[{\"marker\":{\"colorbar\":{\"outlinewidth\":0,\"ticks\":\"\"}},\"type\":\"scattercarpet\"}],\"scattergeo\":[{\"marker\":{\"colorbar\":{\"outlinewidth\":0,\"ticks\":\"\"}},\"type\":\"scattergeo\"}],\"scattergl\":[{\"marker\":{\"colorbar\":{\"outlinewidth\":0,\"ticks\":\"\"}},\"type\":\"scattergl\"}],\"scattermapbox\":[{\"marker\":{\"colorbar\":{\"outlinewidth\":0,\"ticks\":\"\"}},\"type\":\"scattermapbox\"}],\"scatterpolar\":[{\"marker\":{\"colorbar\":{\"outlinewidth\":0,\"ticks\":\"\"}},\"type\":\"scatterpolar\"}],\"scatterpolargl\":[{\"marker\":{\"colorbar\":{\"outlinewidth\":0,\"ticks\":\"\"}},\"type\":\"scatterpolargl\"}],\"scatterternary\":[{\"marker\":{\"colorbar\":{\"outlinewidth\":0,\"ticks\":\"\"}},\"type\":\"scatterternary\"}],\"surface\":[{\"colorbar\":{\"outlinewidth\":0,\"ticks\":\"\"},\"colorscale\":[[0.0,\"#0d0887\"],[0.1111111111111111,\"#46039f\"],[0.2222222222222222,\"#7201a8\"],[0.3333333333333333,\"#9c179e\"],[0.4444444444444444,\"#bd3786\"],[0.5555555555555556,\"#d8576b\"],[0.6666666666666666,\"#ed7953\"],[0.7777777777777778,\"#fb9f3a\"],[0.8888888888888888,\"#fdca26\"],[1.0,\"#f0f921\"]],\"type\":\"surface\"}],\"table\":[{\"cells\":{\"fill\":{\"color\":\"#EBF0F8\"},\"line\":{\"color\":\"white\"}},\"header\":{\"fill\":{\"color\":\"#C8D4E3\"},\"line\":{\"color\":\"white\"}},\"type\":\"table\"}]},\"layout\":{\"annotationdefaults\":{\"arrowcolor\":\"#2a3f5f\",\"arrowhead\":0,\"arrowwidth\":1},\"autotypenumbers\":\"strict\",\"coloraxis\":{\"colorbar\":{\"outlinewidth\":0,\"ticks\":\"\"}},\"colorscale\":{\"diverging\":[[0,\"#8e0152\"],[0.1,\"#c51b7d\"],[0.2,\"#de77ae\"],[0.3,\"#f1b6da\"],[0.4,\"#fde0ef\"],[0.5,\"#f7f7f7\"],[0.6,\"#e6f5d0\"],[0.7,\"#b8e186\"],[0.8,\"#7fbc41\"],[0.9,\"#4d9221\"],[1,\"#276419\"]],\"sequential\":[[0.0,\"#0d0887\"],[0.1111111111111111,\"#46039f\"],[0.2222222222222222,\"#7201a8\"],[0.3333333333333333,\"#9c179e\"],[0.4444444444444444,\"#bd3786\"],[0.5555555555555556,\"#d8576b\"],[0.6666666666666666,\"#ed7953\"],[0.7777777777777778,\"#fb9f3a\"],[0.8888888888888888,\"#fdca26\"],[1.0,\"#f0f921\"]],\"sequentialminus\":[[0.0,\"#0d0887\"],[0.1111111111111111,\"#46039f\"],[0.2222222222222222,\"#7201a8\"],[0.3333333333333333,\"#9c179e\"],[0.4444444444444444,\"#bd3786\"],[0.5555555555555556,\"#d8576b\"],[0.6666666666666666,\"#ed7953\"],[0.7777777777777778,\"#fb9f3a\"],[0.8888888888888888,\"#fdca26\"],[1.0,\"#f0f921\"]]},\"colorway\":[\"#636efa\",\"#EF553B\",\"#00cc96\",\"#ab63fa\",\"#FFA15A\",\"#19d3f3\",\"#FF6692\",\"#B6E880\",\"#FF97FF\",\"#FECB52\"],\"font\":{\"color\":\"#2a3f5f\"},\"geo\":{\"bgcolor\":\"white\",\"lakecolor\":\"white\",\"landcolor\":\"#E5ECF6\",\"showlakes\":true,\"showland\":true,\"subunitcolor\":\"white\"},\"hoverlabel\":{\"align\":\"left\"},\"hovermode\":\"closest\",\"mapbox\":{\"style\":\"light\"},\"paper_bgcolor\":\"white\",\"plot_bgcolor\":\"#E5ECF6\",\"polar\":{\"angularaxis\":{\"gridcolor\":\"white\",\"linecolor\":\"white\",\"ticks\":\"\"},\"bgcolor\":\"#E5ECF6\",\"radialaxis\":{\"gridcolor\":\"white\",\"linecolor\":\"white\",\"ticks\":\"\"}},\"scene\":{\"xaxis\":{\"backgroundcolor\":\"#E5ECF6\",\"gridcolor\":\"white\",\"gridwidth\":2,\"linecolor\":\"white\",\"showbackground\":true,\"ticks\":\"\",\"zerolinecolor\":\"white\"},\"yaxis\":{\"backgroundcolor\":\"#E5ECF6\",\"gridcolor\":\"white\",\"gridwidth\":2,\"linecolor\":\"white\",\"showbackground\":true,\"ticks\":\"\",\"zerolinecolor\":\"white\"},\"zaxis\":{\"backgroundcolor\":\"#E5ECF6\",\"gridcolor\":\"white\",\"gridwidth\":2,\"linecolor\":\"white\",\"showbackground\":true,\"ticks\":\"\",\"zerolinecolor\":\"white\"}},\"shapedefaults\":{\"line\":{\"color\":\"#2a3f5f\"}},\"ternary\":{\"aaxis\":{\"gridcolor\":\"white\",\"linecolor\":\"white\",\"ticks\":\"\"},\"baxis\":{\"gridcolor\":\"white\",\"linecolor\":\"white\",\"ticks\":\"\"},\"bgcolor\":\"#E5ECF6\",\"caxis\":{\"gridcolor\":\"white\",\"linecolor\":\"white\",\"ticks\":\"\"}},\"title\":{\"x\":0.05},\"xaxis\":{\"automargin\":true,\"gridcolor\":\"white\",\"linecolor\":\"white\",\"ticks\":\"\",\"title\":{\"standoff\":15},\"zerolinecolor\":\"white\",\"zerolinewidth\":2},\"yaxis\":{\"automargin\":true,\"gridcolor\":\"white\",\"linecolor\":\"white\",\"ticks\":\"\",\"title\":{\"standoff\":15},\"zerolinecolor\":\"white\",\"zerolinewidth\":2}}},\"title\":{\"font\":{\"color\":\"#4D5663\"},\"text\":\"QQQ candle chart \"},\"xaxis\":{\"anchor\":\"y2\",\"gridcolor\":\"#E1E5ED\",\"rangeselector\":{\"bgcolor\":\"rgba(150, 200, 250, 1)\",\"buttons\":[{\"count\":1,\"label\":\"1m\",\"step\":\"month\",\"stepmode\":\"backward\"},{\"count\":1,\"label\":\"1y\",\"step\":\"year\",\"stepmode\":\"backward\"}],\"font\":{\"size\":13},\"visible\":false,\"x\":0,\"y\":0.9},\"rangeslider\":{\"visible\":false},\"showgrid\":true,\"tickfont\":{\"color\":\"#4D5663\"},\"title\":{\"font\":{\"color\":\"#4D5663\"},\"text\":\"\"},\"zerolinecolor\":\"#E1E5ED\"},\"yaxis\":{\"gridcolor\":\"#E1E5ED\",\"showgrid\":true,\"showticklabels\":false,\"tickfont\":{\"color\":\"#4D5663\"},\"title\":{\"font\":{\"color\":\"#4D5663\"},\"text\":\"\"},\"zerolinecolor\":\"#E1E5ED\"},\"yaxis2\":{\"domain\":[0.23,0.9],\"gridcolor\":\"#E1E5ED\",\"showgrid\":true,\"tickfont\":{\"color\":\"#4D5663\"},\"title\":{\"font\":{\"color\":\"#4D5663\"},\"text\":\"\"},\"zerolinecolor\":\"#E1E5ED\"},\"yaxis3\":{\"domain\":[0.0,0.15],\"gridcolor\":\"#E1E5ED\",\"showgrid\":true,\"tickfont\":{\"color\":\"#4D5663\"},\"title\":{\"font\":{\"color\":\"#4D5663\"},\"text\":\"\"},\"zerolinecolor\":\"#E1E5ED\"}},                        {\"responsive\": true}                    ).then(function(){\n",
       "                            \n",
       "var gd = document.getElementById('950c6b3d-f3f9-4855-ad34-e46f9fb4f9ae');\n",
       "var x = new MutationObserver(function (mutations, observer) {{\n",
       "        var display = window.getComputedStyle(gd).display;\n",
       "        if (!display || display === 'none') {{\n",
       "            console.log([gd, 'removed!']);\n",
       "            Plotly.purge(gd);\n",
       "            observer.disconnect();\n",
       "        }}\n",
       "}});\n",
       "\n",
       "// Listen for the removal of the full notebook cells\n",
       "var notebookContainer = gd.closest('#notebook-container');\n",
       "if (notebookContainer) {{\n",
       "    x.observe(notebookContainer, {childList: true});\n",
       "}}\n",
       "\n",
       "// Listen for the clearing of the current output cell\n",
       "var outputEl = gd.closest('.output');\n",
       "if (outputEl) {{\n",
       "    x.observe(outputEl, {childList: true});\n",
       "}}\n",
       "\n",
       "                        }).then(function(){\n",
       "                            function downloadimage(format, height, width, filename) {var p = document.getElementById('950c6b3d-f3f9-4855-ad34-e46f9fb4f9ae');Plotly.downloadImage(p, {format: format, height: height, width: width, filename: filename});};if(document.readyState == 'complete') {downloadimage('png', 600, 800, 'QQQ candle chart ');}\n",
       "                        })                };                });            </script>        </div>"
      ]
     },
     "metadata": {},
     "output_type": "display_data"
    }
   ],
   "source": [
    "# Plot the chart where the period = 100 days, symbol = \"QQQ\"\n",
    "plotCandleChart(stocks,100,\"QQQ\")"
   ]
  },
  {
   "cell_type": "markdown",
   "id": "b81a8054",
   "metadata": {},
   "source": [
    "#### Investigate the relationship between QQQ and Volatility Index (VIX) (the Ordinary least squares (OLS) regression)"
   ]
  },
  {
   "cell_type": "code",
   "execution_count": 127,
   "id": "1885837c",
   "metadata": {},
   "outputs": [
    {
     "data": {
      "text/html": [
       "<div>\n",
       "<style scoped>\n",
       "    .dataframe tbody tr th:only-of-type {\n",
       "        vertical-align: middle;\n",
       "    }\n",
       "\n",
       "    .dataframe tbody tr th {\n",
       "        vertical-align: top;\n",
       "    }\n",
       "\n",
       "    .dataframe thead th {\n",
       "        text-align: right;\n",
       "    }\n",
       "</style>\n",
       "<table border=\"1\" class=\"dataframe\">\n",
       "  <thead>\n",
       "    <tr style=\"text-align: right;\">\n",
       "      <th></th>\n",
       "      <th>Adj Close ^VIX</th>\n",
       "      <th>Adj Close QQQ</th>\n",
       "    </tr>\n",
       "    <tr>\n",
       "      <th>Date</th>\n",
       "      <th></th>\n",
       "      <th></th>\n",
       "    </tr>\n",
       "  </thead>\n",
       "  <tbody>\n",
       "    <tr>\n",
       "      <th>2000-01-03</th>\n",
       "      <td>-0.017605</td>\n",
       "      <td>0.036270</td>\n",
       "    </tr>\n",
       "    <tr>\n",
       "      <th>2000-01-04</th>\n",
       "      <td>0.109441</td>\n",
       "      <td>-0.071068</td>\n",
       "    </tr>\n",
       "    <tr>\n",
       "      <th>2000-01-05</th>\n",
       "      <td>-0.022464</td>\n",
       "      <td>-0.025826</td>\n",
       "    </tr>\n",
       "    <tr>\n",
       "      <th>2000-01-06</th>\n",
       "      <td>-0.026085</td>\n",
       "      <td>-0.071150</td>\n",
       "    </tr>\n",
       "    <tr>\n",
       "      <th>2000-01-07</th>\n",
       "      <td>-0.169424</td>\n",
       "      <td>0.116612</td>\n",
       "    </tr>\n",
       "  </tbody>\n",
       "</table>\n",
       "</div>"
      ],
      "text/plain": [
       "            Adj Close ^VIX  Adj Close QQQ\n",
       "Date                                     \n",
       "2000-01-03       -0.017605       0.036270\n",
       "2000-01-04        0.109441      -0.071068\n",
       "2000-01-05       -0.022464      -0.025826\n",
       "2000-01-06       -0.026085      -0.071150\n",
       "2000-01-07       -0.169424       0.116612"
      ]
     },
     "execution_count": 127,
     "metadata": {},
     "output_type": "execute_result"
    }
   ],
   "source": [
    "LogReturns = stocks[[\"Adj Close ^VIX\", \"Adj Close QQQ\"]]\n",
    "LogReturns = np.log(LogReturns/LogReturns.shift(1))\n",
    "LogReturns.dropna(inplace = True)\n",
    "LogReturns.head()"
   ]
  },
  {
   "cell_type": "code",
   "execution_count": 128,
   "id": "f88108fd",
   "metadata": {},
   "outputs": [
    {
     "data": {
      "image/png": "[encoded data removed]",
      "text/plain": [
       "<Figure size 1152x576 with 1 Axes>"
      ]
     },
     "metadata": {
      "needs_background": "light"
     },
     "output_type": "display_data"
    }
   ],
   "source": [
    "# Plot out the OLS \n",
    "reg = np.polyfit(LogReturns['Adj Close QQQ'],LogReturns['Adj Close ^VIX'], deg =1)\n",
    "ax = LogReturns.plot(kind = 'scatter', x = 'Adj Close QQQ', y = 'Adj Close ^VIX', figsize =(16,8))\n",
    "ax.plot(LogReturns['Adj Close QQQ'], np.polyval(reg, LogReturns['Adj Close QQQ']),'r', lw=2);\n"
   ]
  },
  {
   "cell_type": "markdown",
   "id": "7743209d",
   "metadata": {},
   "source": [
    "* As we can see from the plot above, the return of ETF QQQ has a strong negative correlation with Volatility index\n",
    "* The higher the volatility the lower the return "
   ]
  },
  {
   "cell_type": "code",
   "execution_count": null,
   "id": "4fe05068",
   "metadata": {},
   "outputs": [],
   "source": [
    "  "
   ]
  },
  {
   "cell_type": "code",
   "execution_count": null,
   "id": "3756409f",
   "metadata": {},
   "outputs": [],
   "source": []
  },
  {
   "cell_type": "markdown",
   "id": "325450e2",
   "metadata": {},
   "source": [
    "### Build and Visualized the Simple Moving Average strategy "
   ]
  },
  {
   "cell_type": "markdown",
   "id": "01f04554",
   "metadata": {},
   "source": [
    "##### Simple Moving Average (SMA)  Formula \n",
    "\n",
    "SMA is a rather simple concept, it's just a rolling average \n",
    "SMA = ( Sum ( Price, n ) ) / n    \n",
    "Where: n = Time Period\n",
    "\n",
    "Don’t underestimate the power of simplicity. A profitable trading strategy doesn’t need to be overly complicated. The key is that the execution needs to be consistence.\n"
   ]
  },
  {
   "cell_type": "code",
   "execution_count": 129,
   "id": "61bc97e5",
   "metadata": {},
   "outputs": [],
   "source": [
    "# Define a funtion to generate Simple Moving average\n",
    "# remember, SMA is just a rolling mean \n",
    "def SMA_Position(stock, smafast, smaslow):\n",
    "    '''\n",
    "       input: stock, a dataframe that contains stock data \n",
    "       smafast: an int number, fast moving average\n",
    "       smaslow: an int number, slow moving average\n",
    "       output: return the dataframe stock with an extra column,position \n",
    "    '''\n",
    "    SmaFast = smafast\n",
    "    SmaSlow = smaslow\n",
    "    stock['SmaFast'] = stock['price'].rolling(SmaFast).mean()\n",
    "    stock['SmaSlow'] = stock['price'].rolling(SmaSlow).mean()\n",
    "    stock.dropna(inplace =True)\n",
    "    # Long Position: Long a stock when the fast SMA is above slow SMA\n",
    "    # Short Position: Short a stock when the slow SMA is above the fast SMA\n",
    "    stock['Position'] = np.where(stock['SmaFast']> stock['SmaSlow'],1 ,-1)\n",
    "    return stock"
   ]
  },
  {
   "cell_type": "code",
   "execution_count": 130,
   "id": "12df6c24",
   "metadata": {},
   "outputs": [],
   "source": [
    "# Each year, there are around 254 trading days, so we use period n = 254 as slow moving average \n",
    "# Each month, on average there are 21 trading days, so we use period n = 42 as fast moving average\n",
    "# Fast moving average with period n = 42\n",
    "# Slowe moving average with period =  254\n",
    "stock = SMA_Position(stock = stock, smafast=42,smaslow = 254)"
   ]
  },
  {
   "cell_type": "code",
   "execution_count": 131,
   "id": "0c4bc1eb",
   "metadata": {},
   "outputs": [
    {
     "data": {
      "text/html": [
       "<div>\n",
       "<style scoped>\n",
       "    .dataframe tbody tr th:only-of-type {\n",
       "        vertical-align: middle;\n",
       "    }\n",
       "\n",
       "    .dataframe tbody tr th {\n",
       "        vertical-align: top;\n",
       "    }\n",
       "\n",
       "    .dataframe thead th {\n",
       "        text-align: right;\n",
       "    }\n",
       "</style>\n",
       "<table border=\"1\" class=\"dataframe\">\n",
       "  <thead>\n",
       "    <tr style=\"text-align: right;\">\n",
       "      <th></th>\n",
       "      <th>price</th>\n",
       "      <th>SmaFast</th>\n",
       "      <th>SmaSlow</th>\n",
       "      <th>Position</th>\n",
       "    </tr>\n",
       "    <tr>\n",
       "      <th>Date</th>\n",
       "      <th></th>\n",
       "      <th></th>\n",
       "      <th></th>\n",
       "      <th></th>\n",
       "    </tr>\n",
       "  </thead>\n",
       "  <tbody>\n",
       "    <tr>\n",
       "      <th>2001-01-02</th>\n",
       "      <td>46.229877</td>\n",
       "      <td>59.311612</td>\n",
       "      <td>77.627302</td>\n",
       "      <td>-1</td>\n",
       "    </tr>\n",
       "    <tr>\n",
       "      <th>2001-01-03</th>\n",
       "      <td>54.015961</td>\n",
       "      <td>58.929259</td>\n",
       "      <td>77.528741</td>\n",
       "      <td>-1</td>\n",
       "    </tr>\n",
       "    <tr>\n",
       "      <th>2001-01-04</th>\n",
       "      <td>53.042706</td>\n",
       "      <td>58.503136</td>\n",
       "      <td>77.414853</td>\n",
       "      <td>-1</td>\n",
       "    </tr>\n",
       "    <tr>\n",
       "      <th>2001-01-05</th>\n",
       "      <td>48.987450</td>\n",
       "      <td>57.958574</td>\n",
       "      <td>77.307139</td>\n",
       "      <td>-1</td>\n",
       "    </tr>\n",
       "    <tr>\n",
       "      <th>2001-01-08</th>\n",
       "      <td>49.528164</td>\n",
       "      <td>57.439759</td>\n",
       "      <td>77.209217</td>\n",
       "      <td>-1</td>\n",
       "    </tr>\n",
       "  </tbody>\n",
       "</table>\n",
       "</div>"
      ],
      "text/plain": [
       "                price    SmaFast    SmaSlow  Position\n",
       "Date                                                 \n",
       "2001-01-02  46.229877  59.311612  77.627302        -1\n",
       "2001-01-03  54.015961  58.929259  77.528741        -1\n",
       "2001-01-04  53.042706  58.503136  77.414853        -1\n",
       "2001-01-05  48.987450  57.958574  77.307139        -1\n",
       "2001-01-08  49.528164  57.439759  77.209217        -1"
      ]
     },
     "execution_count": 131,
     "metadata": {},
     "output_type": "execute_result"
    }
   ],
   "source": [
    "stock.head()"
   ]
  },
  {
   "cell_type": "code",
   "execution_count": 132,
   "id": "f60d5fc9",
   "metadata": {},
   "outputs": [
    {
     "data": {
      "text/html": [
       "<div>\n",
       "<style scoped>\n",
       "    .dataframe tbody tr th:only-of-type {\n",
       "        vertical-align: middle;\n",
       "    }\n",
       "\n",
       "    .dataframe tbody tr th {\n",
       "        vertical-align: top;\n",
       "    }\n",
       "\n",
       "    .dataframe thead th {\n",
       "        text-align: right;\n",
       "    }\n",
       "</style>\n",
       "<table border=\"1\" class=\"dataframe\">\n",
       "  <thead>\n",
       "    <tr style=\"text-align: right;\">\n",
       "      <th></th>\n",
       "      <th>price</th>\n",
       "      <th>SmaFast</th>\n",
       "      <th>SmaSlow</th>\n",
       "      <th>Position</th>\n",
       "      <th>Return</th>\n",
       "      <th>Strategy</th>\n",
       "    </tr>\n",
       "    <tr>\n",
       "      <th>Date</th>\n",
       "      <th></th>\n",
       "      <th></th>\n",
       "      <th></th>\n",
       "      <th></th>\n",
       "      <th></th>\n",
       "      <th></th>\n",
       "    </tr>\n",
       "  </thead>\n",
       "  <tbody>\n",
       "    <tr>\n",
       "      <th>2001-01-03</th>\n",
       "      <td>54.0160</td>\n",
       "      <td>58.9293</td>\n",
       "      <td>77.5287</td>\n",
       "      <td>-1</td>\n",
       "      <td>0.1557</td>\n",
       "      <td>-0.1557</td>\n",
       "    </tr>\n",
       "    <tr>\n",
       "      <th>2001-01-04</th>\n",
       "      <td>53.0427</td>\n",
       "      <td>58.5031</td>\n",
       "      <td>77.4149</td>\n",
       "      <td>-1</td>\n",
       "      <td>-0.0182</td>\n",
       "      <td>0.0182</td>\n",
       "    </tr>\n",
       "    <tr>\n",
       "      <th>2001-01-05</th>\n",
       "      <td>48.9874</td>\n",
       "      <td>57.9586</td>\n",
       "      <td>77.3071</td>\n",
       "      <td>-1</td>\n",
       "      <td>-0.0795</td>\n",
       "      <td>0.0795</td>\n",
       "    </tr>\n",
       "    <tr>\n",
       "      <th>2001-01-08</th>\n",
       "      <td>49.5282</td>\n",
       "      <td>57.4398</td>\n",
       "      <td>77.2092</td>\n",
       "      <td>-1</td>\n",
       "      <td>0.0110</td>\n",
       "      <td>-0.0110</td>\n",
       "    </tr>\n",
       "    <tr>\n",
       "      <th>2001-01-09</th>\n",
       "      <td>49.5282</td>\n",
       "      <td>56.9274</td>\n",
       "      <td>77.1314</td>\n",
       "      <td>-1</td>\n",
       "      <td>0.0000</td>\n",
       "      <td>-0.0000</td>\n",
       "    </tr>\n",
       "  </tbody>\n",
       "</table>\n",
       "</div>"
      ],
      "text/plain": [
       "              price  SmaFast  SmaSlow  Position  Return  Strategy\n",
       "Date                                                             \n",
       "2001-01-03  54.0160  58.9293  77.5287        -1  0.1557   -0.1557\n",
       "2001-01-04  53.0427  58.5031  77.4149        -1 -0.0182    0.0182\n",
       "2001-01-05  48.9874  57.9586  77.3071        -1 -0.0795    0.0795\n",
       "2001-01-08  49.5282  57.4398  77.2092        -1  0.0110   -0.0110\n",
       "2001-01-09  49.5282  56.9274  77.1314        -1  0.0000   -0.0000"
      ]
     },
     "execution_count": 132,
     "metadata": {},
     "output_type": "execute_result"
    }
   ],
   "source": [
    "# caculate the log returns of 'buy and hold' and SMA strategy\n",
    "stock['Return'] = np.log(stock['price']/stock['price'].shift(1))\n",
    "stock['Strategy'] = stock['Position'].shift(1)*stock['Return']\n",
    "stock.dropna(inplace =True)\n",
    "stock.round(4).head()"
   ]
  },
  {
   "cell_type": "code",
   "execution_count": 133,
   "id": "d55bfacf",
   "metadata": {},
   "outputs": [
    {
     "data": {
      "text/plain": [
       "<matplotlib.legend.Legend at 0x7fca98349460>"
      ]
     },
     "execution_count": 133,
     "metadata": {},
     "output_type": "execute_result"
    },
    {
     "data": {
      "image/png": "[encoded data removed]",
      "text/plain": [
       "<Figure size 1440x864 with 1 Axes>"
      ]
     },
     "metadata": {
      "needs_background": "light"
     },
     "output_type": "display_data"
    }
   ],
   "source": [
    "# Plot out the strategy\n",
    "# We long/buy apple stock or derivatives if Fast Simple Moving Average is above Slow moving average \n",
    "\n",
    "fig, ax = plt.subplots(figsize=(20,12))\n",
    "ax.plot(stock.index, stock['price'], label= symbol)\n",
    "ax.plot(stock.index, stock['SmaFast'], label='SmaFast')\n",
    "ax.plot(stock.index, stock['SmaSlow'], label='SmaSlow')\n",
    "ax.set_xlabel('Date')\n",
    "ax.set_ylabel('Adjusted closing price ($)')\n",
    "ax.legend()\n"
   ]
  },
  {
   "cell_type": "code",
   "execution_count": 134,
   "id": "e3e971e3",
   "metadata": {
    "scrolled": true
   },
   "outputs": [
    {
     "data": {
      "text/plain": [
       "Return      8.029223\n",
       "Strategy    9.857583\n",
       "dtype: float64"
      ]
     },
     "execution_count": 134,
     "metadata": {},
     "output_type": "execute_result"
    }
   ],
   "source": [
    "np.exp(stock[['Return','Strategy']].sum())"
   ]
  },
  {
   "cell_type": "code",
   "execution_count": 135,
   "id": "e1bd02fb",
   "metadata": {},
   "outputs": [
    {
     "data": {
      "text/plain": [
       "Return      0.251734\n",
       "Strategy    0.251718\n",
       "dtype: float64"
      ]
     },
     "execution_count": 135,
     "metadata": {},
     "output_type": "execute_result"
    }
   ],
   "source": [
    "# caculate the annualized volatility\n",
    "stock[['Return','Strategy']].std()*254**0.5"
   ]
  },
  {
   "cell_type": "markdown",
   "id": "31016472",
   "metadata": {},
   "source": [
    "   * As we can see from above, SMA strategy generate higher return than benchmark (\"Buy and hold\") \n",
    "   * The annualized volatility, is almost the same. SMA's volatility is slightly lower"
   ]
  },
  {
   "cell_type": "markdown",
   "id": "c2fdafdf",
   "metadata": {},
   "source": [
    "#### Plot the Position( Long or Short) and Return of the strategy"
   ]
  },
  {
   "cell_type": "markdown",
   "id": "a3c3b2d2",
   "metadata": {},
   "source": [
    "* Blue Line: the cumulative return of the defined time period ( A simple buy and hold strategy)\n",
    "* Orange Line: Simple Moving Average(SMA)strategy's return\n",
    "* As you can see below, Given almost the same annulized volatilities, SMA strategy outperformed the \"buy and hold\" benchmark. "
   ]
  },
  {
   "cell_type": "code",
   "execution_count": 136,
   "id": "210015fd",
   "metadata": {},
   "outputs": [
    {
     "data": {
      "image/png": "[encoded data removed]",
      "text/plain": [
       "<Figure size 1800x864 with 2 Axes>"
      ]
     },
     "metadata": {
      "needs_background": "light"
     },
     "output_type": "display_data"
    }
   ],
   "source": [
    "ax = stock[['Return', 'Strategy']].cumsum().apply(np.exp).plot(figsize =(25,12))\n",
    "stock['Position'].plot(ax = ax, secondary_y ='Position', style = '--')\n",
    "ax.get_legend().set_bbox_to_anchor((0.25,0.85))\n"
   ]
  },
  {
   "cell_type": "code",
   "execution_count": null,
   "id": "d2b0c340",
   "metadata": {},
   "outputs": [],
   "source": []
  },
  {
   "cell_type": "code",
   "execution_count": 137,
   "id": "13868c2f",
   "metadata": {},
   "outputs": [
    {
     "data": {
      "text/html": [
       "<div>\n",
       "<style scoped>\n",
       "    .dataframe tbody tr th:only-of-type {\n",
       "        vertical-align: middle;\n",
       "    }\n",
       "\n",
       "    .dataframe tbody tr th {\n",
       "        vertical-align: top;\n",
       "    }\n",
       "\n",
       "    .dataframe thead th {\n",
       "        text-align: right;\n",
       "    }\n",
       "</style>\n",
       "<table border=\"1\" class=\"dataframe\">\n",
       "  <thead>\n",
       "    <tr style=\"text-align: right;\">\n",
       "      <th></th>\n",
       "      <th>price</th>\n",
       "      <th>SmaFast</th>\n",
       "      <th>SmaSlow</th>\n",
       "      <th>Position</th>\n",
       "      <th>Return</th>\n",
       "      <th>Strategy</th>\n",
       "    </tr>\n",
       "    <tr>\n",
       "      <th>Date</th>\n",
       "      <th></th>\n",
       "      <th></th>\n",
       "      <th></th>\n",
       "      <th></th>\n",
       "      <th></th>\n",
       "      <th></th>\n",
       "    </tr>\n",
       "  </thead>\n",
       "  <tbody>\n",
       "    <tr>\n",
       "      <th>2001-01-03</th>\n",
       "      <td>54.015961</td>\n",
       "      <td>58.929259</td>\n",
       "      <td>77.528741</td>\n",
       "      <td>-1</td>\n",
       "      <td>0.155653</td>\n",
       "      <td>-0.155653</td>\n",
       "    </tr>\n",
       "    <tr>\n",
       "      <th>2001-01-04</th>\n",
       "      <td>53.042706</td>\n",
       "      <td>58.503136</td>\n",
       "      <td>77.414853</td>\n",
       "      <td>-1</td>\n",
       "      <td>-0.018182</td>\n",
       "      <td>0.018182</td>\n",
       "    </tr>\n",
       "    <tr>\n",
       "      <th>2001-01-05</th>\n",
       "      <td>48.987450</td>\n",
       "      <td>57.958574</td>\n",
       "      <td>77.307139</td>\n",
       "      <td>-1</td>\n",
       "      <td>-0.079533</td>\n",
       "      <td>0.079533</td>\n",
       "    </tr>\n",
       "    <tr>\n",
       "      <th>2001-01-08</th>\n",
       "      <td>49.528164</td>\n",
       "      <td>57.439759</td>\n",
       "      <td>77.209217</td>\n",
       "      <td>-1</td>\n",
       "      <td>0.010977</td>\n",
       "      <td>-0.010977</td>\n",
       "    </tr>\n",
       "    <tr>\n",
       "      <th>2001-01-09</th>\n",
       "      <td>49.528164</td>\n",
       "      <td>56.927382</td>\n",
       "      <td>77.131411</td>\n",
       "      <td>-1</td>\n",
       "      <td>0.000000</td>\n",
       "      <td>-0.000000</td>\n",
       "    </tr>\n",
       "  </tbody>\n",
       "</table>\n",
       "</div>"
      ],
      "text/plain": [
       "                price    SmaFast    SmaSlow  Position    Return  Strategy\n",
       "Date                                                                     \n",
       "2001-01-03  54.015961  58.929259  77.528741        -1  0.155653 -0.155653\n",
       "2001-01-04  53.042706  58.503136  77.414853        -1 -0.018182  0.018182\n",
       "2001-01-05  48.987450  57.958574  77.307139        -1 -0.079533  0.079533\n",
       "2001-01-08  49.528164  57.439759  77.209217        -1  0.010977 -0.010977\n",
       "2001-01-09  49.528164  56.927382  77.131411        -1  0.000000 -0.000000"
      ]
     },
     "execution_count": 137,
     "metadata": {},
     "output_type": "execute_result"
    }
   ],
   "source": [
    "stock.head()"
   ]
  },
  {
   "cell_type": "markdown",
   "id": "aa2e271a",
   "metadata": {},
   "source": [
    "## Data Preprocessing"
   ]
  },
  {
   "cell_type": "markdown",
   "id": "0c0d0fc0",
   "metadata": {},
   "source": []
  },
  {
   "cell_type": "code",
   "execution_count": 143,
   "id": "8d4951c2",
   "metadata": {},
   "outputs": [],
   "source": [
    "# First make a copy of cleaned dataframe \n",
    "data = stock"
   ]
  },
  {
   "cell_type": "code",
   "execution_count": 144,
   "id": "95711c98",
   "metadata": {},
   "outputs": [
    {
     "data": {
      "text/plain": [
       "4275"
      ]
     },
     "execution_count": 144,
     "metadata": {},
     "output_type": "execute_result"
    }
   ],
   "source": [
    "# only keep Adj Close(price) as a dataframe\n",
    "PRICE = data.filter(['price'])\n",
    "# convert the dataframe to a numpy array \n",
    "dataset = PRICE.values \n",
    "# Here we use 80% of the data as training data\n",
    "train_data_len = math.ceil(len(dataset)* .8)\n",
    "train_data_len"
   ]
  },
  {
   "cell_type": "markdown",
   "id": "78f2e756",
   "metadata": {},
   "source": [
    "#### Normalizing the Data and split data into training & testing sets\n"
   ]
  },
  {
   "cell_type": "code",
   "execution_count": 145,
   "id": "9edb6e87",
   "metadata": {
    "scrolled": true
   },
   "outputs": [
    {
     "data": {
      "text/plain": [
       "array([[0.0950701 ],\n",
       "       [0.09254628],\n",
       "       [0.08203028],\n",
       "       ...,\n",
       "       [0.88685505],\n",
       "       [0.9012731 ],\n",
       "       [0.91755824]])"
      ]
     },
     "execution_count": 145,
     "metadata": {},
     "output_type": "execute_result"
    }
   ],
   "source": [
    "# Normalize and scale the data and transform it into a 0 to 1 range \n",
    "scaler = MinMaxScaler(feature_range = (0,1))\n",
    "scaled_data = scaler.fit_transform(dataset)\n",
    "scaled_data"
   ]
  },
  {
   "cell_type": "code",
   "execution_count": 146,
   "id": "d21b6918",
   "metadata": {},
   "outputs": [],
   "source": [
    "# Create the training data set\n",
    "# row: 0 to the lenght of training data, and get all the columns \n",
    "train_data = scaled_data[0: train_data_len, :]"
   ]
  },
  {
   "cell_type": "code",
   "execution_count": 147,
   "id": "c5a23db1",
   "metadata": {},
   "outputs": [
    {
     "name": "stdout",
     "output_type": "stream",
     "text": [
      "[array([0.0950701 , 0.09254628, 0.08203028, 0.08343245, 0.08343245,\n",
      "       0.09002244, 0.09394838, 0.09573616, 0.09405359, 0.09829505,\n",
      "       0.10432421, 0.10376331, 0.10390354, 0.10702323, 0.10558607,\n",
      "       0.09969716, 0.10204569, 0.10530566, 0.10474487, 0.0992485 ,\n",
      "       0.10115534, 0.09307906, 0.09296692, 0.09319122, 0.09094785,\n",
      "       0.08688728, 0.08152551, 0.08305106, 0.07894561, 0.08388106,\n",
      "       0.08601235, 0.07867641, 0.07387546, 0.07053279, 0.0694111 ,\n",
      "       0.06981494, 0.07199103, 0.06492425, 0.06144705, 0.06447558,\n",
      "       0.05976444, 0.06167134, 0.06582169, 0.06586652, 0.06380259,\n",
      "       0.05617495, 0.04989345, 0.05471678, 0.05314641, 0.04955692])]\n",
      "[0.04742571105051864]\n",
      "[array([0.0950701 , 0.09254628, 0.08203028, 0.08343245, 0.08343245,\n",
      "       0.09002244, 0.09394838, 0.09573616, 0.09405359, 0.09829505,\n",
      "       0.10432421, 0.10376331, 0.10390354, 0.10702323, 0.10558607,\n",
      "       0.09969716, 0.10204569, 0.10530566, 0.10474487, 0.0992485 ,\n",
      "       0.10115534, 0.09307906, 0.09296692, 0.09319122, 0.09094785,\n",
      "       0.08688728, 0.08152551, 0.08305106, 0.07894561, 0.08388106,\n",
      "       0.08601235, 0.07867641, 0.07387546, 0.07053279, 0.0694111 ,\n",
      "       0.06981494, 0.07199103, 0.06492425, 0.06144705, 0.06447558,\n",
      "       0.05976444, 0.06167134, 0.06582169, 0.06586652, 0.06380259,\n",
      "       0.05617495, 0.04989345, 0.05471678, 0.05314641, 0.04955692]), array([0.09254628, 0.08203028, 0.08343245, 0.08343245, 0.09002244,\n",
      "       0.09394838, 0.09573616, 0.09405359, 0.09829505, 0.10432421,\n",
      "       0.10376331, 0.10390354, 0.10702323, 0.10558607, 0.09969716,\n",
      "       0.10204569, 0.10530566, 0.10474487, 0.0992485 , 0.10115534,\n",
      "       0.09307906, 0.09296692, 0.09319122, 0.09094785, 0.08688728,\n",
      "       0.08152551, 0.08305106, 0.07894561, 0.08388106, 0.08601235,\n",
      "       0.07867641, 0.07387546, 0.07053279, 0.0694111 , 0.06981494,\n",
      "       0.07199103, 0.06492425, 0.06144705, 0.06447558, 0.05976444,\n",
      "       0.06167134, 0.06582169, 0.06586652, 0.06380259, 0.05617495,\n",
      "       0.04989345, 0.05471678, 0.05314641, 0.04955692, 0.04742571])]\n",
      "[0.04742571105051864, 0.05204711084290549]\n"
     ]
    }
   ],
   "source": [
    "# define x_train, y_train \n",
    "x_train =[]\n",
    "y_train =[]\n",
    "for i in range (50, len(train_data)):\n",
    "    x_train.append(train_data[i-50:i,0])\n",
    "    y_train.append(train_data[i,0])\n",
    "    if i <= 51:\n",
    "        print(x_train)\n",
    "        print(y_train)\n",
    "        #print()"
   ]
  },
  {
   "cell_type": "code",
   "execution_count": 148,
   "id": "42eb179f",
   "metadata": {},
   "outputs": [
    {
     "data": {
      "text/plain": [
       "(4225, 50, 1)"
      ]
     },
     "execution_count": 148,
     "metadata": {},
     "output_type": "execute_result"
    }
   ],
   "source": [
    "# convert the x_train , y_train to numpy arrays\n",
    "# LSTM model is expecting 3 dimensional data, but we only have 2 dimensional --> reshape the data\n",
    "x_train, y_train = np.array(x_train), np.array(y_train)\n",
    "x_train = np.reshape(x_train,(x_train.shape[0],x_train.shape[1],1))\n",
    "x_train.shape"
   ]
  },
  {
   "cell_type": "markdown",
   "id": "0136ba9b",
   "metadata": {},
   "source": [
    "## Implementation"
   ]
  },
  {
   "cell_type": "markdown",
   "id": "7120ee44",
   "metadata": {},
   "source": [
    "#### Build And Compile the LSTM Model \n",
    "\n",
    "\n",
    "* The model has 4 LSTM layers, each has 100 dimensions of hidden unit. \n",
    "* Dropout, 20% of 100 neurons will be ignored randomly during each iteration.\n",
    "* In the last layer return_sequences is False means there won’t be any feedback loop anymore, we are not going to add more layers. \n",
    "* Dense layer, unit =1, which means that the model only predict 1 price.\n",
    "* The optimizer is: Nesterov Adam\n",
    "* The loss function is : Mean Absolute Error \n",
    "* The batch size is 64\n",
    "* The training process has 20 epochs  \n",
    "\n",
    "\n",
    "An extremly nice blog posts about LSTM, Long and Short term memory model\n",
    "* https://colah.github.io/posts/2015-08-Understanding-LSTMs/\n",
    "* http://karpathy.github.io/2015/05/21/rnn-effectiveness/\n",
    "\n",
    "* Long short-term memory model( LSTM) is a RNN ( Recurrent Neural Network) architecture. LSTMs are extremely effective tool for sequence prediction problems. Since LTSM has feedback connection, it’s good at processing sequential of  historical data, such as : historical financial asset prices. \n",
    "* RNNs are analogous to the learning process of humans, just like us, it remembers some useful information from the past (feedback connection) and forget some none important information\n"
   ]
  },
  {
   "cell_type": "markdown",
   "id": "ec4046f3",
   "metadata": {},
   "source": []
  },
  {
   "cell_type": "code",
   "execution_count": null,
   "id": "5ded12f1",
   "metadata": {},
   "outputs": [],
   "source": []
  },
  {
   "cell_type": "code",
   "execution_count": 179,
   "id": "02c55500",
   "metadata": {},
   "outputs": [],
   "source": [
    "model = Sequential()\n",
    "# 1st lstm layer\n",
    "model.add(LSTM(units=100,return_sequences=True,input_shape=(x_train.shape[1], 1)))\n",
    "model.add(Dropout(0.2))\n",
    "# 2st lstm layer\n",
    "model.add(LSTM(units=100,return_sequences=True))\n",
    "model.add(Dropout(0.2))\n",
    "# 3st lstm layer\n",
    "model.add(LSTM(units=100,return_sequences=True))\n",
    "model.add(Dropout(0.2))\n",
    "# 4st lstm layer \n",
    "model.add(LSTM(units=100,return_sequences= False))\n",
    "model.add(Dropout(0.2))\n",
    "model.add(Dense(units=1))\n",
    "model.compile(optimizer='adam',loss='mae')"
   ]
  },
  {
   "cell_type": "markdown",
   "id": "9411eb0d",
   "metadata": {},
   "source": [
    "#### Train the model \n",
    "\n",
    "\"On sequence prediction problems, it may be desirable to use a large batch size when training the network and a batch size of 1 when making predictions in order to predict the next step in the sequence.\"\n",
    "\n",
    "There is an intereting reading about batch_size on machinelearningmastery.com:\n",
    "https://machinelearningmastery.com/use-different-batch-sizes-training-predicting-python-keras/\n"
   ]
  },
  {
   "cell_type": "code",
   "execution_count": 180,
   "id": "26d0ffe7",
   "metadata": {},
   "outputs": [
    {
     "name": "stdout",
     "output_type": "stream",
     "text": [
      "Epoch 1/20\n",
      "67/67 [==============================] - 14s 137ms/step - loss: 0.0135\n",
      "Epoch 2/20\n",
      "67/67 [==============================] - 11s 171ms/step - loss: 0.0126\n",
      "Epoch 3/20\n",
      "67/67 [==============================] - 10s 146ms/step - loss: 0.0081\n",
      "Epoch 4/20\n",
      "67/67 [==============================] - 8s 113ms/step - loss: 0.0103\n",
      "Epoch 5/20\n",
      "67/67 [==============================] - 8s 112ms/step - loss: 0.0070\n",
      "Epoch 6/20\n",
      "67/67 [==============================] - 7s 111ms/step - loss: 0.0065\n",
      "Epoch 7/20\n",
      "67/67 [==============================] - 8s 118ms/step - loss: 0.0072\n",
      "Epoch 8/20\n",
      "67/67 [==============================] - 8s 119ms/step - loss: 0.0090\n",
      "Epoch 9/20\n",
      "67/67 [==============================] - 9s 127ms/step - loss: 0.0076\n",
      "Epoch 10/20\n",
      "67/67 [==============================] - 8s 123ms/step - loss: 0.0064\n",
      "Epoch 11/20\n",
      "67/67 [==============================] - 9s 136ms/step - loss: 0.0059\n",
      "Epoch 12/20\n",
      "67/67 [==============================] - 9s 130ms/step - loss: 0.0074\n",
      "Epoch 13/20\n",
      "67/67 [==============================] - 8s 126ms/step - loss: 0.0060\n",
      "Epoch 14/20\n",
      "67/67 [==============================] - 8s 125ms/step - loss: 0.0065\n",
      "Epoch 15/20\n",
      "67/67 [==============================] - 8s 117ms/step - loss: 0.0080\n",
      "Epoch 16/20\n",
      "67/67 [==============================] - 8s 118ms/step - loss: 0.0059\n",
      "Epoch 17/20\n",
      "67/67 [==============================] - 8s 124ms/step - loss: 0.0057\n",
      "Epoch 18/20\n",
      "67/67 [==============================] - 8s 126ms/step - loss: 0.0071\n",
      "Epoch 19/20\n",
      "67/67 [==============================] - 9s 132ms/step - loss: 0.0065\n",
      "Epoch 20/20\n",
      "67/67 [==============================] - 8s 118ms/step - loss: 0.0073\n"
     ]
    },
    {
     "data": {
      "text/plain": [
       "<tensorflow.python.keras.callbacks.History at 0x7fca76981f40>"
      ]
     },
     "execution_count": 180,
     "metadata": {},
     "output_type": "execute_result"
    }
   ],
   "source": [
    "## train the model\n",
    "model.fit(x_train,y_train, batch_size =64, epochs =20)"
   ]
  },
  {
   "cell_type": "code",
   "execution_count": 174,
   "id": "ed84e377",
   "metadata": {},
   "outputs": [
    {
     "name": "stdout",
     "output_type": "stream",
     "text": [
      "Model: \"sequential_2\"\n",
      "_________________________________________________________________\n",
      "Layer (type)                 Output Shape              Param #   \n",
      "=================================================================\n",
      "lstm_8 (LSTM)                (None, 50, 100)           40800     \n",
      "_________________________________________________________________\n",
      "dropout_8 (Dropout)          (None, 50, 100)           0         \n",
      "_________________________________________________________________\n",
      "lstm_9 (LSTM)                (None, 50, 100)           80400     \n",
      "_________________________________________________________________\n",
      "dropout_9 (Dropout)          (None, 50, 100)           0         \n",
      "_________________________________________________________________\n",
      "lstm_10 (LSTM)               (None, 50, 100)           80400     \n",
      "_________________________________________________________________\n",
      "dropout_10 (Dropout)         (None, 50, 100)           0         \n",
      "_________________________________________________________________\n",
      "lstm_11 (LSTM)               (None, 100)               80400     \n",
      "_________________________________________________________________\n",
      "dropout_11 (Dropout)         (None, 100)               0         \n",
      "_________________________________________________________________\n",
      "dense_2 (Dense)              (None, 1)                 101       \n",
      "=================================================================\n",
      "Total params: 282,101\n",
      "Trainable params: 282,101\n",
      "Non-trainable params: 0\n",
      "_________________________________________________________________\n"
     ]
    }
   ],
   "source": [
    "model.summary()"
   ]
  },
  {
   "cell_type": "markdown",
   "id": "ddca0a41",
   "metadata": {},
   "source": [
    "### Refinement \n",
    "I have run this model with more LSTM layers and hidden units from 50 to 200. The results are similar. I have increased batch size from 32 to 64, the result improved. Moreover, I have increased the number of epochs, the differences are not significant. \n"
   ]
  },
  {
   "cell_type": "markdown",
   "id": "d334f927",
   "metadata": {},
   "source": [
    "## Model Evaluation and Validation"
   ]
  },
  {
   "cell_type": "code",
   "execution_count": 181,
   "id": "107bc214",
   "metadata": {},
   "outputs": [],
   "source": [
    "# create test data set\n",
    "test_data = scaled_data[train_data_len -50:, :]\n",
    "x_test = []\n",
    "y_test = dataset[train_data_len:, :]\n",
    "for i in range(50, len(test_data)):\n",
    "    x_test.append(test_data[i-50:i,0])\n",
    "\n",
    "x_test = np.array(x_test)"
   ]
  },
  {
   "cell_type": "code",
   "execution_count": 182,
   "id": "2e13fc8a",
   "metadata": {},
   "outputs": [],
   "source": [
    "# reshape the data, becasue the lstm model is expecting a 3 dimensional dataset \n",
    "x_test = np.reshape(x_test,(x_test.shape[0],x_test.shape[1],1))"
   ]
  },
  {
   "cell_type": "code",
   "execution_count": 183,
   "id": "6b72860d",
   "metadata": {},
   "outputs": [
    {
     "data": {
      "text/plain": [
       "array([[153.91406],\n",
       "       [153.8931 ],\n",
       "       [153.94916],\n",
       "       ...,\n",
       "       [308.18207],\n",
       "       [309.5841 ],\n",
       "       [311.03726]], dtype=float32)"
      ]
     },
     "execution_count": 183,
     "metadata": {},
     "output_type": "execute_result"
    }
   ],
   "source": [
    "# Use the model to predict the value \n",
    "predictions = model.predict(x_test)\n",
    "predictions = scaler.inverse_transform(predictions)\n",
    "predictions "
   ]
  },
  {
   "cell_type": "markdown",
   "id": "ba3c4989",
   "metadata": {},
   "source": [
    "\n"
   ]
  },
  {
   "cell_type": "code",
   "execution_count": 202,
   "id": "8a1b2c4c",
   "metadata": {},
   "outputs": [
    {
     "data": {
      "text/plain": [
       "243.92064306709204"
      ]
     },
     "execution_count": 202,
     "metadata": {},
     "output_type": "execute_result"
    }
   ],
   "source": [
    "y_test.mean()"
   ]
  },
  {
   "cell_type": "markdown",
   "id": "577f3079",
   "metadata": {},
   "source": []
  },
  {
   "cell_type": "code",
   "execution_count": 197,
   "id": "cc5f7f7e",
   "metadata": {},
   "outputs": [
    {
     "name": "stdout",
     "output_type": "stream",
     "text": [
      "R2 Score:  0.9144246464180766\n",
      "MAE:  15.6962864193577\n",
      "RMSE:  23.236819708456302\n"
     ]
    }
   ],
   "source": [
    "# Get the R2 Score \n",
    "# Get Mean Absolute Error\n",
    "# Get the mean squared error (RMSE), the lower the value of RMSE, the better the model fits\n",
    "\n",
    "print('R2 Score: ', r2_score(y_test, predictions))\n",
    "print('MAE: ', mean_absolute_error(y_test, predictions))\n",
    "print('RMSE: ',np.sqrt(mean_squared_error(y_test, predictions)))"
   ]
  },
  {
   "cell_type": "code",
   "execution_count": 195,
   "id": "f8900f8b",
   "metadata": {},
   "outputs": [
    {
     "name": "stdout",
     "output_type": "stream",
     "text": [
      "RMSE:  23.236819708456302\n"
     ]
    }
   ],
   "source": [
    "print('RMSE: ',np.sqrt(mean_squared_error(y_test, predictions)))"
   ]
  },
  {
   "cell_type": "code",
   "execution_count": 161,
   "id": "04019a51",
   "metadata": {},
   "outputs": [],
   "source": [
    "# create a validation dataset\n",
    "train = data.iloc[: train_data_len]\n",
    "finalDF = data.iloc[ train_data_len:]\n",
    "finalDF['Predictions'] = predictions"
   ]
  },
  {
   "cell_type": "code",
   "execution_count": 199,
   "id": "4a836aca",
   "metadata": {},
   "outputs": [
    {
     "data": {
      "text/html": [
       "<div>\n",
       "<style scoped>\n",
       "    .dataframe tbody tr th:only-of-type {\n",
       "        vertical-align: middle;\n",
       "    }\n",
       "\n",
       "    .dataframe tbody tr th {\n",
       "        vertical-align: top;\n",
       "    }\n",
       "\n",
       "    .dataframe thead th {\n",
       "        text-align: right;\n",
       "    }\n",
       "</style>\n",
       "<table border=\"1\" class=\"dataframe\">\n",
       "  <thead>\n",
       "    <tr style=\"text-align: right;\">\n",
       "      <th></th>\n",
       "      <th>price</th>\n",
       "      <th>SmaFast</th>\n",
       "      <th>SmaSlow</th>\n",
       "      <th>Position</th>\n",
       "      <th>Return</th>\n",
       "      <th>Strategy</th>\n",
       "      <th>Predictions</th>\n",
       "    </tr>\n",
       "    <tr>\n",
       "      <th>Date</th>\n",
       "      <th></th>\n",
       "      <th></th>\n",
       "      <th></th>\n",
       "      <th></th>\n",
       "      <th></th>\n",
       "      <th></th>\n",
       "      <th></th>\n",
       "    </tr>\n",
       "  </thead>\n",
       "  <tbody>\n",
       "    <tr>\n",
       "      <th>2022-03-02</th>\n",
       "      <td>346.791260</td>\n",
       "      <td>360.802035</td>\n",
       "      <td>357.675791</td>\n",
       "      <td>1</td>\n",
       "      <td>0.016640</td>\n",
       "      <td>0.016640</td>\n",
       "      <td>316.029388</td>\n",
       "    </tr>\n",
       "    <tr>\n",
       "      <th>2022-03-03</th>\n",
       "      <td>341.837402</td>\n",
       "      <td>359.480098</td>\n",
       "      <td>357.775614</td>\n",
       "      <td>1</td>\n",
       "      <td>-0.014388</td>\n",
       "      <td>-0.014388</td>\n",
       "      <td>315.600616</td>\n",
       "    </tr>\n",
       "    <tr>\n",
       "      <th>2022-03-04</th>\n",
       "      <td>336.883514</td>\n",
       "      <td>357.949134</td>\n",
       "      <td>357.892094</td>\n",
       "      <td>1</td>\n",
       "      <td>-0.014598</td>\n",
       "      <td>-0.014598</td>\n",
       "      <td>315.398010</td>\n",
       "    </tr>\n",
       "    <tr>\n",
       "      <th>2022-03-07</th>\n",
       "      <td>324.458862</td>\n",
       "      <td>356.246239</td>\n",
       "      <td>357.979458</td>\n",
       "      <td>-1</td>\n",
       "      <td>-0.037578</td>\n",
       "      <td>-0.037578</td>\n",
       "      <td>315.211609</td>\n",
       "    </tr>\n",
       "    <tr>\n",
       "      <th>2022-03-08</th>\n",
       "      <td>322.950745</td>\n",
       "      <td>354.797078</td>\n",
       "      <td>358.042962</td>\n",
       "      <td>-1</td>\n",
       "      <td>-0.004659</td>\n",
       "      <td>0.004659</td>\n",
       "      <td>314.696960</td>\n",
       "    </tr>\n",
       "    <tr>\n",
       "      <th>2022-03-09</th>\n",
       "      <td>334.576355</td>\n",
       "      <td>353.631139</td>\n",
       "      <td>358.186438</td>\n",
       "      <td>-1</td>\n",
       "      <td>0.035365</td>\n",
       "      <td>-0.035365</td>\n",
       "      <td>313.694397</td>\n",
       "    </tr>\n",
       "    <tr>\n",
       "      <th>2022-03-10</th>\n",
       "      <td>330.860962</td>\n",
       "      <td>352.475663</td>\n",
       "      <td>358.268993</td>\n",
       "      <td>-1</td>\n",
       "      <td>-0.011167</td>\n",
       "      <td>0.011167</td>\n",
       "      <td>312.465118</td>\n",
       "    </tr>\n",
       "    <tr>\n",
       "      <th>2022-03-11</th>\n",
       "      <td>323.999420</td>\n",
       "      <td>351.150872</td>\n",
       "      <td>358.328017</td>\n",
       "      <td>-1</td>\n",
       "      <td>-0.020957</td>\n",
       "      <td>0.020957</td>\n",
       "      <td>311.205505</td>\n",
       "    </tr>\n",
       "    <tr>\n",
       "      <th>2022-03-14</th>\n",
       "      <td>317.777161</td>\n",
       "      <td>349.542148</td>\n",
       "      <td>358.334524</td>\n",
       "      <td>-1</td>\n",
       "      <td>-0.019391</td>\n",
       "      <td>0.019391</td>\n",
       "      <td>309.913971</td>\n",
       "    </tr>\n",
       "    <tr>\n",
       "      <th>2022-03-15</th>\n",
       "      <td>327.744812</td>\n",
       "      <td>348.134365</td>\n",
       "      <td>358.390370</td>\n",
       "      <td>-1</td>\n",
       "      <td>0.030885</td>\n",
       "      <td>-0.030885</td>\n",
       "      <td>308.480469</td>\n",
       "    </tr>\n",
       "    <tr>\n",
       "      <th>2022-03-16</th>\n",
       "      <td>339.899780</td>\n",
       "      <td>347.246414</td>\n",
       "      <td>358.480883</td>\n",
       "      <td>-1</td>\n",
       "      <td>0.036416</td>\n",
       "      <td>-0.036416</td>\n",
       "      <td>307.074768</td>\n",
       "    </tr>\n",
       "    <tr>\n",
       "      <th>2022-03-17</th>\n",
       "      <td>344.014709</td>\n",
       "      <td>346.400556</td>\n",
       "      <td>358.580748</td>\n",
       "      <td>-1</td>\n",
       "      <td>0.012034</td>\n",
       "      <td>-0.012034</td>\n",
       "      <td>306.084167</td>\n",
       "    </tr>\n",
       "    <tr>\n",
       "      <th>2022-03-18</th>\n",
       "      <td>351.055969</td>\n",
       "      <td>345.947306</td>\n",
       "      <td>358.703169</td>\n",
       "      <td>-1</td>\n",
       "      <td>0.020261</td>\n",
       "      <td>-0.020261</td>\n",
       "      <td>305.772156</td>\n",
       "    </tr>\n",
       "    <tr>\n",
       "      <th>2022-03-21</th>\n",
       "      <td>350.079987</td>\n",
       "      <td>345.567604</td>\n",
       "      <td>358.860332</td>\n",
       "      <td>-1</td>\n",
       "      <td>-0.002784</td>\n",
       "      <td>0.002784</td>\n",
       "      <td>306.279114</td>\n",
       "    </tr>\n",
       "    <tr>\n",
       "      <th>2022-03-22</th>\n",
       "      <td>356.959991</td>\n",
       "      <td>345.464905</td>\n",
       "      <td>359.040278</td>\n",
       "      <td>-1</td>\n",
       "      <td>0.019462</td>\n",
       "      <td>-0.019462</td>\n",
       "      <td>307.486542</td>\n",
       "    </tr>\n",
       "    <tr>\n",
       "      <th>2022-03-23</th>\n",
       "      <td>351.829987</td>\n",
       "      <td>345.478577</td>\n",
       "      <td>359.177046</td>\n",
       "      <td>-1</td>\n",
       "      <td>-0.014476</td>\n",
       "      <td>0.014476</td>\n",
       "      <td>309.272614</td>\n",
       "    </tr>\n",
       "    <tr>\n",
       "      <th>2022-03-24</th>\n",
       "      <td>359.649994</td>\n",
       "      <td>345.640155</td>\n",
       "      <td>359.350048</td>\n",
       "      <td>-1</td>\n",
       "      <td>0.021983</td>\n",
       "      <td>-0.021983</td>\n",
       "      <td>311.335052</td>\n",
       "    </tr>\n",
       "    <tr>\n",
       "      <th>2022-03-25</th>\n",
       "      <td>359.350006</td>\n",
       "      <td>345.989349</td>\n",
       "      <td>359.542831</td>\n",
       "      <td>-1</td>\n",
       "      <td>-0.000834</td>\n",
       "      <td>0.000834</td>\n",
       "      <td>313.537567</td>\n",
       "    </tr>\n",
       "    <tr>\n",
       "      <th>2022-03-28</th>\n",
       "      <td>364.910004</td>\n",
       "      <td>346.483765</td>\n",
       "      <td>359.759620</td>\n",
       "      <td>-1</td>\n",
       "      <td>0.015354</td>\n",
       "      <td>-0.015354</td>\n",
       "      <td>315.749634</td>\n",
       "    </tr>\n",
       "    <tr>\n",
       "      <th>2022-03-29</th>\n",
       "      <td>371.190002</td>\n",
       "      <td>347.210221</td>\n",
       "      <td>359.982835</td>\n",
       "      <td>-1</td>\n",
       "      <td>0.017063</td>\n",
       "      <td>-0.017063</td>\n",
       "      <td>317.947754</td>\n",
       "    </tr>\n",
       "  </tbody>\n",
       "</table>\n",
       "</div>"
      ],
      "text/plain": [
       "                 price     SmaFast     SmaSlow  Position    Return  Strategy  \\\n",
       "Date                                                                           \n",
       "2022-03-02  346.791260  360.802035  357.675791         1  0.016640  0.016640   \n",
       "2022-03-03  341.837402  359.480098  357.775614         1 -0.014388 -0.014388   \n",
       "2022-03-04  336.883514  357.949134  357.892094         1 -0.014598 -0.014598   \n",
       "2022-03-07  324.458862  356.246239  357.979458        -1 -0.037578 -0.037578   \n",
       "2022-03-08  322.950745  354.797078  358.042962        -1 -0.004659  0.004659   \n",
       "2022-03-09  334.576355  353.631139  358.186438        -1  0.035365 -0.035365   \n",
       "2022-03-10  330.860962  352.475663  358.268993        -1 -0.011167  0.011167   \n",
       "2022-03-11  323.999420  351.150872  358.328017        -1 -0.020957  0.020957   \n",
       "2022-03-14  317.777161  349.542148  358.334524        -1 -0.019391  0.019391   \n",
       "2022-03-15  327.744812  348.134365  358.390370        -1  0.030885 -0.030885   \n",
       "2022-03-16  339.899780  347.246414  358.480883        -1  0.036416 -0.036416   \n",
       "2022-03-17  344.014709  346.400556  358.580748        -1  0.012034 -0.012034   \n",
       "2022-03-18  351.055969  345.947306  358.703169        -1  0.020261 -0.020261   \n",
       "2022-03-21  350.079987  345.567604  358.860332        -1 -0.002784  0.002784   \n",
       "2022-03-22  356.959991  345.464905  359.040278        -1  0.019462 -0.019462   \n",
       "2022-03-23  351.829987  345.478577  359.177046        -1 -0.014476  0.014476   \n",
       "2022-03-24  359.649994  345.640155  359.350048        -1  0.021983 -0.021983   \n",
       "2022-03-25  359.350006  345.989349  359.542831        -1 -0.000834  0.000834   \n",
       "2022-03-28  364.910004  346.483765  359.759620        -1  0.015354 -0.015354   \n",
       "2022-03-29  371.190002  347.210221  359.982835        -1  0.017063 -0.017063   \n",
       "\n",
       "            Predictions  \n",
       "Date                     \n",
       "2022-03-02   316.029388  \n",
       "2022-03-03   315.600616  \n",
       "2022-03-04   315.398010  \n",
       "2022-03-07   315.211609  \n",
       "2022-03-08   314.696960  \n",
       "2022-03-09   313.694397  \n",
       "2022-03-10   312.465118  \n",
       "2022-03-11   311.205505  \n",
       "2022-03-14   309.913971  \n",
       "2022-03-15   308.480469  \n",
       "2022-03-16   307.074768  \n",
       "2022-03-17   306.084167  \n",
       "2022-03-18   305.772156  \n",
       "2022-03-21   306.279114  \n",
       "2022-03-22   307.486542  \n",
       "2022-03-23   309.272614  \n",
       "2022-03-24   311.335052  \n",
       "2022-03-25   313.537567  \n",
       "2022-03-28   315.749634  \n",
       "2022-03-29   317.947754  "
      ]
     },
     "execution_count": 199,
     "metadata": {},
     "output_type": "execute_result"
    }
   ],
   "source": [
    "finalDF.tail(20)"
   ]
  },
  {
   "cell_type": "code",
   "execution_count": null,
   "id": "472ca571",
   "metadata": {},
   "outputs": [],
   "source": []
  },
  {
   "cell_type": "code",
   "execution_count": 164,
   "id": "d73c29b8",
   "metadata": {},
   "outputs": [],
   "source": [
    "finalDF.to_csv(\"final_prediction.csv\")"
   ]
  },
  {
   "cell_type": "markdown",
   "id": "9f91eb65",
   "metadata": {},
   "source": [
    "### Visualize the Model's Prediction \n",
    "\n",
    "Now we are going to visualize the LTSM model's prediction and compare the actual prices and predicited prices"
   ]
  },
  {
   "cell_type": "code",
   "execution_count": 203,
   "id": "786e79a0",
   "metadata": {},
   "outputs": [
    {
     "data": {
      "image/png": "[encoded data removed]",
      "text/plain": [
       "<Figure size 1440x792 with 1 Axes>"
      ]
     },
     "metadata": {
      "needs_background": "light"
     },
     "output_type": "display_data"
    }
   ],
   "source": [
    "# plot out the actual price and the \n",
    "plt.figure(figsize =(20,11))\n",
    "plt.title('FINANCIAL ASSET PRICE PREDICTIONS WITH LSTM MODEL',fontsize = 20)\n",
    "plt.xlabel('Date', fontsize = 20)\n",
    "plt.ylabel('Price', fontsize =20)\n",
    "plt.plot(train['price'])\n",
    "plt.plot(finalDF[['price', 'Predictions']])\n",
    "plt.legend(['Train','Actual Price','Predictions'], loc ='upper left')\n",
    "plt.show()"
   ]
  },
  {
   "cell_type": "markdown",
   "id": "dce3ec3c",
   "metadata": {},
   "source": [
    "The plot above showed us that:\n",
    "\n",
    "* The blue line: training data\n",
    "* The orange line is the actual price \n",
    "* The green line is the predciton that LSTM model made \n",
    "\n",
    "We can see that the predicted price follows the trend of actual price pretty well"
   ]
  },
  {
   "cell_type": "code",
   "execution_count": null,
   "id": "3669e6f7",
   "metadata": {
    "scrolled": true
   },
   "outputs": [],
   "source": []
  },
  {
   "cell_type": "markdown",
   "id": "951b9aae",
   "metadata": {},
   "source": [
    "#### Save the Model"
   ]
  },
  {
   "cell_type": "code",
   "execution_count": 204,
   "id": "abee93b3",
   "metadata": {},
   "outputs": [],
   "source": [
    "# Pretty decent result, now lets save the model \n",
    "model.save('model.h5')"
   ]
  },
  {
   "cell_type": "markdown",
   "id": "6957b960",
   "metadata": {},
   "source": [
    "### Predict prices of other stocks and financial asset and evaluate the robustness of the LSTM\n",
    "\n",
    "now we're going to use this model to predict different asset class: such as stock index and digital currency. "
   ]
  },
  {
   "cell_type": "markdown",
   "id": "32dd9c3b",
   "metadata": {},
   "source": []
  },
  {
   "cell_type": "code",
   "execution_count": 232,
   "id": "22359dc9",
   "metadata": {},
   "outputs": [],
   "source": [
    "# Define a function that download data and predict price of the desired financial asset\n",
    "def predict_price(symbol,startdate,enddate,interval):\n",
    "    '''\n",
    "    input: symbol of the stock/financial instrument as a string\n",
    "    input: startdate & enddate & interval as string\n",
    "    output: predicted price for the next dag\n",
    "    '''\n",
    "    DFPred = download_data(symbol, startdate, enddate,interval)\n",
    "    DFPred = DFPred.filter(['Adj Close'])\n",
    "    # Get the last 50 day Adj Close price and convert the df into an array\n",
    "    last_50_days = DFPred[-20:].values\n",
    "    # Transform the data into value between 0 and 1\n",
    "    last_50_days_scaled = scaler.transform(last_50_days)\n",
    "    # Creat an empty list and append the last 50 days and convert it into numply array \n",
    "    X_test =[]\n",
    "    X_test.append(last_50_days_scaled)\n",
    "    X_test = np.array(X_test)\n",
    "    X_test = np.reshape(X_test, (X_test.shape[0], X_test.shape[1],1))\n",
    "    # Get the predicted scaled price and undo the scaling\n",
    "    pred_price = model.predict(X_test)\n",
    "    pred_price = scaler.inverse_transform(pred_price)\n",
    "    str_pred = str(pred_price[0][0])\n",
    "    print( \"The predicted price is \" + str_pred)"
   ]
  },
  {
   "cell_type": "code",
   "execution_count": null,
   "id": "1fcce6a3",
   "metadata": {},
   "outputs": [],
   "source": []
  },
  {
   "cell_type": "markdown",
   "id": "ce9896a8",
   "metadata": {},
   "source": [
    "##### Use the model to predict price of 1 day in the future and compare with the actual result"
   ]
  },
  {
   "cell_type": "code",
   "execution_count": 219,
   "id": "163f5b2a",
   "metadata": {},
   "outputs": [
    {
     "name": "stdout",
     "output_type": "stream",
     "text": [
      "[*********************100%***********************]  1 of 1 completed\n",
      "The predicted price is 337.84024\n",
      "[*********************100%***********************]  1 of 1 completed\n"
     ]
    },
    {
     "data": {
      "text/html": [
       "<div>\n",
       "<style scoped>\n",
       "    .dataframe tbody tr th:only-of-type {\n",
       "        vertical-align: middle;\n",
       "    }\n",
       "\n",
       "    .dataframe tbody tr th {\n",
       "        vertical-align: top;\n",
       "    }\n",
       "\n",
       "    .dataframe thead th {\n",
       "        text-align: right;\n",
       "    }\n",
       "</style>\n",
       "<table border=\"1\" class=\"dataframe\">\n",
       "  <thead>\n",
       "    <tr style=\"text-align: right;\">\n",
       "      <th></th>\n",
       "      <th>Open</th>\n",
       "      <th>High</th>\n",
       "      <th>Low</th>\n",
       "      <th>Close</th>\n",
       "      <th>Adj Close</th>\n",
       "      <th>Volume</th>\n",
       "    </tr>\n",
       "    <tr>\n",
       "      <th>Date</th>\n",
       "      <th></th>\n",
       "      <th></th>\n",
       "      <th></th>\n",
       "      <th></th>\n",
       "      <th></th>\n",
       "      <th></th>\n",
       "    </tr>\n",
       "  </thead>\n",
       "  <tbody>\n",
       "    <tr>\n",
       "      <th>2021-12-01</th>\n",
       "      <td>398.279999</td>\n",
       "      <td>400.480011</td>\n",
       "      <td>386.640015</td>\n",
       "      <td>387.119995</td>\n",
       "      <td>386.148804</td>\n",
       "      <td>77766500</td>\n",
       "    </tr>\n",
       "  </tbody>\n",
       "</table>\n",
       "</div>"
      ],
      "text/plain": [
       "                  Open        High         Low       Close   Adj Close  \\\n",
       "Date                                                                     \n",
       "2021-12-01  398.279999  400.480011  386.640015  387.119995  386.148804   \n",
       "\n",
       "              Volume  \n",
       "Date                  \n",
       "2021-12-01  77766500  "
      ]
     },
     "execution_count": 219,
     "metadata": {},
     "output_type": "execute_result"
    }
   ],
   "source": [
    "symbol = \"QQQ\"\n",
    "startdate = \"2021-01-01\"\n",
    "enddate = \"2021-11-30\"\n",
    "interval = \"1d\"\n",
    "predict_price(symbol, startdate, enddate, interval)\n",
    "new = download_data(symbol, \"2021-12-02\", \"2021-12-02\",\"1d\")\n",
    "new"
   ]
  },
  {
   "cell_type": "code",
   "execution_count": 207,
   "id": "26a38d50",
   "metadata": {},
   "outputs": [],
   "source": [
    "# Run the model in the future by load the model \n",
    "#model = keras.models.load_model('model.h5')"
   ]
  },
  {
   "cell_type": "markdown",
   "id": "c3c387a3",
   "metadata": {},
   "source": [
    "##### Let's use the model to predict the price of other stock and financial asset\n"
   ]
  },
  {
   "cell_type": "code",
   "execution_count": 208,
   "id": "0d85e21f",
   "metadata": {},
   "outputs": [
    {
     "name": "stdout",
     "output_type": "stream",
     "text": [
      "[*********************100%***********************]  1 of 1 completed\n",
      "The predicted price is 308.0622\n",
      "[*********************100%***********************]  1 of 1 completed\n"
     ]
    },
    {
     "data": {
      "text/html": [
       "<div>\n",
       "<style scoped>\n",
       "    .dataframe tbody tr th:only-of-type {\n",
       "        vertical-align: middle;\n",
       "    }\n",
       "\n",
       "    .dataframe tbody tr th {\n",
       "        vertical-align: top;\n",
       "    }\n",
       "\n",
       "    .dataframe thead th {\n",
       "        text-align: right;\n",
       "    }\n",
       "</style>\n",
       "<table border=\"1\" class=\"dataframe\">\n",
       "  <thead>\n",
       "    <tr style=\"text-align: right;\">\n",
       "      <th></th>\n",
       "      <th>Open</th>\n",
       "      <th>High</th>\n",
       "      <th>Low</th>\n",
       "      <th>Close</th>\n",
       "      <th>Adj Close</th>\n",
       "      <th>Volume</th>\n",
       "    </tr>\n",
       "    <tr>\n",
       "      <th>Date</th>\n",
       "      <th></th>\n",
       "      <th></th>\n",
       "      <th></th>\n",
       "      <th></th>\n",
       "      <th></th>\n",
       "      <th></th>\n",
       "    </tr>\n",
       "  </thead>\n",
       "  <tbody>\n",
       "    <tr>\n",
       "      <th>2021-12-01</th>\n",
       "      <td>330.290009</td>\n",
       "      <td>330.5</td>\n",
       "      <td>310.290009</td>\n",
       "      <td>310.600006</td>\n",
       "      <td>310.600006</td>\n",
       "      <td>30329600</td>\n",
       "    </tr>\n",
       "  </tbody>\n",
       "</table>\n",
       "</div>"
      ],
      "text/plain": [
       "                  Open   High         Low       Close   Adj Close    Volume\n",
       "Date                                                                       \n",
       "2021-12-01  330.290009  330.5  310.290009  310.600006  310.600006  30329600"
      ]
     },
     "execution_count": 208,
     "metadata": {},
     "output_type": "execute_result"
    }
   ],
   "source": [
    "symbol = \"FB\"\n",
    "startdate = \"2021-01-01\"\n",
    "enddate = \"2021-11-30\"\n",
    "interval = \"1d\"\n",
    "predict_price(symbol, startdate, enddate, interval)\n",
    "new = download_data(symbol, \"2021-12-02\", \"2021-12-02\",\"1d\")\n",
    "new"
   ]
  },
  {
   "cell_type": "code",
   "execution_count": null,
   "id": "576ba0a0",
   "metadata": {},
   "outputs": [],
   "source": []
  },
  {
   "cell_type": "markdown",
   "id": "a37f20f8",
   "metadata": {},
   "source": [
    "##### Evaluate the model and use the model to predict the price of Amsterdam AEX index"
   ]
  },
  {
   "cell_type": "code",
   "execution_count": 220,
   "id": "b9ec6034",
   "metadata": {},
   "outputs": [
    {
     "name": "stdout",
     "output_type": "stream",
     "text": [
      "[*********************100%***********************]  1 of 1 completed\n",
      "The predicted price is 401.73883\n",
      "[*********************100%***********************]  1 of 1 completed\n"
     ]
    },
    {
     "data": {
      "text/html": [
       "<div>\n",
       "<style scoped>\n",
       "    .dataframe tbody tr th:only-of-type {\n",
       "        vertical-align: middle;\n",
       "    }\n",
       "\n",
       "    .dataframe tbody tr th {\n",
       "        vertical-align: top;\n",
       "    }\n",
       "\n",
       "    .dataframe thead th {\n",
       "        text-align: right;\n",
       "    }\n",
       "</style>\n",
       "<table border=\"1\" class=\"dataframe\">\n",
       "  <thead>\n",
       "    <tr style=\"text-align: right;\">\n",
       "      <th></th>\n",
       "      <th>Open</th>\n",
       "      <th>High</th>\n",
       "      <th>Low</th>\n",
       "      <th>Close</th>\n",
       "      <th>Adj Close</th>\n",
       "      <th>Volume</th>\n",
       "    </tr>\n",
       "    <tr>\n",
       "      <th>Date</th>\n",
       "      <th></th>\n",
       "      <th></th>\n",
       "      <th></th>\n",
       "      <th></th>\n",
       "      <th></th>\n",
       "      <th></th>\n",
       "    </tr>\n",
       "  </thead>\n",
       "  <tbody>\n",
       "    <tr>\n",
       "      <th>2021-12-01</th>\n",
       "      <td>783.840027</td>\n",
       "      <td>792.159973</td>\n",
       "      <td>783.840027</td>\n",
       "      <td>790.700012</td>\n",
       "      <td>790.700012</td>\n",
       "      <td>90800</td>\n",
       "    </tr>\n",
       "  </tbody>\n",
       "</table>\n",
       "</div>"
      ],
      "text/plain": [
       "                  Open        High         Low       Close   Adj Close  Volume\n",
       "Date                                                                          \n",
       "2021-12-01  783.840027  792.159973  783.840027  790.700012  790.700012   90800"
      ]
     },
     "execution_count": 220,
     "metadata": {},
     "output_type": "execute_result"
    }
   ],
   "source": [
    "symbol = \"^AEX\"\n",
    "startdate = \"2021-01-01\"\n",
    "enddate = \"2021-11-30\"\n",
    "interval = \"1d\"\n",
    "predict_price(symbol, startdate, enddate, interval)\n",
    "new = download_data(symbol, \"2021-12-01\", \"2021-12-02\",\"1d\")\n",
    "new"
   ]
  },
  {
   "cell_type": "code",
   "execution_count": null,
   "id": "83a43564",
   "metadata": {},
   "outputs": [],
   "source": []
  },
  {
   "cell_type": "markdown",
   "id": "6b9986d1",
   "metadata": {},
   "source": [
    "##### Use the Model to predict the price of Microsoft stock"
   ]
  },
  {
   "cell_type": "code",
   "execution_count": 221,
   "id": "faee5b75",
   "metadata": {},
   "outputs": [
    {
     "name": "stdout",
     "output_type": "stream",
     "text": [
      "[*********************100%***********************]  1 of 1 completed\n",
      "The predicted price is 306.253\n",
      "[*********************100%***********************]  1 of 1 completed\n"
     ]
    },
    {
     "data": {
      "text/html": [
       "<div>\n",
       "<style scoped>\n",
       "    .dataframe tbody tr th:only-of-type {\n",
       "        vertical-align: middle;\n",
       "    }\n",
       "\n",
       "    .dataframe tbody tr th {\n",
       "        vertical-align: top;\n",
       "    }\n",
       "\n",
       "    .dataframe thead th {\n",
       "        text-align: right;\n",
       "    }\n",
       "</style>\n",
       "<table border=\"1\" class=\"dataframe\">\n",
       "  <thead>\n",
       "    <tr style=\"text-align: right;\">\n",
       "      <th></th>\n",
       "      <th>Open</th>\n",
       "      <th>High</th>\n",
       "      <th>Low</th>\n",
       "      <th>Close</th>\n",
       "      <th>Adj Close</th>\n",
       "      <th>Volume</th>\n",
       "    </tr>\n",
       "    <tr>\n",
       "      <th>Date</th>\n",
       "      <th></th>\n",
       "      <th></th>\n",
       "      <th></th>\n",
       "      <th></th>\n",
       "      <th></th>\n",
       "      <th></th>\n",
       "    </tr>\n",
       "  </thead>\n",
       "  <tbody>\n",
       "    <tr>\n",
       "      <th>2021-12-01</th>\n",
       "      <td>335.130005</td>\n",
       "      <td>339.279999</td>\n",
       "      <td>329.390015</td>\n",
       "      <td>330.079987</td>\n",
       "      <td>329.398895</td>\n",
       "      <td>33337600</td>\n",
       "    </tr>\n",
       "  </tbody>\n",
       "</table>\n",
       "</div>"
      ],
      "text/plain": [
       "                  Open        High         Low       Close   Adj Close  \\\n",
       "Date                                                                     \n",
       "2021-12-01  335.130005  339.279999  329.390015  330.079987  329.398895   \n",
       "\n",
       "              Volume  \n",
       "Date                  \n",
       "2021-12-01  33337600  "
      ]
     },
     "execution_count": 221,
     "metadata": {},
     "output_type": "execute_result"
    }
   ],
   "source": [
    "symbol = \"MSFT\"\n",
    "startdate = \"2021-01-01\"\n",
    "enddate = \"2021-11-30\"\n",
    "interval = \"1d\"\n",
    "predict_price(symbol, startdate, enddate, interval)\n",
    "new = download_data(symbol, \"2021-12-02\", \"2021-12-02\",\"1d\")\n",
    "new\n"
   ]
  },
  {
   "cell_type": "markdown",
   "id": "1eba14f6",
   "metadata": {},
   "source": [
    "\n",
    "##### Use the Model to predict the price of  Shell plc"
   ]
  },
  {
   "cell_type": "code",
   "execution_count": 222,
   "id": "c9f46582",
   "metadata": {},
   "outputs": [
    {
     "name": "stdout",
     "output_type": "stream",
     "text": [
      "[*********************100%***********************]  1 of 1 completed\n",
      "The predicted price is 44.74573\n",
      "[*********************100%***********************]  1 of 1 completed\n"
     ]
    },
    {
     "data": {
      "text/html": [
       "<div>\n",
       "<style scoped>\n",
       "    .dataframe tbody tr th:only-of-type {\n",
       "        vertical-align: middle;\n",
       "    }\n",
       "\n",
       "    .dataframe tbody tr th {\n",
       "        vertical-align: top;\n",
       "    }\n",
       "\n",
       "    .dataframe thead th {\n",
       "        text-align: right;\n",
       "    }\n",
       "</style>\n",
       "<table border=\"1\" class=\"dataframe\">\n",
       "  <thead>\n",
       "    <tr style=\"text-align: right;\">\n",
       "      <th></th>\n",
       "      <th>Open</th>\n",
       "      <th>High</th>\n",
       "      <th>Low</th>\n",
       "      <th>Close</th>\n",
       "      <th>Adj Close</th>\n",
       "      <th>Volume</th>\n",
       "    </tr>\n",
       "    <tr>\n",
       "      <th>Date</th>\n",
       "      <th></th>\n",
       "      <th></th>\n",
       "      <th></th>\n",
       "      <th></th>\n",
       "      <th></th>\n",
       "      <th></th>\n",
       "    </tr>\n",
       "  </thead>\n",
       "  <tbody>\n",
       "    <tr>\n",
       "      <th>2021-12-01</th>\n",
       "      <td>43.02</td>\n",
       "      <td>43.115002</td>\n",
       "      <td>41.560001</td>\n",
       "      <td>41.59</td>\n",
       "      <td>41.59</td>\n",
       "      <td>6006255</td>\n",
       "    </tr>\n",
       "  </tbody>\n",
       "</table>\n",
       "</div>"
      ],
      "text/plain": [
       "             Open       High        Low  Close  Adj Close   Volume\n",
       "Date                                                              \n",
       "2021-12-01  43.02  43.115002  41.560001  41.59      41.59  6006255"
      ]
     },
     "execution_count": 222,
     "metadata": {},
     "output_type": "execute_result"
    }
   ],
   "source": [
    "symbol = \"SHEL\"\n",
    "startdate = \"2021-01-01\"\n",
    "enddate = \"2021-11-30\"\n",
    "interval = \"1d\"\n",
    "predict_price(symbol, startdate, enddate, interval)\n",
    "new = download_data(symbol, \"2021-12-02\", \"2021-12-02\",\"1d\")\n",
    "new"
   ]
  },
  {
   "cell_type": "markdown",
   "id": "870b760e",
   "metadata": {},
   "source": [
    "##### Use the Model to predict the price of HERMES"
   ]
  },
  {
   "cell_type": "code",
   "execution_count": 223,
   "id": "fc692b28",
   "metadata": {},
   "outputs": [
    {
     "name": "stdout",
     "output_type": "stream",
     "text": [
      "[*********************100%***********************]  1 of 1 completed\n",
      "The predicted price is 407.2176\n",
      "[*********************100%***********************]  1 of 1 completed\n"
     ]
    },
    {
     "data": {
      "text/html": [
       "<div>\n",
       "<style scoped>\n",
       "    .dataframe tbody tr th:only-of-type {\n",
       "        vertical-align: middle;\n",
       "    }\n",
       "\n",
       "    .dataframe tbody tr th {\n",
       "        vertical-align: top;\n",
       "    }\n",
       "\n",
       "    .dataframe thead th {\n",
       "        text-align: right;\n",
       "    }\n",
       "</style>\n",
       "<table border=\"1\" class=\"dataframe\">\n",
       "  <thead>\n",
       "    <tr style=\"text-align: right;\">\n",
       "      <th></th>\n",
       "      <th>Open</th>\n",
       "      <th>High</th>\n",
       "      <th>Low</th>\n",
       "      <th>Close</th>\n",
       "      <th>Adj Close</th>\n",
       "      <th>Volume</th>\n",
       "    </tr>\n",
       "    <tr>\n",
       "      <th>Date</th>\n",
       "      <th></th>\n",
       "      <th></th>\n",
       "      <th></th>\n",
       "      <th></th>\n",
       "      <th></th>\n",
       "      <th></th>\n",
       "    </tr>\n",
       "  </thead>\n",
       "  <tbody>\n",
       "    <tr>\n",
       "      <th>2021-11-30</th>\n",
       "      <td>1623.5</td>\n",
       "      <td>1676.5</td>\n",
       "      <td>1614.5</td>\n",
       "      <td>1653.0</td>\n",
       "      <td>1642.203613</td>\n",
       "      <td>206735</td>\n",
       "    </tr>\n",
       "    <tr>\n",
       "      <th>2021-12-01</th>\n",
       "      <td>1666.0</td>\n",
       "      <td>1678.0</td>\n",
       "      <td>1618.0</td>\n",
       "      <td>1668.5</td>\n",
       "      <td>1657.602539</td>\n",
       "      <td>70320</td>\n",
       "    </tr>\n",
       "  </tbody>\n",
       "</table>\n",
       "</div>"
      ],
      "text/plain": [
       "              Open    High     Low   Close    Adj Close  Volume\n",
       "Date                                                           \n",
       "2021-11-30  1623.5  1676.5  1614.5  1653.0  1642.203613  206735\n",
       "2021-12-01  1666.0  1678.0  1618.0  1668.5  1657.602539   70320"
      ]
     },
     "execution_count": 223,
     "metadata": {},
     "output_type": "execute_result"
    }
   ],
   "source": [
    "symbol = \"RMS.PA\"\n",
    "startdate = \"2021-01-01\"\n",
    "enddate = \"2021-11-30\"\n",
    "interval = \"1d\"\n",
    "predict_price(symbol, startdate, enddate, interval)\n",
    "new = download_data(symbol, \"2021-11-30\", \"2021-12-02\",\"1d\")\n",
    "new"
   ]
  },
  {
   "cell_type": "code",
   "execution_count": null,
   "id": "0b0c3f55",
   "metadata": {},
   "outputs": [],
   "source": []
  },
  {
   "cell_type": "markdown",
   "id": "b98a076a",
   "metadata": {},
   "source": [
    "##### Use the Model to predict the price of bitcoin"
   ]
  },
  {
   "cell_type": "code",
   "execution_count": 224,
   "id": "95f4dd19",
   "metadata": {},
   "outputs": [
    {
     "name": "stdout",
     "output_type": "stream",
     "text": [
      "[*********************100%***********************]  1 of 1 completed\n",
      "The predicted price is 407.67273\n",
      "[*********************100%***********************]  1 of 1 completed\n"
     ]
    },
    {
     "data": {
      "text/html": [
       "<div>\n",
       "<style scoped>\n",
       "    .dataframe tbody tr th:only-of-type {\n",
       "        vertical-align: middle;\n",
       "    }\n",
       "\n",
       "    .dataframe tbody tr th {\n",
       "        vertical-align: top;\n",
       "    }\n",
       "\n",
       "    .dataframe thead th {\n",
       "        text-align: right;\n",
       "    }\n",
       "</style>\n",
       "<table border=\"1\" class=\"dataframe\">\n",
       "  <thead>\n",
       "    <tr style=\"text-align: right;\">\n",
       "      <th></th>\n",
       "      <th>Open</th>\n",
       "      <th>High</th>\n",
       "      <th>Low</th>\n",
       "      <th>Close</th>\n",
       "      <th>Adj Close</th>\n",
       "      <th>Volume</th>\n",
       "    </tr>\n",
       "    <tr>\n",
       "      <th>Date</th>\n",
       "      <th></th>\n",
       "      <th></th>\n",
       "      <th></th>\n",
       "      <th></th>\n",
       "      <th></th>\n",
       "      <th></th>\n",
       "    </tr>\n",
       "  </thead>\n",
       "  <tbody>\n",
       "    <tr>\n",
       "      <th>2021-12-01</th>\n",
       "      <td>56907.964844</td>\n",
       "      <td>59041.683594</td>\n",
       "      <td>56553.082031</td>\n",
       "      <td>57229.828125</td>\n",
       "      <td>57229.828125</td>\n",
       "      <td>36858195307</td>\n",
       "    </tr>\n",
       "  </tbody>\n",
       "</table>\n",
       "</div>"
      ],
      "text/plain": [
       "                    Open          High           Low         Close  \\\n",
       "Date                                                                 \n",
       "2021-12-01  56907.964844  59041.683594  56553.082031  57229.828125   \n",
       "\n",
       "               Adj Close       Volume  \n",
       "Date                                   \n",
       "2021-12-01  57229.828125  36858195307  "
      ]
     },
     "execution_count": 224,
     "metadata": {},
     "output_type": "execute_result"
    }
   ],
   "source": [
    "symbol = \"BTC-USD\"\n",
    "startdate = \"2021-01-01\"\n",
    "enddate = \"2021-11-30\"\n",
    "interval = \"1d\"\n",
    "predict_price(symbol, startdate, enddate, interval)\n",
    "# The actual price\n",
    "new = download_data(symbol, \"2021-12-02\", \"2021-12-02\",\"1d\")\n",
    "new"
   ]
  },
  {
   "cell_type": "markdown",
   "id": "88b63c8e",
   "metadata": {},
   "source": [
    "#### Model prediction of different assets class "
   ]
  },
  {
   "cell_type": "code",
   "execution_count": 225,
   "id": "09657cd1",
   "metadata": {},
   "outputs": [
    {
     "data": {
      "image/png": "[encoded data removed]",
      "text/plain": [
       "<IPython.core.display.Image object>"
      ]
     },
     "execution_count": 225,
     "metadata": {},
     "output_type": "execute_result"
    }
   ],
   "source": [
    "from IPython import display\n",
    "display.Image(\"./result.png\")\n"
   ]
  },
  {
   "cell_type": "code",
   "execution_count": null,
   "id": "fb996de8",
   "metadata": {},
   "outputs": [],
   "source": []
  },
  {
   "cell_type": "markdown",
   "id": "11bf49b7",
   "metadata": {},
   "source": [
    "Took a look of this result, the model's prediction of Bitcoin price is not even close to the actual price at all. The same result showed up at prediction of  Hermes & AEX price. (Note: EX is a miner European Index(Amsterdam Exchange), which contains a basket of stocks across different sectors.)\n",
    "\n",
    "It might have something to do with the fact that we have trained this model with an index Fund that tracks Tech companies. Difference financial instruments across sectors and asset’s class have different fundamentals and price movement patterns, they  behave in different way. Obviously, Bitcoin is a totally different creature than equity(stocks)."
   ]
  },
  {
   "cell_type": "code",
   "execution_count": null,
   "id": "ab080565",
   "metadata": {},
   "outputs": [],
   "source": []
  },
  {
   "cell_type": "markdown",
   "id": "c908dbde",
   "metadata": {},
   "source": [
    "### Conclusion And Possible Improvements"
   ]
  },
  {
   "cell_type": "markdown",
   "id": "e5029029",
   "metadata": {},
   "source": [
    "This model is not robust enough, we simply cannot use this model to predict price of stock in other sectors. But, we should not expect one size fits all. Financial institutions and financial market professional rarely make investment decisions based on one signal or a simple prediction, they rely on fine designed architectures and decision processes. To summaries, the LTSM along is just too simply to forecast stock price, and trader&investor should definitely not trade according to the predictions alone. Financial market is an extremely complicated system , forecasting price movements is as difficult as forecasting weather. There are many factors can introduce unexpected dramatic changes of stock prices.\n",
    "\n",
    "In reality, traders build models and trading strategy based on the classification of asset. If we want to incorporate this model in a realistic process, it’s better to build other models such as K-mean clustering and identify stocks that belongs to the same cluster, then apply prediction only within the cluster. Sometimes, It’s better to combine the results of different models. For example, utilize NLP sentiment analysis to evaluate the overall market sentiment, if the market sentiment is bearish and LTSM prediction also shows price drop, then we short-selling the stock; if the market sentiment is bullish and LTSM prediction also shows price increase, then we long the stock.\n",
    "\n",
    "\n",
    "\n",
    "\n",
    "\n"
   ]
  },
  {
   "cell_type": "markdown",
   "id": "5098eb83",
   "metadata": {},
   "source": [
    "### References:"
   ]
  },
  {
   "cell_type": "markdown",
   "id": "0d0548d9",
   "metadata": {},
   "source": [
    "* Python for finance by Yves Hilpisch https://www.oreilly.com/library/view/python-for-finance/9781492024323/\n",
    "\n",
    "* Time Series - LSTM Model https://www.tutorialspoint.com/time_series/time_series_lstm_model.htm\n",
    "\n",
    "* Short-term stock market price trend prediction using a comprehensive deep learning system by Jingyi Shen & M. Omair Shafiq ttps://journalofbigdata.springeropen.com/articles/10.1186/s40537-020-00333-6\n",
    "\n",
    "* P516, Hands-on Machine Learning with Scikit-Learn, Keras & TensorFlow by Aurelien Geron \n",
    "\n"
   ]
  },
  {
   "cell_type": "code",
   "execution_count": null,
   "id": "506f418c",
   "metadata": {},
   "outputs": [],
   "source": []
  }
 ],
 "metadata": {
  "kernelspec": {
   "display_name": "Python 3 (ipykernel)",
   "language": "python",
   "name": "python3"
  },
  "language_info": {
   "codemirror_mode": {
    "name": "ipython",
    "version": 3
   },
   "file_extension": ".py",
   "mimetype": "text/x-python",
   "name": "python",
   "nbconvert_exporter": "python",
   "pygments_lexer": "ipython3",
   "version": "3.8.8"
  }
 },
 "nbformat": 4,
 "nbformat_minor": 5
}
