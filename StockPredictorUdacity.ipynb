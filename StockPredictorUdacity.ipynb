{
 "cells": [
  {
   "cell_type": "markdown",
   "id": "9ca63959",
   "metadata": {
    "scrolled": true
   },
   "source": [
    "# FINANCIAL ASSET PRICE PREDICTOR : UDACITY DATA SCIENTIST CAPSTONE PROJECT"
   ]
  },
  {
   "cell_type": "markdown",
   "id": "d0ab246e",
   "metadata": {},
   "source": [
    "# Introduction \n",
    "\n",
    "This project is the capstone project of Udacity Data Scientist nano-degree. For this project, I built a model to predict stock/ETF (Exchange Traded Funds)\n",
    "prices. My personal professional background is in Finance and Investments. One of the reasons why I’m learning Data Science is to utility this powerful tool in the financial sector. The modern  Financial sectors consumers and generate enormous amount of date on daily basis. More than 90% of the daily trading volume of the major stock exchanges are conducted by computer program and algorithms. Machine learning and deep learning has become an essential tool for automate complicated trading decision making and trade execution process.  \n",
    "\n",
    "In this project, I’m using LSTM model to predict stocks/ asset price a day in the future. Long short-term memory model( LSTM) is a RNN ( Recurrent Neural Network) architecture. LSTMs are extremely effective tool for sequence prediction problems. Since LTSM has feedback connection, it’s good at processing sequential of data, such as : historical financial assets prices. \n",
    "\n"
   ]
  },
  {
   "cell_type": "markdown",
   "id": "7db3a42e",
   "metadata": {},
   "source": [
    "### Import all the libraries and packages "
   ]
  },
  {
   "cell_type": "code",
   "execution_count": 81,
   "id": "a6ad0d57",
   "metadata": {},
   "outputs": [
    {
     "name": "stdout",
     "output_type": "stream",
     "text": [
      "libraries imported\n"
     ]
    }
   ],
   "source": [
    "import yfinance as yf\n",
    "import pandas as pd\n",
    "import numpy as np\n",
    "import datetime as dt\n",
    "import matplotlib.pyplot as plt\n",
    "import plotly.graph_objects as go\n",
    "from pandas_datareader import data as pdr \n",
    "import math \n",
    "from sklearn.preprocessing import MinMaxScaler\n",
    "from tensorflow import keras\n",
    "from tensorflow.keras import Sequential\n",
    "from tensorflow.keras.layers import Dense \n",
    "from tensorflow.keras.layers import LSTM\n",
    "from tensorflow.keras.layers import Dropout\n",
    "%matplotlib inline\n",
    "print('libraries imported')"
   ]
  },
  {
   "cell_type": "code",
   "execution_count": null,
   "id": "f7165df4",
   "metadata": {},
   "outputs": [],
   "source": []
  },
  {
   "cell_type": "markdown",
   "id": "21b4eac0",
   "metadata": {},
   "source": [
    "## Load and Clean Dataset"
   ]
  },
  {
   "cell_type": "markdown",
   "id": "30fe0378",
   "metadata": {},
   "source": [
    "### Download the Financial Data : Historical  Asset price\n",
    "\n",
    "* In this project I used python package yfinance to download historical  stock prices\n",
    "* For more information about this python package, please visit https://pypi.org/project/yfinance/"
   ]
  },
  {
   "cell_type": "code",
   "execution_count": 82,
   "id": "1fcae0b5",
   "metadata": {},
   "outputs": [],
   "source": [
    "# First define a function to download data as dataframe \n",
    "# yfiance valid intervals: 1m,2m,5m,15m,30m,60m,90m,1h,1d,5d,1wk,1mo,3mo\n",
    "# The default interval is '1d')\n",
    "# This function can take a single symbol or multiple symbol separated by space\n",
    "\n",
    "def download_data(symbol, start_date, end_date, interval):\n",
    "    '''input: symbol as string. It can be single ticker symbol or multiple symbol separated by space\n",
    "       input: start_date & end_date as str, e.g:2017-01-01 \n",
    "       output: return a dataframe \n",
    "       output: open, high, low , close, Adj Close\n",
    "    '''\n",
    "    yf.pdr_override() \n",
    "    data = pdr.get_data_yahoo(symbol, start=start_date, end=end_date, interval = interval)\n",
    "    return data "
   ]
  },
  {
   "cell_type": "markdown",
   "id": "c401d81d",
   "metadata": {},
   "source": [
    "##### Download Stock Price data\n",
    "\n",
    "* With yfinance library, you can download one or multiple stocks' price\n",
    "* However, if we download multiple stocks price, the data will have multiple levels of column names, so we need to flat the column names"
   ]
  },
  {
   "cell_type": "code",
   "execution_count": 83,
   "id": "41eae373",
   "metadata": {},
   "outputs": [
    {
     "name": "stdout",
     "output_type": "stream",
     "text": [
      "[*********************100%***********************]  4 of 4 completed\n"
     ]
    }
   ],
   "source": [
    "# download the data\n",
    "# download multiple historical price of stocks and index\n",
    "# this function can be used to download multiple or single stock/financial asset\n",
    "# AAPL: ticker symbol of Apple stock,  ^VIX the ticker symbol of COBE volatility index\n",
    "dataMulti = download_data(\"AAPL SPY QQQ ^VIX\", \"2000-01-01\", \"2022-03-30\",\"1d\")"
   ]
  },
  {
   "cell_type": "code",
   "execution_count": 84,
   "id": "0b6becab",
   "metadata": {},
   "outputs": [
    {
     "data": {
      "text/html": [
       "<div>\n",
       "<style scoped>\n",
       "    .dataframe tbody tr th:only-of-type {\n",
       "        vertical-align: middle;\n",
       "    }\n",
       "\n",
       "    .dataframe tbody tr th {\n",
       "        vertical-align: top;\n",
       "    }\n",
       "\n",
       "    .dataframe thead tr th {\n",
       "        text-align: left;\n",
       "    }\n",
       "\n",
       "    .dataframe thead tr:last-of-type th {\n",
       "        text-align: right;\n",
       "    }\n",
       "</style>\n",
       "<table border=\"1\" class=\"dataframe\">\n",
       "  <thead>\n",
       "    <tr>\n",
       "      <th></th>\n",
       "      <th colspan=\"4\" halign=\"left\">Adj Close</th>\n",
       "      <th colspan=\"4\" halign=\"left\">Close</th>\n",
       "      <th colspan=\"2\" halign=\"left\">High</th>\n",
       "      <th>...</th>\n",
       "      <th colspan=\"2\" halign=\"left\">Low</th>\n",
       "      <th colspan=\"4\" halign=\"left\">Open</th>\n",
       "      <th colspan=\"4\" halign=\"left\">Volume</th>\n",
       "    </tr>\n",
       "    <tr>\n",
       "      <th></th>\n",
       "      <th>AAPL</th>\n",
       "      <th>QQQ</th>\n",
       "      <th>SPY</th>\n",
       "      <th>^VIX</th>\n",
       "      <th>AAPL</th>\n",
       "      <th>QQQ</th>\n",
       "      <th>SPY</th>\n",
       "      <th>^VIX</th>\n",
       "      <th>AAPL</th>\n",
       "      <th>QQQ</th>\n",
       "      <th>...</th>\n",
       "      <th>SPY</th>\n",
       "      <th>^VIX</th>\n",
       "      <th>AAPL</th>\n",
       "      <th>QQQ</th>\n",
       "      <th>SPY</th>\n",
       "      <th>^VIX</th>\n",
       "      <th>AAPL</th>\n",
       "      <th>QQQ</th>\n",
       "      <th>SPY</th>\n",
       "      <th>^VIX</th>\n",
       "    </tr>\n",
       "    <tr>\n",
       "      <th>Date</th>\n",
       "      <th></th>\n",
       "      <th></th>\n",
       "      <th></th>\n",
       "      <th></th>\n",
       "      <th></th>\n",
       "      <th></th>\n",
       "      <th></th>\n",
       "      <th></th>\n",
       "      <th></th>\n",
       "      <th></th>\n",
       "      <th></th>\n",
       "      <th></th>\n",
       "      <th></th>\n",
       "      <th></th>\n",
       "      <th></th>\n",
       "      <th></th>\n",
       "      <th></th>\n",
       "      <th></th>\n",
       "      <th></th>\n",
       "      <th></th>\n",
       "      <th></th>\n",
       "    </tr>\n",
       "  </thead>\n",
       "  <tbody>\n",
       "    <tr>\n",
       "      <th>1999-12-31</th>\n",
       "      <td>0.786033</td>\n",
       "      <td>79.050392</td>\n",
       "      <td>97.509445</td>\n",
       "      <td>24.639999</td>\n",
       "      <td>0.917969</td>\n",
       "      <td>91.37500</td>\n",
       "      <td>146.8750</td>\n",
       "      <td>24.639999</td>\n",
       "      <td>0.918527</td>\n",
       "      <td>93.1875</td>\n",
       "      <td>...</td>\n",
       "      <td>146.250000</td>\n",
       "      <td>24.450001</td>\n",
       "      <td>0.901228</td>\n",
       "      <td>92.6250</td>\n",
       "      <td>146.84375</td>\n",
       "      <td>25.030001</td>\n",
       "      <td>163811200</td>\n",
       "      <td>14464400</td>\n",
       "      <td>3172700</td>\n",
       "      <td>0</td>\n",
       "    </tr>\n",
       "    <tr>\n",
       "      <th>2000-01-03</th>\n",
       "      <td>0.855797</td>\n",
       "      <td>81.970184</td>\n",
       "      <td>96.555130</td>\n",
       "      <td>24.209999</td>\n",
       "      <td>0.999442</td>\n",
       "      <td>94.75000</td>\n",
       "      <td>145.4375</td>\n",
       "      <td>24.209999</td>\n",
       "      <td>1.004464</td>\n",
       "      <td>96.1875</td>\n",
       "      <td>...</td>\n",
       "      <td>143.875000</td>\n",
       "      <td>23.980000</td>\n",
       "      <td>0.936384</td>\n",
       "      <td>96.1875</td>\n",
       "      <td>148.25000</td>\n",
       "      <td>24.360001</td>\n",
       "      <td>535796800</td>\n",
       "      <td>36345200</td>\n",
       "      <td>8164300</td>\n",
       "      <td>0</td>\n",
       "    </tr>\n",
       "    <tr>\n",
       "      <th>2000-01-04</th>\n",
       "      <td>0.783644</td>\n",
       "      <td>76.346909</td>\n",
       "      <td>92.779175</td>\n",
       "      <td>27.010000</td>\n",
       "      <td>0.915179</td>\n",
       "      <td>88.25000</td>\n",
       "      <td>139.7500</td>\n",
       "      <td>27.010000</td>\n",
       "      <td>0.987723</td>\n",
       "      <td>93.5000</td>\n",
       "      <td>...</td>\n",
       "      <td>139.640625</td>\n",
       "      <td>24.799999</td>\n",
       "      <td>0.966518</td>\n",
       "      <td>92.0000</td>\n",
       "      <td>143.53125</td>\n",
       "      <td>24.940001</td>\n",
       "      <td>512377600</td>\n",
       "      <td>33786600</td>\n",
       "      <td>8089800</td>\n",
       "      <td>0</td>\n",
       "    </tr>\n",
       "    <tr>\n",
       "      <th>2000-01-05</th>\n",
       "      <td>0.795111</td>\n",
       "      <td>74.400345</td>\n",
       "      <td>92.945190</td>\n",
       "      <td>26.410000</td>\n",
       "      <td>0.928571</td>\n",
       "      <td>86.00000</td>\n",
       "      <td>140.0000</td>\n",
       "      <td>26.410000</td>\n",
       "      <td>0.987165</td>\n",
       "      <td>89.6250</td>\n",
       "      <td>...</td>\n",
       "      <td>137.250000</td>\n",
       "      <td>25.850000</td>\n",
       "      <td>0.926339</td>\n",
       "      <td>87.5000</td>\n",
       "      <td>139.93750</td>\n",
       "      <td>27.980000</td>\n",
       "      <td>778321600</td>\n",
       "      <td>42496600</td>\n",
       "      <td>12177900</td>\n",
       "      <td>0</td>\n",
       "    </tr>\n",
       "    <tr>\n",
       "      <th>2000-01-06</th>\n",
       "      <td>0.726304</td>\n",
       "      <td>69.290771</td>\n",
       "      <td>91.451431</td>\n",
       "      <td>25.730000</td>\n",
       "      <td>0.848214</td>\n",
       "      <td>80.09375</td>\n",
       "      <td>137.7500</td>\n",
       "      <td>25.730000</td>\n",
       "      <td>0.955357</td>\n",
       "      <td>88.0000</td>\n",
       "      <td>...</td>\n",
       "      <td>137.750000</td>\n",
       "      <td>24.700001</td>\n",
       "      <td>0.947545</td>\n",
       "      <td>86.8750</td>\n",
       "      <td>139.62500</td>\n",
       "      <td>26.680000</td>\n",
       "      <td>767972800</td>\n",
       "      <td>37134800</td>\n",
       "      <td>6227200</td>\n",
       "      <td>0</td>\n",
       "    </tr>\n",
       "  </tbody>\n",
       "</table>\n",
       "<p>5 rows × 24 columns</p>\n",
       "</div>"
      ],
      "text/plain": [
       "           Adj Close                                      Close            \\\n",
       "                AAPL        QQQ        SPY       ^VIX      AAPL       QQQ   \n",
       "Date                                                                        \n",
       "1999-12-31  0.786033  79.050392  97.509445  24.639999  0.917969  91.37500   \n",
       "2000-01-03  0.855797  81.970184  96.555130  24.209999  0.999442  94.75000   \n",
       "2000-01-04  0.783644  76.346909  92.779175  27.010000  0.915179  88.25000   \n",
       "2000-01-05  0.795111  74.400345  92.945190  26.410000  0.928571  86.00000   \n",
       "2000-01-06  0.726304  69.290771  91.451431  25.730000  0.848214  80.09375   \n",
       "\n",
       "                                     High           ...         Low  \\\n",
       "                 SPY       ^VIX      AAPL      QQQ  ...         SPY   \n",
       "Date                                                ...               \n",
       "1999-12-31  146.8750  24.639999  0.918527  93.1875  ...  146.250000   \n",
       "2000-01-03  145.4375  24.209999  1.004464  96.1875  ...  143.875000   \n",
       "2000-01-04  139.7500  27.010000  0.987723  93.5000  ...  139.640625   \n",
       "2000-01-05  140.0000  26.410000  0.987165  89.6250  ...  137.250000   \n",
       "2000-01-06  137.7500  25.730000  0.955357  88.0000  ...  137.750000   \n",
       "\n",
       "                           Open                                    Volume  \\\n",
       "                 ^VIX      AAPL      QQQ        SPY       ^VIX       AAPL   \n",
       "Date                                                                        \n",
       "1999-12-31  24.450001  0.901228  92.6250  146.84375  25.030001  163811200   \n",
       "2000-01-03  23.980000  0.936384  96.1875  148.25000  24.360001  535796800   \n",
       "2000-01-04  24.799999  0.966518  92.0000  143.53125  24.940001  512377600   \n",
       "2000-01-05  25.850000  0.926339  87.5000  139.93750  27.980000  778321600   \n",
       "2000-01-06  24.700001  0.947545  86.8750  139.62500  26.680000  767972800   \n",
       "\n",
       "                                     \n",
       "                 QQQ       SPY ^VIX  \n",
       "Date                                 \n",
       "1999-12-31  14464400   3172700    0  \n",
       "2000-01-03  36345200   8164300    0  \n",
       "2000-01-04  33786600   8089800    0  \n",
       "2000-01-05  42496600  12177900    0  \n",
       "2000-01-06  37134800   6227200    0  \n",
       "\n",
       "[5 rows x 24 columns]"
      ]
     },
     "execution_count": 84,
     "metadata": {},
     "output_type": "execute_result"
    }
   ],
   "source": [
    "# inspected the data downloaded \n",
    "dataMulti.head()"
   ]
  },
  {
   "cell_type": "markdown",
   "id": "d87517f7",
   "metadata": {},
   "source": [
    "* Open, the price at the open of a trading day \n",
    "* Close, is the price at the close of a trading day\n",
    "* Adj Close: The adjusted closing price amends a stock's closing price to reflect that stock's value after accounting for any corporate actions. Such as stock splits\n",
    "* High, the highest price of a trading day\n",
    "* Low, the lowest price of a trading day"
   ]
  },
  {
   "cell_type": "code",
   "execution_count": null,
   "id": "dfbbaa43",
   "metadata": {},
   "outputs": [],
   "source": []
  },
  {
   "cell_type": "code",
   "execution_count": 85,
   "id": "1ee52353",
   "metadata": {},
   "outputs": [],
   "source": [
    "# for multiple tickers, the column name of this dataframe has multiple levels, we need to flatten it\n",
    "def rename_column(df):\n",
    "    '''\n",
    "    input: a dataframe with multiple levels of column name\n",
    "    output: a dataframe with flated column name \n",
    "    '''\n",
    "    col = list(df.columns)\n",
    "    newcol = [i[0] +' '+ i[1] for i in col]\n",
    "    dfCOPY = df.copy()\n",
    "    dfCOPY.columns = [''] * len(dfCOPY.columns)\n",
    "    dfCOPY.columns = newcol\n",
    "    return dfCOPY"
   ]
  },
  {
   "cell_type": "code",
   "execution_count": 86,
   "id": "f771d605",
   "metadata": {},
   "outputs": [
    {
     "data": {
      "text/html": [
       "<div>\n",
       "<style scoped>\n",
       "    .dataframe tbody tr th:only-of-type {\n",
       "        vertical-align: middle;\n",
       "    }\n",
       "\n",
       "    .dataframe tbody tr th {\n",
       "        vertical-align: top;\n",
       "    }\n",
       "\n",
       "    .dataframe thead th {\n",
       "        text-align: right;\n",
       "    }\n",
       "</style>\n",
       "<table border=\"1\" class=\"dataframe\">\n",
       "  <thead>\n",
       "    <tr style=\"text-align: right;\">\n",
       "      <th></th>\n",
       "      <th>Adj Close AAPL</th>\n",
       "      <th>Adj Close QQQ</th>\n",
       "      <th>Adj Close SPY</th>\n",
       "      <th>Adj Close ^VIX</th>\n",
       "      <th>Close AAPL</th>\n",
       "      <th>Close QQQ</th>\n",
       "      <th>Close SPY</th>\n",
       "      <th>Close ^VIX</th>\n",
       "      <th>High AAPL</th>\n",
       "      <th>High QQQ</th>\n",
       "      <th>...</th>\n",
       "      <th>Low SPY</th>\n",
       "      <th>Low ^VIX</th>\n",
       "      <th>Open AAPL</th>\n",
       "      <th>Open QQQ</th>\n",
       "      <th>Open SPY</th>\n",
       "      <th>Open ^VIX</th>\n",
       "      <th>Volume AAPL</th>\n",
       "      <th>Volume QQQ</th>\n",
       "      <th>Volume SPY</th>\n",
       "      <th>Volume ^VIX</th>\n",
       "    </tr>\n",
       "    <tr>\n",
       "      <th>Date</th>\n",
       "      <th></th>\n",
       "      <th></th>\n",
       "      <th></th>\n",
       "      <th></th>\n",
       "      <th></th>\n",
       "      <th></th>\n",
       "      <th></th>\n",
       "      <th></th>\n",
       "      <th></th>\n",
       "      <th></th>\n",
       "      <th></th>\n",
       "      <th></th>\n",
       "      <th></th>\n",
       "      <th></th>\n",
       "      <th></th>\n",
       "      <th></th>\n",
       "      <th></th>\n",
       "      <th></th>\n",
       "      <th></th>\n",
       "      <th></th>\n",
       "      <th></th>\n",
       "    </tr>\n",
       "  </thead>\n",
       "  <tbody>\n",
       "    <tr>\n",
       "      <th>1999-12-31</th>\n",
       "      <td>0.786033</td>\n",
       "      <td>79.050392</td>\n",
       "      <td>97.509445</td>\n",
       "      <td>24.639999</td>\n",
       "      <td>0.917969</td>\n",
       "      <td>91.37500</td>\n",
       "      <td>146.8750</td>\n",
       "      <td>24.639999</td>\n",
       "      <td>0.918527</td>\n",
       "      <td>93.1875</td>\n",
       "      <td>...</td>\n",
       "      <td>146.250000</td>\n",
       "      <td>24.450001</td>\n",
       "      <td>0.901228</td>\n",
       "      <td>92.6250</td>\n",
       "      <td>146.84375</td>\n",
       "      <td>25.030001</td>\n",
       "      <td>163811200</td>\n",
       "      <td>14464400</td>\n",
       "      <td>3172700</td>\n",
       "      <td>0</td>\n",
       "    </tr>\n",
       "    <tr>\n",
       "      <th>2000-01-03</th>\n",
       "      <td>0.855797</td>\n",
       "      <td>81.970184</td>\n",
       "      <td>96.555130</td>\n",
       "      <td>24.209999</td>\n",
       "      <td>0.999442</td>\n",
       "      <td>94.75000</td>\n",
       "      <td>145.4375</td>\n",
       "      <td>24.209999</td>\n",
       "      <td>1.004464</td>\n",
       "      <td>96.1875</td>\n",
       "      <td>...</td>\n",
       "      <td>143.875000</td>\n",
       "      <td>23.980000</td>\n",
       "      <td>0.936384</td>\n",
       "      <td>96.1875</td>\n",
       "      <td>148.25000</td>\n",
       "      <td>24.360001</td>\n",
       "      <td>535796800</td>\n",
       "      <td>36345200</td>\n",
       "      <td>8164300</td>\n",
       "      <td>0</td>\n",
       "    </tr>\n",
       "    <tr>\n",
       "      <th>2000-01-04</th>\n",
       "      <td>0.783644</td>\n",
       "      <td>76.346909</td>\n",
       "      <td>92.779175</td>\n",
       "      <td>27.010000</td>\n",
       "      <td>0.915179</td>\n",
       "      <td>88.25000</td>\n",
       "      <td>139.7500</td>\n",
       "      <td>27.010000</td>\n",
       "      <td>0.987723</td>\n",
       "      <td>93.5000</td>\n",
       "      <td>...</td>\n",
       "      <td>139.640625</td>\n",
       "      <td>24.799999</td>\n",
       "      <td>0.966518</td>\n",
       "      <td>92.0000</td>\n",
       "      <td>143.53125</td>\n",
       "      <td>24.940001</td>\n",
       "      <td>512377600</td>\n",
       "      <td>33786600</td>\n",
       "      <td>8089800</td>\n",
       "      <td>0</td>\n",
       "    </tr>\n",
       "    <tr>\n",
       "      <th>2000-01-05</th>\n",
       "      <td>0.795111</td>\n",
       "      <td>74.400345</td>\n",
       "      <td>92.945190</td>\n",
       "      <td>26.410000</td>\n",
       "      <td>0.928571</td>\n",
       "      <td>86.00000</td>\n",
       "      <td>140.0000</td>\n",
       "      <td>26.410000</td>\n",
       "      <td>0.987165</td>\n",
       "      <td>89.6250</td>\n",
       "      <td>...</td>\n",
       "      <td>137.250000</td>\n",
       "      <td>25.850000</td>\n",
       "      <td>0.926339</td>\n",
       "      <td>87.5000</td>\n",
       "      <td>139.93750</td>\n",
       "      <td>27.980000</td>\n",
       "      <td>778321600</td>\n",
       "      <td>42496600</td>\n",
       "      <td>12177900</td>\n",
       "      <td>0</td>\n",
       "    </tr>\n",
       "    <tr>\n",
       "      <th>2000-01-06</th>\n",
       "      <td>0.726304</td>\n",
       "      <td>69.290771</td>\n",
       "      <td>91.451431</td>\n",
       "      <td>25.730000</td>\n",
       "      <td>0.848214</td>\n",
       "      <td>80.09375</td>\n",
       "      <td>137.7500</td>\n",
       "      <td>25.730000</td>\n",
       "      <td>0.955357</td>\n",
       "      <td>88.0000</td>\n",
       "      <td>...</td>\n",
       "      <td>137.750000</td>\n",
       "      <td>24.700001</td>\n",
       "      <td>0.947545</td>\n",
       "      <td>86.8750</td>\n",
       "      <td>139.62500</td>\n",
       "      <td>26.680000</td>\n",
       "      <td>767972800</td>\n",
       "      <td>37134800</td>\n",
       "      <td>6227200</td>\n",
       "      <td>0</td>\n",
       "    </tr>\n",
       "  </tbody>\n",
       "</table>\n",
       "<p>5 rows × 24 columns</p>\n",
       "</div>"
      ],
      "text/plain": [
       "            Adj Close AAPL  Adj Close QQQ  Adj Close SPY  Adj Close ^VIX  \\\n",
       "Date                                                                       \n",
       "1999-12-31        0.786033      79.050392      97.509445       24.639999   \n",
       "2000-01-03        0.855797      81.970184      96.555130       24.209999   \n",
       "2000-01-04        0.783644      76.346909      92.779175       27.010000   \n",
       "2000-01-05        0.795111      74.400345      92.945190       26.410000   \n",
       "2000-01-06        0.726304      69.290771      91.451431       25.730000   \n",
       "\n",
       "            Close AAPL  Close QQQ  Close SPY  Close ^VIX  High AAPL  High QQQ  \\\n",
       "Date                                                                            \n",
       "1999-12-31    0.917969   91.37500   146.8750   24.639999   0.918527   93.1875   \n",
       "2000-01-03    0.999442   94.75000   145.4375   24.209999   1.004464   96.1875   \n",
       "2000-01-04    0.915179   88.25000   139.7500   27.010000   0.987723   93.5000   \n",
       "2000-01-05    0.928571   86.00000   140.0000   26.410000   0.987165   89.6250   \n",
       "2000-01-06    0.848214   80.09375   137.7500   25.730000   0.955357   88.0000   \n",
       "\n",
       "            ...     Low SPY   Low ^VIX  Open AAPL  Open QQQ   Open SPY  \\\n",
       "Date        ...                                                          \n",
       "1999-12-31  ...  146.250000  24.450001   0.901228   92.6250  146.84375   \n",
       "2000-01-03  ...  143.875000  23.980000   0.936384   96.1875  148.25000   \n",
       "2000-01-04  ...  139.640625  24.799999   0.966518   92.0000  143.53125   \n",
       "2000-01-05  ...  137.250000  25.850000   0.926339   87.5000  139.93750   \n",
       "2000-01-06  ...  137.750000  24.700001   0.947545   86.8750  139.62500   \n",
       "\n",
       "            Open ^VIX  Volume AAPL  Volume QQQ  Volume SPY  Volume ^VIX  \n",
       "Date                                                                     \n",
       "1999-12-31  25.030001    163811200    14464400     3172700            0  \n",
       "2000-01-03  24.360001    535796800    36345200     8164300            0  \n",
       "2000-01-04  24.940001    512377600    33786600     8089800            0  \n",
       "2000-01-05  27.980000    778321600    42496600    12177900            0  \n",
       "2000-01-06  26.680000    767972800    37134800     6227200            0  \n",
       "\n",
       "[5 rows x 24 columns]"
      ]
     },
     "execution_count": 86,
     "metadata": {},
     "output_type": "execute_result"
    }
   ],
   "source": [
    "stocks = rename_column(dataMulti)\n",
    "stocks.head()"
   ]
  },
  {
   "cell_type": "code",
   "execution_count": 87,
   "id": "b9a792bc",
   "metadata": {},
   "outputs": [
    {
     "name": "stdout",
     "output_type": "stream",
     "text": [
      "<class 'pandas.core.frame.DataFrame'>\n",
      "DatetimeIndex: 5597 entries, 1999-12-31 to 2022-03-29\n",
      "Data columns (total 24 columns):\n",
      " #   Column          Non-Null Count  Dtype  \n",
      "---  ------          --------------  -----  \n",
      " 0   Adj Close AAPL  5597 non-null   float64\n",
      " 1   Adj Close QQQ   5597 non-null   float64\n",
      " 2   Adj Close SPY   5597 non-null   float64\n",
      " 3   Adj Close ^VIX  5597 non-null   float64\n",
      " 4   Close AAPL      5597 non-null   float64\n",
      " 5   Close QQQ       5597 non-null   float64\n",
      " 6   Close SPY       5597 non-null   float64\n",
      " 7   Close ^VIX      5597 non-null   float64\n",
      " 8   High AAPL       5597 non-null   float64\n",
      " 9   High QQQ        5597 non-null   float64\n",
      " 10  High SPY        5597 non-null   float64\n",
      " 11  High ^VIX       5597 non-null   float64\n",
      " 12  Low AAPL        5597 non-null   float64\n",
      " 13  Low QQQ         5597 non-null   float64\n",
      " 14  Low SPY         5597 non-null   float64\n",
      " 15  Low ^VIX        5597 non-null   float64\n",
      " 16  Open AAPL       5597 non-null   float64\n",
      " 17  Open QQQ        5597 non-null   float64\n",
      " 18  Open SPY        5597 non-null   float64\n",
      " 19  Open ^VIX       5597 non-null   float64\n",
      " 20  Volume AAPL     5597 non-null   int64  \n",
      " 21  Volume QQQ      5597 non-null   int64  \n",
      " 22  Volume SPY      5597 non-null   int64  \n",
      " 23  Volume ^VIX     5597 non-null   int64  \n",
      "dtypes: float64(20), int64(4)\n",
      "memory usage: 1.1 MB\n"
     ]
    }
   ],
   "source": [
    "stocks.info()"
   ]
  },
  {
   "cell_type": "code",
   "execution_count": 88,
   "id": "2561ac43",
   "metadata": {},
   "outputs": [
    {
     "data": {
      "text/plain": [
       "Adj Close AAPL    0\n",
       "Adj Close QQQ     0\n",
       "Adj Close SPY     0\n",
       "Adj Close ^VIX    0\n",
       "Close AAPL        0\n",
       "Close QQQ         0\n",
       "Close SPY         0\n",
       "Close ^VIX        0\n",
       "High AAPL         0\n",
       "High QQQ          0\n",
       "High SPY          0\n",
       "High ^VIX         0\n",
       "Low AAPL          0\n",
       "Low QQQ           0\n",
       "Low SPY           0\n",
       "Low ^VIX          0\n",
       "Open AAPL         0\n",
       "Open QQQ          0\n",
       "Open SPY          0\n",
       "Open ^VIX         0\n",
       "Volume AAPL       0\n",
       "Volume QQQ        0\n",
       "Volume SPY        0\n",
       "Volume ^VIX       0\n",
       "dtype: int64"
      ]
     },
     "execution_count": 88,
     "metadata": {},
     "output_type": "execute_result"
    }
   ],
   "source": [
    "# check missing data \n",
    "stocks.isna().sum()"
   ]
  },
  {
   "cell_type": "code",
   "execution_count": 89,
   "id": "db6d8fd1",
   "metadata": {},
   "outputs": [
    {
     "data": {
      "text/plain": [
       "0"
      ]
     },
     "execution_count": 89,
     "metadata": {},
     "output_type": "execute_result"
    }
   ],
   "source": [
    "# Check duplicate data\n",
    "stocks.duplicated().sum()"
   ]
  },
  {
   "cell_type": "code",
   "execution_count": null,
   "id": "b948e990",
   "metadata": {},
   "outputs": [],
   "source": []
  },
  {
   "cell_type": "markdown",
   "id": "10d84ece",
   "metadata": {},
   "source": [
    "### Explore Data, Data Visualization and the Simple Moving Average Strategy \n",
    "\n",
    "* This section is a demo about how can we utilise the data\n",
    "* We will explore the data and define a simple moving average strategy. In order to keep it within the scope of this project, I won't discussing optimization of this strategy\n",
    "* The book Python for Finance by Yves Hilpisch is extremely helpful\n",
    "* In this section Generate Simple Moving Averages using Adjusted close price"
   ]
  },
  {
   "cell_type": "markdown",
   "id": "24ec866f",
   "metadata": {},
   "source": [
    "There are two types of basic and simple trade strategies: trend following and mean reversion. A trend following strategy is to identify the stocks that are in up or down trend, we would like to long(buy) when the stock price is trending up, and short short selling) when the stock price is trending down.  A mean reversion trading strategy based on the assumption that a financial asset’s price will eventually reverse to the long-term mean.  So, we will sell an overbought asset and buy an overbought asset and expecting the price will reverse to the mean. The deviation from the long-term mean is measured by standard deviation. \n",
    "\n",
    " Funds and trading house seldom use strategies that is so simple, however this project is not about how to earn money on the financial market. To keep it relevant and more understandable, in the Data Exploration section, I will demonstrate how to build a Simple Moving Average strategy which is a basic trend following strategy. If you are interested in more advanced topics, Udacity’s. AI For Trading nanodegree might be a good place to start"
   ]
  },
  {
   "cell_type": "code",
   "execution_count": 90,
   "id": "0ea37b82",
   "metadata": {},
   "outputs": [],
   "source": [
    "# We have downloaded multiple columns, but here we only need Adjusted close price\n",
    "# Change the variable symbol if you need to run it with other stock data\n",
    "# Define a function to cleanup data \n",
    "def cleanData(symbol, df):\n",
    "    '''\n",
    "       input: \n",
    "             df: a dataframe that contains stock data\n",
    "             symbol: symbol of a stock that you're intereted in \n",
    "       output: cleaned dataframe with one column: price\n",
    "    '''\n",
    "    symbol = symbol\n",
    "    close = stocks.loc[:, stocks.columns.str.startswith('Adj Close')]\n",
    "    strSymbol = 'Adj Close '+ symbol\n",
    "    stock = pd.DataFrame(close[strSymbol])\n",
    "    stock.rename(columns={strSymbol: 'price'}, inplace=True)\n",
    "    return stock "
   ]
  },
  {
   "cell_type": "code",
   "execution_count": 91,
   "id": "6eca2bbc",
   "metadata": {},
   "outputs": [
    {
     "data": {
      "text/html": [
       "<div>\n",
       "<style scoped>\n",
       "    .dataframe tbody tr th:only-of-type {\n",
       "        vertical-align: middle;\n",
       "    }\n",
       "\n",
       "    .dataframe tbody tr th {\n",
       "        vertical-align: top;\n",
       "    }\n",
       "\n",
       "    .dataframe thead th {\n",
       "        text-align: right;\n",
       "    }\n",
       "</style>\n",
       "<table border=\"1\" class=\"dataframe\">\n",
       "  <thead>\n",
       "    <tr style=\"text-align: right;\">\n",
       "      <th></th>\n",
       "      <th>price</th>\n",
       "    </tr>\n",
       "    <tr>\n",
       "      <th>Date</th>\n",
       "      <th></th>\n",
       "    </tr>\n",
       "  </thead>\n",
       "  <tbody>\n",
       "    <tr>\n",
       "      <th>1999-12-31</th>\n",
       "      <td>79.050392</td>\n",
       "    </tr>\n",
       "    <tr>\n",
       "      <th>2000-01-03</th>\n",
       "      <td>81.970184</td>\n",
       "    </tr>\n",
       "    <tr>\n",
       "      <th>2000-01-04</th>\n",
       "      <td>76.346909</td>\n",
       "    </tr>\n",
       "    <tr>\n",
       "      <th>2000-01-05</th>\n",
       "      <td>74.400345</td>\n",
       "    </tr>\n",
       "    <tr>\n",
       "      <th>2000-01-06</th>\n",
       "      <td>69.290771</td>\n",
       "    </tr>\n",
       "  </tbody>\n",
       "</table>\n",
       "</div>"
      ],
      "text/plain": [
       "                price\n",
       "Date                 \n",
       "1999-12-31  79.050392\n",
       "2000-01-03  81.970184\n",
       "2000-01-04  76.346909\n",
       "2000-01-05  74.400345\n",
       "2000-01-06  69.290771"
      ]
     },
     "execution_count": 91,
     "metadata": {},
     "output_type": "execute_result"
    }
   ],
   "source": [
    "# Clean the data and get a dataframe with the index of date and a col of price\n",
    "symbol = 'QQQ'\n",
    "stock = cleanData( symbol,stocks)\n",
    "stock.head()"
   ]
  },
  {
   "cell_type": "markdown",
   "id": "4c10e196",
   "metadata": {},
   "source": [
    "#### Investigate the relationship between a financial asset and Volatility Index (VIX)"
   ]
  },
  {
   "cell_type": "code",
   "execution_count": 92,
   "id": "a5a6c2b2",
   "metadata": {},
   "outputs": [
    {
     "data": {
      "text/html": [
       "<div>\n",
       "<style scoped>\n",
       "    .dataframe tbody tr th:only-of-type {\n",
       "        vertical-align: middle;\n",
       "    }\n",
       "\n",
       "    .dataframe tbody tr th {\n",
       "        vertical-align: top;\n",
       "    }\n",
       "\n",
       "    .dataframe thead th {\n",
       "        text-align: right;\n",
       "    }\n",
       "</style>\n",
       "<table border=\"1\" class=\"dataframe\">\n",
       "  <thead>\n",
       "    <tr style=\"text-align: right;\">\n",
       "      <th></th>\n",
       "      <th>Adj Close ^VIX</th>\n",
       "      <th>Adj Close QQQ</th>\n",
       "    </tr>\n",
       "    <tr>\n",
       "      <th>Date</th>\n",
       "      <th></th>\n",
       "      <th></th>\n",
       "    </tr>\n",
       "  </thead>\n",
       "  <tbody>\n",
       "    <tr>\n",
       "      <th>2000-01-03</th>\n",
       "      <td>-0.017605</td>\n",
       "      <td>0.036270</td>\n",
       "    </tr>\n",
       "    <tr>\n",
       "      <th>2000-01-04</th>\n",
       "      <td>0.109441</td>\n",
       "      <td>-0.071068</td>\n",
       "    </tr>\n",
       "    <tr>\n",
       "      <th>2000-01-05</th>\n",
       "      <td>-0.022464</td>\n",
       "      <td>-0.025827</td>\n",
       "    </tr>\n",
       "    <tr>\n",
       "      <th>2000-01-06</th>\n",
       "      <td>-0.026085</td>\n",
       "      <td>-0.071149</td>\n",
       "    </tr>\n",
       "    <tr>\n",
       "      <th>2000-01-07</th>\n",
       "      <td>-0.169424</td>\n",
       "      <td>0.116612</td>\n",
       "    </tr>\n",
       "  </tbody>\n",
       "</table>\n",
       "</div>"
      ],
      "text/plain": [
       "            Adj Close ^VIX  Adj Close QQQ\n",
       "Date                                     \n",
       "2000-01-03       -0.017605       0.036270\n",
       "2000-01-04        0.109441      -0.071068\n",
       "2000-01-05       -0.022464      -0.025827\n",
       "2000-01-06       -0.026085      -0.071149\n",
       "2000-01-07       -0.169424       0.116612"
      ]
     },
     "execution_count": 92,
     "metadata": {},
     "output_type": "execute_result"
    }
   ],
   "source": [
    "LogReturns = stocks[[\"Adj Close ^VIX\", \"Adj Close QQQ\"]]\n",
    "LogReturns = np.log(LogReturns/LogReturns.shift(1))\n",
    "LogReturns.dropna(inplace = True)\n",
    "LogReturns.head()"
   ]
  },
  {
   "cell_type": "code",
   "execution_count": 93,
   "id": "6a9e7226",
   "metadata": {},
   "outputs": [
    {
     "data": {
      "image/png": "[encoded data removed]",
      "text/plain": [
       "<Figure size 1152x576 with 4 Axes>"
      ]
     },
     "metadata": {
      "needs_background": "light"
     },
     "output_type": "display_data"
    }
   ],
   "source": [
    "pd.plotting.scatter_matrix(LogReturns, \n",
    "                           alpha =0.2,\n",
    "                           diagonal = 'hist', \n",
    "                           hist_kwds ={'bins': 35}, \n",
    "                           figsize =(16,8));"
   ]
  },
  {
   "cell_type": "markdown",
   "id": "2eafe396",
   "metadata": {},
   "source": [
    "\n",
    "##### Let's plot and identify the Ordinary least squares (OLS) regression "
   ]
  },
  {
   "cell_type": "code",
   "execution_count": 94,
   "id": "29996535",
   "metadata": {},
   "outputs": [
    {
     "data": {
      "image/png": "[encoded data removed]",
      "text/plain": [
       "<Figure size 1152x576 with 1 Axes>"
      ]
     },
     "metadata": {
      "needs_background": "light"
     },
     "output_type": "display_data"
    }
   ],
   "source": [
    "reg = np.polyfit(LogReturns['Adj Close QQQ'],LogReturns['Adj Close ^VIX'], deg =1)\n",
    "ax = LogReturns.plot(kind = 'scatter', x = 'Adj Close QQQ', y = 'Adj Close ^VIX', figsize =(16,8))\n",
    "ax.plot(LogReturns['Adj Close QQQ'], np.polyval(reg, LogReturns['Adj Close QQQ']),'r', lw=2);\n"
   ]
  },
  {
   "cell_type": "markdown",
   "id": "005bb217",
   "metadata": {},
   "source": [
    "* As we can see from the plot above, the return of ETF QQQ has a strong negative correlation with Volatility index\n",
    "* The higher the volatility the lower the return "
   ]
  },
  {
   "cell_type": "markdown",
   "id": "52101799",
   "metadata": {},
   "source": []
  },
  {
   "cell_type": "code",
   "execution_count": null,
   "id": "4fe05068",
   "metadata": {},
   "outputs": [],
   "source": [
    "  "
   ]
  },
  {
   "cell_type": "code",
   "execution_count": null,
   "id": "3756409f",
   "metadata": {},
   "outputs": [],
   "source": []
  },
  {
   "cell_type": "markdown",
   "id": "325450e2",
   "metadata": {},
   "source": [
    "### Use the prices of Exchange Traded Funds (ETF) to build a strategy \n",
    "\n",
    "* Ticker Symbol QQQ\n",
    "* Name: Invesco QQQ ETF\n",
    "\n",
    "* \"The Invesco QQQ ETF (NASDAQ: QQQ) is an index fund that mirrors the Nasdaq-100 index, which consists of the 100 largest U.S. and international nonfinancial companies listed on the Nasdaq Stock Market based on market cap.\" For more information, see Invesco's home page https://www.invesco.com/qqq-etf/en/home.html\n",
    "\n",
    "* In this project, I used Invesco QQQ index ETF (Exchange traded fund) to build a strategy (included in Data exploration section) and build LTSM model. \"The Invesco QQQ ETF (NASDAQ: QQQ) is an index fund that mirrors the Nasdaq-100 index, which consists of the 100 largest U.S. and international nonfinancial companies listed on the Nasdaq Stock Market based on market cap.\"\n",
    "For more information, see Invesco’s home page: https://www.invesco.com/qqq-etf/en/home.html\n",
    "\n",
    "* In general, invest in index tracking Exchange Traded Funds (ETF) is a great choice for individual investors. Since it tracks a group of companies(constitutions of an index) It's an easy way to have a diversifed invest portifolio while not spending too much energy on acquiring the sector sepcific knowledge \n"
   ]
  },
  {
   "cell_type": "markdown",
   "id": "ad767444",
   "metadata": {},
   "source": [
    "##### Simple Moving Average (SMA)  Formula \n",
    "\n",
    "SMA is a rather simple concept, it's just a rolling average \n",
    "SMA = ( Sum ( Price, n ) ) / n    \n",
    "Where: n = Time Period\n",
    "\n",
    "Don’t underestimate the power of simplicity. A profitable trading strategy doesn’t need to be overly complicated. The key is that the execution needs to be consistence.\n"
   ]
  },
  {
   "cell_type": "code",
   "execution_count": 95,
   "id": "61bc97e5",
   "metadata": {},
   "outputs": [],
   "source": [
    "# Define a funtion to generate Simple Moving average\n",
    "# remember, SMA is just a rolling mean \n",
    "def SMA_Position(stock, smafast, smaslow):\n",
    "    '''\n",
    "       input: stock, a dataframe that contains stock data \n",
    "       smafast: an int number, fast moving average\n",
    "       smaslow: an int number, slow moving average\n",
    "       output: return the dataframe stock with an extra column,position \n",
    "    '''\n",
    "    SmaFast = smafast\n",
    "    SmaSlow = smaslow\n",
    "    stock['SmaFast'] = stock['price'].rolling(SmaFast).mean()\n",
    "    stock['SmaSlow'] = stock['price'].rolling(SmaSlow).mean()\n",
    "    stock.dropna(inplace =True)\n",
    "    # Long Position: Long a stock when the fast SMA is above slow SMA\n",
    "    # Short Position: Short a stock when the slow SMA is above the fast SMA\n",
    "    stock['Position'] = np.where(stock['SmaFast']> stock['SmaSlow'],1 ,-1)\n",
    "    return stock"
   ]
  },
  {
   "cell_type": "code",
   "execution_count": 96,
   "id": "12df6c24",
   "metadata": {},
   "outputs": [],
   "source": [
    "# Each year, there are around 254 trading days, so we use period n = 254 as slow moving average \n",
    "# Each month, on average there are 21 trading days, so we use period n = 42 as fast moving average\n",
    "# Fast moving average with period n = 42\n",
    "# Slowe moving average with period =  254\n",
    "stock = SMA_Position(stock = stock, smafast=42,smaslow = 254)"
   ]
  },
  {
   "cell_type": "code",
   "execution_count": 97,
   "id": "0c4bc1eb",
   "metadata": {},
   "outputs": [
    {
     "data": {
      "text/html": [
       "<div>\n",
       "<style scoped>\n",
       "    .dataframe tbody tr th:only-of-type {\n",
       "        vertical-align: middle;\n",
       "    }\n",
       "\n",
       "    .dataframe tbody tr th {\n",
       "        vertical-align: top;\n",
       "    }\n",
       "\n",
       "    .dataframe thead th {\n",
       "        text-align: right;\n",
       "    }\n",
       "</style>\n",
       "<table border=\"1\" class=\"dataframe\">\n",
       "  <thead>\n",
       "    <tr style=\"text-align: right;\">\n",
       "      <th></th>\n",
       "      <th>price</th>\n",
       "      <th>SmaFast</th>\n",
       "      <th>SmaSlow</th>\n",
       "      <th>Position</th>\n",
       "    </tr>\n",
       "    <tr>\n",
       "      <th>Date</th>\n",
       "      <th></th>\n",
       "      <th></th>\n",
       "      <th></th>\n",
       "      <th></th>\n",
       "    </tr>\n",
       "  </thead>\n",
       "  <tbody>\n",
       "    <tr>\n",
       "      <th>2001-01-02</th>\n",
       "      <td>46.229889</td>\n",
       "      <td>59.311609</td>\n",
       "      <td>77.627303</td>\n",
       "      <td>-1</td>\n",
       "    </tr>\n",
       "    <tr>\n",
       "      <th>2001-01-03</th>\n",
       "      <td>54.015976</td>\n",
       "      <td>58.929257</td>\n",
       "      <td>77.528742</td>\n",
       "      <td>-1</td>\n",
       "    </tr>\n",
       "    <tr>\n",
       "      <th>2001-01-04</th>\n",
       "      <td>53.042713</td>\n",
       "      <td>58.503134</td>\n",
       "      <td>77.414854</td>\n",
       "      <td>-1</td>\n",
       "    </tr>\n",
       "    <tr>\n",
       "      <th>2001-01-05</th>\n",
       "      <td>48.987434</td>\n",
       "      <td>57.958572</td>\n",
       "      <td>77.307140</td>\n",
       "      <td>-1</td>\n",
       "    </tr>\n",
       "    <tr>\n",
       "      <th>2001-01-08</th>\n",
       "      <td>49.528149</td>\n",
       "      <td>57.439757</td>\n",
       "      <td>77.209218</td>\n",
       "      <td>-1</td>\n",
       "    </tr>\n",
       "  </tbody>\n",
       "</table>\n",
       "</div>"
      ],
      "text/plain": [
       "                price    SmaFast    SmaSlow  Position\n",
       "Date                                                 \n",
       "2001-01-02  46.229889  59.311609  77.627303        -1\n",
       "2001-01-03  54.015976  58.929257  77.528742        -1\n",
       "2001-01-04  53.042713  58.503134  77.414854        -1\n",
       "2001-01-05  48.987434  57.958572  77.307140        -1\n",
       "2001-01-08  49.528149  57.439757  77.209218        -1"
      ]
     },
     "execution_count": 97,
     "metadata": {},
     "output_type": "execute_result"
    }
   ],
   "source": [
    "stock.head()"
   ]
  },
  {
   "cell_type": "code",
   "execution_count": 98,
   "id": "f60d5fc9",
   "metadata": {},
   "outputs": [
    {
     "data": {
      "text/html": [
       "<div>\n",
       "<style scoped>\n",
       "    .dataframe tbody tr th:only-of-type {\n",
       "        vertical-align: middle;\n",
       "    }\n",
       "\n",
       "    .dataframe tbody tr th {\n",
       "        vertical-align: top;\n",
       "    }\n",
       "\n",
       "    .dataframe thead th {\n",
       "        text-align: right;\n",
       "    }\n",
       "</style>\n",
       "<table border=\"1\" class=\"dataframe\">\n",
       "  <thead>\n",
       "    <tr style=\"text-align: right;\">\n",
       "      <th></th>\n",
       "      <th>price</th>\n",
       "      <th>SmaFast</th>\n",
       "      <th>SmaSlow</th>\n",
       "      <th>Position</th>\n",
       "      <th>Return</th>\n",
       "      <th>Strategy</th>\n",
       "    </tr>\n",
       "    <tr>\n",
       "      <th>Date</th>\n",
       "      <th></th>\n",
       "      <th></th>\n",
       "      <th></th>\n",
       "      <th></th>\n",
       "      <th></th>\n",
       "      <th></th>\n",
       "    </tr>\n",
       "  </thead>\n",
       "  <tbody>\n",
       "    <tr>\n",
       "      <th>2001-01-03</th>\n",
       "      <td>54.0160</td>\n",
       "      <td>58.9293</td>\n",
       "      <td>77.5287</td>\n",
       "      <td>-1</td>\n",
       "      <td>0.1557</td>\n",
       "      <td>-0.1557</td>\n",
       "    </tr>\n",
       "    <tr>\n",
       "      <th>2001-01-04</th>\n",
       "      <td>53.0427</td>\n",
       "      <td>58.5031</td>\n",
       "      <td>77.4149</td>\n",
       "      <td>-1</td>\n",
       "      <td>-0.0182</td>\n",
       "      <td>0.0182</td>\n",
       "    </tr>\n",
       "    <tr>\n",
       "      <th>2001-01-05</th>\n",
       "      <td>48.9874</td>\n",
       "      <td>57.9586</td>\n",
       "      <td>77.3071</td>\n",
       "      <td>-1</td>\n",
       "      <td>-0.0795</td>\n",
       "      <td>0.0795</td>\n",
       "    </tr>\n",
       "    <tr>\n",
       "      <th>2001-01-08</th>\n",
       "      <td>49.5281</td>\n",
       "      <td>57.4398</td>\n",
       "      <td>77.2092</td>\n",
       "      <td>-1</td>\n",
       "      <td>0.0110</td>\n",
       "      <td>-0.0110</td>\n",
       "    </tr>\n",
       "    <tr>\n",
       "      <th>2001-01-09</th>\n",
       "      <td>49.5281</td>\n",
       "      <td>56.9274</td>\n",
       "      <td>77.1314</td>\n",
       "      <td>-1</td>\n",
       "      <td>0.0000</td>\n",
       "      <td>-0.0000</td>\n",
       "    </tr>\n",
       "  </tbody>\n",
       "</table>\n",
       "</div>"
      ],
      "text/plain": [
       "              price  SmaFast  SmaSlow  Position  Return  Strategy\n",
       "Date                                                             \n",
       "2001-01-03  54.0160  58.9293  77.5287        -1  0.1557   -0.1557\n",
       "2001-01-04  53.0427  58.5031  77.4149        -1 -0.0182    0.0182\n",
       "2001-01-05  48.9874  57.9586  77.3071        -1 -0.0795    0.0795\n",
       "2001-01-08  49.5281  57.4398  77.2092        -1  0.0110   -0.0110\n",
       "2001-01-09  49.5281  56.9274  77.1314        -1  0.0000   -0.0000"
      ]
     },
     "execution_count": 98,
     "metadata": {},
     "output_type": "execute_result"
    }
   ],
   "source": [
    "# caculate the log returns of 'buy and hold' and SMA strategy\n",
    "stock['Return'] = np.log(stock['price']/stock['price'].shift(1))\n",
    "stock['Strategy'] = stock['Position'].shift(1)*stock['Return']\n",
    "stock.dropna(inplace =True)\n",
    "stock.round(4).head()"
   ]
  },
  {
   "cell_type": "code",
   "execution_count": 99,
   "id": "d55bfacf",
   "metadata": {},
   "outputs": [
    {
     "data": {
      "text/plain": [
       "<matplotlib.legend.Legend at 0x7ff0b7e3b4c0>"
      ]
     },
     "execution_count": 99,
     "metadata": {},
     "output_type": "execute_result"
    },
    {
     "data": {
      "image/png": "[encoded data removed]",
      "text/plain": [
       "<Figure size 1440x864 with 1 Axes>"
      ]
     },
     "metadata": {
      "needs_background": "light"
     },
     "output_type": "display_data"
    }
   ],
   "source": [
    "# Plot out the strategy\n",
    "# We long/buy apple stock or derivatives if Fast Simple Moving Average is above Slow moving average \n",
    "\n",
    "fig, ax = plt.subplots(figsize=(20,12))\n",
    "ax.plot(stock.index, stock['price'], label= symbol)\n",
    "ax.plot(stock.index, stock['SmaFast'], label='SmaFast')\n",
    "ax.plot(stock.index, stock['SmaSlow'], label='SmaSlow')\n",
    "ax.set_xlabel('Date')\n",
    "ax.set_ylabel('Adjusted closing price ($)')\n",
    "ax.legend()\n"
   ]
  },
  {
   "cell_type": "code",
   "execution_count": 100,
   "id": "e3e971e3",
   "metadata": {
    "scrolled": true
   },
   "outputs": [
    {
     "data": {
      "text/plain": [
       "Return      8.029221\n",
       "Strategy    9.857585\n",
       "dtype: float64"
      ]
     },
     "execution_count": 100,
     "metadata": {},
     "output_type": "execute_result"
    }
   ],
   "source": [
    "np.exp(stock[['Return','Strategy']].sum())"
   ]
  },
  {
   "cell_type": "code",
   "execution_count": 103,
   "id": "e1bd02fb",
   "metadata": {},
   "outputs": [
    {
     "data": {
      "text/plain": [
       "Return      0.251734\n",
       "Strategy    0.251718\n",
       "dtype: float64"
      ]
     },
     "execution_count": 103,
     "metadata": {},
     "output_type": "execute_result"
    }
   ],
   "source": [
    "# caculate the annualized volatility\n",
    "stock[['Return','Strategy']].std()*254**0.5"
   ]
  },
  {
   "cell_type": "markdown",
   "id": "4e8e5009",
   "metadata": {},
   "source": [
    "   * As we can see from above, SMA strategy generate higher return than benchmark (\"Buy and hold\") \n",
    "   * The annualized volatility, is almost the same. SMA's volatility is slightly lower"
   ]
  },
  {
   "cell_type": "markdown",
   "id": "2d42541e",
   "metadata": {},
   "source": [
    "#### Plot the Position( Long or Short) and Return of the strategy"
   ]
  },
  {
   "cell_type": "markdown",
   "id": "2edcabfc",
   "metadata": {},
   "source": [
    "* Blue Line: the cumulative return of the defined time period ( A simple buy and hold strategy)\n",
    "* Orange Line: Simple Moving Average(SMA)strategy's return\n",
    "* As you can see below, Given almost the same annulized volatilities, SMA strategy outperformed the \"buy and hold\" benchmark. "
   ]
  },
  {
   "cell_type": "code",
   "execution_count": 102,
   "id": "210015fd",
   "metadata": {},
   "outputs": [
    {
     "data": {
      "image/png": "[encoded data removed]",
      "text/plain": [
       "<Figure size 1800x864 with 2 Axes>"
      ]
     },
     "metadata": {
      "needs_background": "light"
     },
     "output_type": "display_data"
    }
   ],
   "source": [
    "ax = stock[['Return', 'Strategy']].cumsum().apply(np.exp).plot(figsize =(25,12))\n",
    "stock['Position'].plot(ax = ax, secondary_y ='Position', style = '--')\n",
    "ax.get_legend().set_bbox_to_anchor((0.25,0.85))\n"
   ]
  },
  {
   "cell_type": "code",
   "execution_count": null,
   "id": "d2b0c340",
   "metadata": {},
   "outputs": [],
   "source": []
  },
  {
   "cell_type": "code",
   "execution_count": 138,
   "id": "13868c2f",
   "metadata": {},
   "outputs": [
    {
     "data": {
      "text/html": [
       "<div>\n",
       "<style scoped>\n",
       "    .dataframe tbody tr th:only-of-type {\n",
       "        vertical-align: middle;\n",
       "    }\n",
       "\n",
       "    .dataframe tbody tr th {\n",
       "        vertical-align: top;\n",
       "    }\n",
       "\n",
       "    .dataframe thead th {\n",
       "        text-align: right;\n",
       "    }\n",
       "</style>\n",
       "<table border=\"1\" class=\"dataframe\">\n",
       "  <thead>\n",
       "    <tr style=\"text-align: right;\">\n",
       "      <th></th>\n",
       "      <th>price</th>\n",
       "      <th>SmaFast</th>\n",
       "      <th>SmaSlow</th>\n",
       "      <th>Position</th>\n",
       "      <th>Return</th>\n",
       "      <th>Strategy</th>\n",
       "    </tr>\n",
       "    <tr>\n",
       "      <th>Date</th>\n",
       "      <th></th>\n",
       "      <th></th>\n",
       "      <th></th>\n",
       "      <th></th>\n",
       "      <th></th>\n",
       "      <th></th>\n",
       "    </tr>\n",
       "  </thead>\n",
       "  <tbody>\n",
       "    <tr>\n",
       "      <th>2014-12-29</th>\n",
       "      <td>80.019997</td>\n",
       "      <td>78.771666</td>\n",
       "      <td>76.630599</td>\n",
       "      <td>1</td>\n",
       "      <td>-0.009453</td>\n",
       "      <td>-0.009453</td>\n",
       "    </tr>\n",
       "    <tr>\n",
       "      <th>2014-12-30</th>\n",
       "      <td>79.220001</td>\n",
       "      <td>78.895833</td>\n",
       "      <td>76.695999</td>\n",
       "      <td>1</td>\n",
       "      <td>-0.010048</td>\n",
       "      <td>-0.010048</td>\n",
       "    </tr>\n",
       "    <tr>\n",
       "      <th>2014-12-31</th>\n",
       "      <td>78.019997</td>\n",
       "      <td>78.911666</td>\n",
       "      <td>76.717399</td>\n",
       "      <td>1</td>\n",
       "      <td>-0.015264</td>\n",
       "      <td>-0.015264</td>\n",
       "    </tr>\n",
       "    <tr>\n",
       "      <th>2015-01-02</th>\n",
       "      <td>78.449997</td>\n",
       "      <td>79.033332</td>\n",
       "      <td>76.712599</td>\n",
       "      <td>1</td>\n",
       "      <td>0.005496</td>\n",
       "      <td>0.005496</td>\n",
       "    </tr>\n",
       "    <tr>\n",
       "      <th>2015-01-05</th>\n",
       "      <td>77.190002</td>\n",
       "      <td>79.241666</td>\n",
       "      <td>76.688999</td>\n",
       "      <td>1</td>\n",
       "      <td>-0.016191</td>\n",
       "      <td>-0.016191</td>\n",
       "    </tr>\n",
       "  </tbody>\n",
       "</table>\n",
       "</div>"
      ],
      "text/plain": [
       "                price    SmaFast    SmaSlow  Position    Return  Strategy\n",
       "Date                                                                     \n",
       "2014-12-29  80.019997  78.771666  76.630599         1 -0.009453 -0.009453\n",
       "2014-12-30  79.220001  78.895833  76.695999         1 -0.010048 -0.010048\n",
       "2014-12-31  78.019997  78.911666  76.717399         1 -0.015264 -0.015264\n",
       "2015-01-02  78.449997  79.033332  76.712599         1  0.005496  0.005496\n",
       "2015-01-05  77.190002  79.241666  76.688999         1 -0.016191 -0.016191"
      ]
     },
     "execution_count": 138,
     "metadata": {},
     "output_type": "execute_result"
    }
   ],
   "source": [
    "stock.head()"
   ]
  },
  {
   "cell_type": "markdown",
   "id": "aa2e271a",
   "metadata": {},
   "source": [
    "## Use recurrent neural network model: LSTM to predict financial asset price"
   ]
  },
  {
   "cell_type": "markdown",
   "id": "0c0d0fc0",
   "metadata": {},
   "source": [
    "An extremly nice blog posts about LSTM, Long and Short term memory model\n",
    "* https://colah.github.io/posts/2015-08-Understanding-LSTMs/\n",
    "* http://karpathy.github.io/2015/05/21/rnn-effectiveness/\n",
    "\n",
    "* Long short-term memory model( LSTM) is a RNN ( Recurrent Neural Network) architecture. LSTMs are extremely effective tool for sequence prediction problems. Since LTSM has feedback connection, it’s good at processing sequential of  historical data, such as : historical financial asset prices. \n",
    "* RNNs are analogous to the learning process of humans, just like us, it remembers some useful information from the past (feedback connection) and forget some none important information\n"
   ]
  },
  {
   "cell_type": "code",
   "execution_count": 105,
   "id": "8d4951c2",
   "metadata": {},
   "outputs": [],
   "source": [
    "# First make a copy of cleaned dataframe \n",
    "data = stock"
   ]
  },
  {
   "cell_type": "code",
   "execution_count": 106,
   "id": "95711c98",
   "metadata": {},
   "outputs": [
    {
     "data": {
      "text/plain": [
       "4275"
      ]
     },
     "execution_count": 106,
     "metadata": {},
     "output_type": "execute_result"
    }
   ],
   "source": [
    "# only keep Adj Close(price) as a dataframe\n",
    "PRICE = data.filter(['price'])\n",
    "# convert the dataframe to a numpy array \n",
    "dataset = PRICE.values \n",
    "# Here we use 80% of the data as training data\n",
    "train_data_len = math.ceil(len(dataset)* .8)\n",
    "train_data_len"
   ]
  },
  {
   "cell_type": "markdown",
   "id": "78f2e756",
   "metadata": {},
   "source": [
    "#### Normalizing the Data and split data into training & testing sets\n"
   ]
  },
  {
   "cell_type": "code",
   "execution_count": 107,
   "id": "9edb6e87",
   "metadata": {
    "scrolled": true
   },
   "outputs": [
    {
     "data": {
      "text/plain": [
       "array([[0.09507013],\n",
       "       [0.09254629],\n",
       "       [0.08203024],\n",
       "       ...,\n",
       "       [0.88685504],\n",
       "       [0.9012731 ],\n",
       "       [0.91755824]])"
      ]
     },
     "execution_count": 107,
     "metadata": {},
     "output_type": "execute_result"
    }
   ],
   "source": [
    "# Normalize and scale the data and transform it into a 0 to 1 range \n",
    "scaler = MinMaxScaler(feature_range = (0,1))\n",
    "scaled_data = scaler.fit_transform(dataset)\n",
    "scaled_data"
   ]
  },
  {
   "cell_type": "code",
   "execution_count": 108,
   "id": "d21b6918",
   "metadata": {},
   "outputs": [],
   "source": [
    "# Create the training data set\n",
    "# row: 0 to the lenght of training data, and get all the columns \n",
    "train_data = scaled_data[0: train_data_len, :]"
   ]
  },
  {
   "cell_type": "code",
   "execution_count": 109,
   "id": "c5a23db1",
   "metadata": {},
   "outputs": [
    {
     "name": "stdout",
     "output_type": "stream",
     "text": [
      "[array([0.09507013, 0.09254629, 0.08203024, 0.08343241, 0.08343241,\n",
      "       0.09002245, 0.09394838, 0.09573612, 0.09405352, 0.09829499,\n",
      "       0.10432416, 0.10376336, 0.1039035 , 0.10702322, 0.10558604,\n",
      "       0.09969716, 0.10204568, 0.10530571, 0.10474485, 0.09924846,\n",
      "       0.10115533, 0.09307908, 0.09296691, 0.09319124, 0.09094785,\n",
      "       0.08688724, 0.08152551, 0.08305102, 0.0789456 , 0.0838811 ,\n",
      "       0.0860123 , 0.07867637, 0.07387551, 0.07053279, 0.06941109,\n",
      "       0.06981495, 0.07199102, 0.06492425, 0.061447  , 0.06447556,\n",
      "       0.05976445, 0.06167138, 0.06582167, 0.06586651, 0.06380258,\n",
      "       0.05617503, 0.04989344, 0.05471677, 0.05314637, 0.04955692])]\n",
      "[0.04742573601554501]\n",
      "[array([0.09507013, 0.09254629, 0.08203024, 0.08343241, 0.08343241,\n",
      "       0.09002245, 0.09394838, 0.09573612, 0.09405352, 0.09829499,\n",
      "       0.10432416, 0.10376336, 0.1039035 , 0.10702322, 0.10558604,\n",
      "       0.09969716, 0.10204568, 0.10530571, 0.10474485, 0.09924846,\n",
      "       0.10115533, 0.09307908, 0.09296691, 0.09319124, 0.09094785,\n",
      "       0.08688724, 0.08152551, 0.08305102, 0.0789456 , 0.0838811 ,\n",
      "       0.0860123 , 0.07867637, 0.07387551, 0.07053279, 0.06941109,\n",
      "       0.06981495, 0.07199102, 0.06492425, 0.061447  , 0.06447556,\n",
      "       0.05976445, 0.06167138, 0.06582167, 0.06586651, 0.06380258,\n",
      "       0.05617503, 0.04989344, 0.05471677, 0.05314637, 0.04955692]), array([0.09254629, 0.08203024, 0.08343241, 0.08343241, 0.09002245,\n",
      "       0.09394838, 0.09573612, 0.09405352, 0.09829499, 0.10432416,\n",
      "       0.10376336, 0.1039035 , 0.10702322, 0.10558604, 0.09969716,\n",
      "       0.10204568, 0.10530571, 0.10474485, 0.09924846, 0.10115533,\n",
      "       0.09307908, 0.09296691, 0.09319124, 0.09094785, 0.08688724,\n",
      "       0.08152551, 0.08305102, 0.0789456 , 0.0838811 , 0.0860123 ,\n",
      "       0.07867637, 0.07387551, 0.07053279, 0.06941109, 0.06981495,\n",
      "       0.07199102, 0.06492425, 0.061447  , 0.06447556, 0.05976445,\n",
      "       0.06167138, 0.06582167, 0.06586651, 0.06380258, 0.05617503,\n",
      "       0.04989344, 0.05471677, 0.05314637, 0.04955692, 0.04742574])]\n",
      "[0.04742573601554501, 0.05204713583078973]\n"
     ]
    }
   ],
   "source": [
    "# define x_train, y_train \n",
    "x_train =[]\n",
    "y_train =[]\n",
    "for i in range (50, len(train_data)):\n",
    "    x_train.append(train_data[i-50:i,0])\n",
    "    y_train.append(train_data[i,0])\n",
    "    if i <= 51:\n",
    "        print(x_train)\n",
    "        print(y_train)\n",
    "        #print()"
   ]
  },
  {
   "cell_type": "code",
   "execution_count": 110,
   "id": "42eb179f",
   "metadata": {},
   "outputs": [
    {
     "data": {
      "text/plain": [
       "(4225, 50, 1)"
      ]
     },
     "execution_count": 110,
     "metadata": {},
     "output_type": "execute_result"
    }
   ],
   "source": [
    "# convert the x_train , y_train to numpy arrays\n",
    "# LSTM model is expecting 3 dimensional data, but we only have 2 dimensional --> reshape the data\n",
    "x_train, y_train = np.array(x_train), np.array(y_train)\n",
    "x_train = np.reshape(x_train,(x_train.shape[0],x_train.shape[1],1))\n",
    "x_train.shape"
   ]
  },
  {
   "cell_type": "code",
   "execution_count": null,
   "id": "488895a3",
   "metadata": {},
   "outputs": [],
   "source": []
  },
  {
   "cell_type": "markdown",
   "id": "7120ee44",
   "metadata": {},
   "source": [
    "#### Build And Compile the Model \n",
    "\n",
    "* That return sequences return the hidden state output for each input time step.\n",
    "* The model has 100 neurons \n",
    "* Dropout, 20% of 100 neurons will be ignored randomly during each iteration."
   ]
  },
  {
   "cell_type": "code",
   "execution_count": null,
   "id": "485a2381",
   "metadata": {},
   "outputs": [],
   "source": []
  },
  {
   "cell_type": "code",
   "execution_count": 122,
   "id": "02c55500",
   "metadata": {},
   "outputs": [],
   "source": [
    "model = Sequential()\n",
    "# 1st lstm layer\n",
    "model.add(LSTM(units=100,return_sequences=True,input_shape=(x_train.shape[1], 1)))\n",
    "model.add(Dropout(0.2))\n",
    "# 2st lstm layer\n",
    "model.add(LSTM(units=100,return_sequences=True))\n",
    "model.add(Dropout(0.2))\n",
    "# 3st lstm layer\n",
    "model.add(LSTM(units=100,return_sequences=True))\n",
    "model.add(Dropout(0.2))\n",
    "# 3st lstm layer \n",
    "model.add(LSTM(units=100,return_sequences= False))\n",
    "model.add(Dropout(0.2))\n",
    "model.add(Dense(units=1))\n",
    "model.compile(optimizer='adam',loss='mean_squared_error')"
   ]
  },
  {
   "cell_type": "markdown",
   "id": "9411eb0d",
   "metadata": {},
   "source": [
    "#### Train the model \n",
    "\n",
    "\"On sequence prediction problems, it may be desirable to use a large batch size when training the network and a batch size of 1 when making predictions in order to predict the next step in the sequence.\"\n",
    "\n",
    "There is an intereting reading about batch_size on machinelearningmastery.com:\n",
    "https://machinelearningmastery.com/use-different-batch-sizes-training-predicting-python-keras/\n"
   ]
  },
  {
   "cell_type": "code",
   "execution_count": 123,
   "id": "26d0ffe7",
   "metadata": {},
   "outputs": [
    {
     "name": "stdout",
     "output_type": "stream",
     "text": [
      "Epoch 1/10\n",
      "133/133 [==============================] - 16s 79ms/step - loss: 6.3847e-04\n",
      "Epoch 2/10\n",
      "133/133 [==============================] - 10s 76ms/step - loss: 1.3644e-04\n",
      "Epoch 3/10\n",
      "133/133 [==============================] - 11s 84ms/step - loss: 1.4829e-04\n",
      "Epoch 4/10\n",
      "133/133 [==============================] - 11s 83ms/step - loss: 1.1161e-04\n",
      "Epoch 5/10\n",
      "133/133 [==============================] - 11s 82ms/step - loss: 1.1466e-04\n",
      "Epoch 6/10\n",
      "133/133 [==============================] - 10s 77ms/step - loss: 1.7838e-04\n",
      "Epoch 7/10\n",
      "133/133 [==============================] - 11s 79ms/step - loss: 1.0303e-04\n",
      "Epoch 8/10\n",
      "133/133 [==============================] - 11s 79ms/step - loss: 8.5522e-05\n",
      "Epoch 9/10\n",
      "133/133 [==============================] - 11s 81ms/step - loss: 9.2272e-05\n",
      "Epoch 10/10\n",
      "133/133 [==============================] - 11s 80ms/step - loss: 7.7382e-05\n"
     ]
    },
    {
     "data": {
      "text/plain": [
       "<tensorflow.python.keras.callbacks.History at 0x7ff0a9d9fa00>"
      ]
     },
     "execution_count": 123,
     "metadata": {},
     "output_type": "execute_result"
    }
   ],
   "source": [
    "## train the model\n",
    "model.fit(x_train,y_train, batch_size =32, epochs =10)"
   ]
  },
  {
   "cell_type": "code",
   "execution_count": 124,
   "id": "107bc214",
   "metadata": {},
   "outputs": [],
   "source": [
    "# create test data set\n",
    "test_data = scaled_data[train_data_len -50:, :]\n",
    "x_test = []\n",
    "y_test = dataset[train_data_len:, :]\n",
    "for i in range(50, len(test_data)):\n",
    "    x_test.append(test_data[i-50:i,0])\n",
    "\n",
    "x_test = np.array(x_test)"
   ]
  },
  {
   "cell_type": "code",
   "execution_count": 125,
   "id": "2e13fc8a",
   "metadata": {},
   "outputs": [],
   "source": [
    "# reshape the data, becasue the lstm model is expecting a 3 dimensional dataset \n",
    "x_test = np.reshape(x_test,(x_test.shape[0],x_test.shape[1],1))"
   ]
  },
  {
   "cell_type": "code",
   "execution_count": 126,
   "id": "6b72860d",
   "metadata": {},
   "outputs": [
    {
     "data": {
      "text/plain": [
       "array([[145.99335],\n",
       "       [146.11646],\n",
       "       [146.23177],\n",
       "       ...,\n",
       "       [312.3286 ],\n",
       "       [313.91412],\n",
       "       [315.7551 ]], dtype=float32)"
      ]
     },
     "execution_count": 126,
     "metadata": {},
     "output_type": "execute_result"
    }
   ],
   "source": [
    "# Use the model to predict the value \n",
    "predictions = model.predict(x_test)\n",
    "predictions = scaler.inverse_transform(predictions)\n",
    "predictions "
   ]
  },
  {
   "cell_type": "markdown",
   "id": "ba3c4989",
   "metadata": {},
   "source": [
    "##  Evaluate The Model\n",
    "\n",
    "* To evaluate the model, we us RSME, Root Mean Square Error which is the standard deviation of the residuals (prediction errors). Different parameters will be used to modify the model and caculate the RSME \n",
    "\n",
    "* We will also use this model to predict the stock prices in the same sector or other assets class \n"
   ]
  },
  {
   "cell_type": "code",
   "execution_count": 127,
   "id": "9b2b5e64",
   "metadata": {},
   "outputs": [
    {
     "name": "stdout",
     "output_type": "stream",
     "text": [
      "The Root Mean Square Error is :16.0173\n"
     ]
    }
   ],
   "source": [
    "# Get the mean squared error (RMSE), the lower the value of RMSE, the better the model fits\n",
    "rsme = np.sqrt(np.mean(predictions - y_test)**2)\n",
    "print( \"The Root Mean Square Error is :\" + str(rsme.round(4)))"
   ]
  },
  {
   "cell_type": "markdown",
   "id": "94872871",
   "metadata": {},
   "source": [
    "The RMSE is rather small, the model's reasult seems to be rather reasonable"
   ]
  },
  {
   "cell_type": "code",
   "execution_count": 128,
   "id": "04019a51",
   "metadata": {},
   "outputs": [
    {
     "name": "stderr",
     "output_type": "stream",
     "text": [
      "/var/folders/k3/1lf551f54pvcy1bpp1lld73r0000gp/T/ipykernel_4764/3730383151.py:4: SettingWithCopyWarning: \n",
      "A value is trying to be set on a copy of a slice from a DataFrame.\n",
      "Try using .loc[row_indexer,col_indexer] = value instead\n",
      "\n",
      "See the caveats in the documentation: https://pandas.pydata.org/pandas-docs/stable/user_guide/indexing.html#returning-a-view-versus-a-copy\n",
      "  finalDF['Predictions'] = predictions\n"
     ]
    }
   ],
   "source": [
    "# create a validation dataset\n",
    "train = data.iloc[: train_data_len]\n",
    "finalDF = data.iloc[ train_data_len:]\n",
    "finalDF['Predictions'] = predictions"
   ]
  },
  {
   "cell_type": "code",
   "execution_count": 129,
   "id": "4a836aca",
   "metadata": {},
   "outputs": [
    {
     "data": {
      "text/html": [
       "<div>\n",
       "<style scoped>\n",
       "    .dataframe tbody tr th:only-of-type {\n",
       "        vertical-align: middle;\n",
       "    }\n",
       "\n",
       "    .dataframe tbody tr th {\n",
       "        vertical-align: top;\n",
       "    }\n",
       "\n",
       "    .dataframe thead th {\n",
       "        text-align: right;\n",
       "    }\n",
       "</style>\n",
       "<table border=\"1\" class=\"dataframe\">\n",
       "  <thead>\n",
       "    <tr style=\"text-align: right;\">\n",
       "      <th></th>\n",
       "      <th>price</th>\n",
       "      <th>SmaFast</th>\n",
       "      <th>SmaSlow</th>\n",
       "      <th>Position</th>\n",
       "      <th>Return</th>\n",
       "      <th>Strategy</th>\n",
       "      <th>Predictions</th>\n",
       "    </tr>\n",
       "    <tr>\n",
       "      <th>Date</th>\n",
       "      <th></th>\n",
       "      <th></th>\n",
       "      <th></th>\n",
       "      <th></th>\n",
       "      <th></th>\n",
       "      <th></th>\n",
       "      <th></th>\n",
       "    </tr>\n",
       "  </thead>\n",
       "  <tbody>\n",
       "    <tr>\n",
       "      <th>2018-01-02</th>\n",
       "      <td>154.061447</td>\n",
       "      <td>150.527996</td>\n",
       "      <td>135.628137</td>\n",
       "      <td>1</td>\n",
       "      <td>0.017375</td>\n",
       "      <td>0.017375</td>\n",
       "      <td>145.993347</td>\n",
       "    </tr>\n",
       "    <tr>\n",
       "      <th>2018-01-03</th>\n",
       "      <td>155.558411</td>\n",
       "      <td>150.718875</td>\n",
       "      <td>135.786580</td>\n",
       "      <td>1</td>\n",
       "      <td>0.009670</td>\n",
       "      <td>0.009670</td>\n",
       "      <td>146.116455</td>\n",
       "    </tr>\n",
       "    <tr>\n",
       "      <th>2018-01-04</th>\n",
       "      <td>155.830627</td>\n",
       "      <td>150.922934</td>\n",
       "      <td>135.950759</td>\n",
       "      <td>1</td>\n",
       "      <td>0.001748</td>\n",
       "      <td>0.001748</td>\n",
       "      <td>146.231766</td>\n",
       "    </tr>\n",
       "    <tr>\n",
       "      <th>2018-01-05</th>\n",
       "      <td>157.395645</td>\n",
       "      <td>151.130535</td>\n",
       "      <td>136.117079</td>\n",
       "      <td>1</td>\n",
       "      <td>0.009993</td>\n",
       "      <td>0.009993</td>\n",
       "      <td>146.368240</td>\n",
       "    </tr>\n",
       "    <tr>\n",
       "      <th>2018-01-08</th>\n",
       "      <td>158.008041</td>\n",
       "      <td>151.340707</td>\n",
       "      <td>136.283346</td>\n",
       "      <td>1</td>\n",
       "      <td>0.003883</td>\n",
       "      <td>0.003883</td>\n",
       "      <td>146.554779</td>\n",
       "    </tr>\n",
       "    <tr>\n",
       "      <th>2018-01-09</th>\n",
       "      <td>158.017761</td>\n",
       "      <td>151.549031</td>\n",
       "      <td>136.447072</td>\n",
       "      <td>1</td>\n",
       "      <td>0.000062</td>\n",
       "      <td>0.000062</td>\n",
       "      <td>146.811340</td>\n",
       "    </tr>\n",
       "    <tr>\n",
       "      <th>2018-01-10</th>\n",
       "      <td>157.648346</td>\n",
       "      <td>151.734241</td>\n",
       "      <td>136.605323</td>\n",
       "      <td>1</td>\n",
       "      <td>-0.002341</td>\n",
       "      <td>-0.002341</td>\n",
       "      <td>147.142212</td>\n",
       "    </tr>\n",
       "    <tr>\n",
       "      <th>2018-01-11</th>\n",
       "      <td>158.727371</td>\n",
       "      <td>151.963848</td>\n",
       "      <td>136.766306</td>\n",
       "      <td>1</td>\n",
       "      <td>0.006821</td>\n",
       "      <td>0.006821</td>\n",
       "      <td>147.535034</td>\n",
       "    </tr>\n",
       "    <tr>\n",
       "      <th>2018-01-12</th>\n",
       "      <td>159.893814</td>\n",
       "      <td>152.221460</td>\n",
       "      <td>136.930857</td>\n",
       "      <td>1</td>\n",
       "      <td>0.007322</td>\n",
       "      <td>0.007322</td>\n",
       "      <td>147.976654</td>\n",
       "    </tr>\n",
       "    <tr>\n",
       "      <th>2018-01-16</th>\n",
       "      <td>159.436981</td>\n",
       "      <td>152.463807</td>\n",
       "      <td>137.092358</td>\n",
       "      <td>1</td>\n",
       "      <td>-0.002861</td>\n",
       "      <td>-0.002861</td>\n",
       "      <td>148.459244</td>\n",
       "    </tr>\n",
       "  </tbody>\n",
       "</table>\n",
       "</div>"
      ],
      "text/plain": [
       "                 price     SmaFast     SmaSlow  Position    Return  Strategy  \\\n",
       "Date                                                                           \n",
       "2018-01-02  154.061447  150.527996  135.628137         1  0.017375  0.017375   \n",
       "2018-01-03  155.558411  150.718875  135.786580         1  0.009670  0.009670   \n",
       "2018-01-04  155.830627  150.922934  135.950759         1  0.001748  0.001748   \n",
       "2018-01-05  157.395645  151.130535  136.117079         1  0.009993  0.009993   \n",
       "2018-01-08  158.008041  151.340707  136.283346         1  0.003883  0.003883   \n",
       "2018-01-09  158.017761  151.549031  136.447072         1  0.000062  0.000062   \n",
       "2018-01-10  157.648346  151.734241  136.605323         1 -0.002341 -0.002341   \n",
       "2018-01-11  158.727371  151.963848  136.766306         1  0.006821  0.006821   \n",
       "2018-01-12  159.893814  152.221460  136.930857         1  0.007322  0.007322   \n",
       "2018-01-16  159.436981  152.463807  137.092358         1 -0.002861 -0.002861   \n",
       "\n",
       "            Predictions  \n",
       "Date                     \n",
       "2018-01-02   145.993347  \n",
       "2018-01-03   146.116455  \n",
       "2018-01-04   146.231766  \n",
       "2018-01-05   146.368240  \n",
       "2018-01-08   146.554779  \n",
       "2018-01-09   146.811340  \n",
       "2018-01-10   147.142212  \n",
       "2018-01-11   147.535034  \n",
       "2018-01-12   147.976654  \n",
       "2018-01-16   148.459244  "
      ]
     },
     "execution_count": 129,
     "metadata": {},
     "output_type": "execute_result"
    }
   ],
   "source": [
    "finalDF.head(10)"
   ]
  },
  {
   "cell_type": "code",
   "execution_count": null,
   "id": "472ca571",
   "metadata": {},
   "outputs": [],
   "source": []
  },
  {
   "cell_type": "markdown",
   "id": "9f91eb65",
   "metadata": {},
   "source": [
    "### Visualize the Model's Prediction \n",
    "\n",
    "Now we are going to visualize the LTSM model's prediction and compare the actual prices and predicited prices"
   ]
  },
  {
   "cell_type": "code",
   "execution_count": 130,
   "id": "786e79a0",
   "metadata": {},
   "outputs": [
    {
     "data": {
      "image/png": "[encoded data removed]",
      "text/plain": [
       "<Figure size 1440x864 with 1 Axes>"
      ]
     },
     "metadata": {
      "needs_background": "light"
     },
     "output_type": "display_data"
    }
   ],
   "source": [
    "# plot out the actual price and the \n",
    "plt.figure(figsize =(20,12))\n",
    "plt.title('FINANCIAL ASSET PRICE PREDICTIONS WITH LSTM MODEL',fontsize = 20)\n",
    "plt.xlabel('Date', fontsize = 20)\n",
    "plt.ylabel('Price', fontsize =20)\n",
    "plt.plot(train['price'])\n",
    "plt.plot(finalDF[['price', 'Predictions']])\n",
    "plt.legend(['Train','Actual Price','Predictions'], loc ='upper left')\n",
    "plt.show()"
   ]
  },
  {
   "cell_type": "markdown",
   "id": "dce3ec3c",
   "metadata": {},
   "source": [
    "The plot above showed us that:\n",
    "\n",
    "* The blue line: training data\n",
    "* The orange line is the actual price \n",
    "* The green line is the predciton that LSTM model made \n",
    "\n",
    "We can see that the predicted price follows the trend of actual price pretty well"
   ]
  },
  {
   "cell_type": "code",
   "execution_count": 131,
   "id": "3669e6f7",
   "metadata": {
    "scrolled": true
   },
   "outputs": [
    {
     "data": {
      "text/html": [
       "<div>\n",
       "<style scoped>\n",
       "    .dataframe tbody tr th:only-of-type {\n",
       "        vertical-align: middle;\n",
       "    }\n",
       "\n",
       "    .dataframe tbody tr th {\n",
       "        vertical-align: top;\n",
       "    }\n",
       "\n",
       "    .dataframe thead th {\n",
       "        text-align: right;\n",
       "    }\n",
       "</style>\n",
       "<table border=\"1\" class=\"dataframe\">\n",
       "  <thead>\n",
       "    <tr style=\"text-align: right;\">\n",
       "      <th></th>\n",
       "      <th>price</th>\n",
       "      <th>SmaFast</th>\n",
       "      <th>SmaSlow</th>\n",
       "      <th>Position</th>\n",
       "      <th>Return</th>\n",
       "      <th>Strategy</th>\n",
       "      <th>Predictions</th>\n",
       "    </tr>\n",
       "    <tr>\n",
       "      <th>Date</th>\n",
       "      <th></th>\n",
       "      <th></th>\n",
       "      <th></th>\n",
       "      <th></th>\n",
       "      <th></th>\n",
       "      <th></th>\n",
       "      <th></th>\n",
       "    </tr>\n",
       "  </thead>\n",
       "  <tbody>\n",
       "    <tr>\n",
       "      <th>2022-03-02</th>\n",
       "      <td>346.791260</td>\n",
       "      <td>360.802035</td>\n",
       "      <td>357.675793</td>\n",
       "      <td>1</td>\n",
       "      <td>0.016640</td>\n",
       "      <td>0.016640</td>\n",
       "      <td>322.395844</td>\n",
       "    </tr>\n",
       "    <tr>\n",
       "      <th>2022-03-03</th>\n",
       "      <td>341.837402</td>\n",
       "      <td>359.480098</td>\n",
       "      <td>357.775617</td>\n",
       "      <td>1</td>\n",
       "      <td>-0.014388</td>\n",
       "      <td>-0.014388</td>\n",
       "      <td>321.383942</td>\n",
       "    </tr>\n",
       "    <tr>\n",
       "      <th>2022-03-04</th>\n",
       "      <td>336.883514</td>\n",
       "      <td>357.949134</td>\n",
       "      <td>357.892096</td>\n",
       "      <td>1</td>\n",
       "      <td>-0.014598</td>\n",
       "      <td>-0.014598</td>\n",
       "      <td>320.540558</td>\n",
       "    </tr>\n",
       "    <tr>\n",
       "      <th>2022-03-07</th>\n",
       "      <td>324.458862</td>\n",
       "      <td>356.246239</td>\n",
       "      <td>357.979460</td>\n",
       "      <td>-1</td>\n",
       "      <td>-0.037578</td>\n",
       "      <td>-0.037578</td>\n",
       "      <td>319.822906</td>\n",
       "    </tr>\n",
       "    <tr>\n",
       "      <th>2022-03-08</th>\n",
       "      <td>322.950745</td>\n",
       "      <td>354.797078</td>\n",
       "      <td>358.042964</td>\n",
       "      <td>-1</td>\n",
       "      <td>-0.004659</td>\n",
       "      <td>0.004659</td>\n",
       "      <td>319.102722</td>\n",
       "    </tr>\n",
       "    <tr>\n",
       "      <th>2022-03-09</th>\n",
       "      <td>334.576355</td>\n",
       "      <td>353.631139</td>\n",
       "      <td>358.186441</td>\n",
       "      <td>-1</td>\n",
       "      <td>0.035365</td>\n",
       "      <td>-0.035365</td>\n",
       "      <td>318.261658</td>\n",
       "    </tr>\n",
       "    <tr>\n",
       "      <th>2022-03-10</th>\n",
       "      <td>330.860962</td>\n",
       "      <td>352.475663</td>\n",
       "      <td>358.268995</td>\n",
       "      <td>-1</td>\n",
       "      <td>-0.011167</td>\n",
       "      <td>0.011167</td>\n",
       "      <td>317.307678</td>\n",
       "    </tr>\n",
       "    <tr>\n",
       "      <th>2022-03-11</th>\n",
       "      <td>323.999420</td>\n",
       "      <td>351.150872</td>\n",
       "      <td>358.328019</td>\n",
       "      <td>-1</td>\n",
       "      <td>-0.020957</td>\n",
       "      <td>0.020957</td>\n",
       "      <td>316.273621</td>\n",
       "    </tr>\n",
       "    <tr>\n",
       "      <th>2022-03-14</th>\n",
       "      <td>317.777161</td>\n",
       "      <td>349.542148</td>\n",
       "      <td>358.334526</td>\n",
       "      <td>-1</td>\n",
       "      <td>-0.019391</td>\n",
       "      <td>0.019391</td>\n",
       "      <td>315.160217</td>\n",
       "    </tr>\n",
       "    <tr>\n",
       "      <th>2022-03-15</th>\n",
       "      <td>327.744812</td>\n",
       "      <td>348.134365</td>\n",
       "      <td>358.390372</td>\n",
       "      <td>-1</td>\n",
       "      <td>0.030885</td>\n",
       "      <td>-0.030885</td>\n",
       "      <td>313.933289</td>\n",
       "    </tr>\n",
       "    <tr>\n",
       "      <th>2022-03-16</th>\n",
       "      <td>339.899780</td>\n",
       "      <td>347.246414</td>\n",
       "      <td>358.480885</td>\n",
       "      <td>-1</td>\n",
       "      <td>0.036416</td>\n",
       "      <td>-0.036416</td>\n",
       "      <td>312.639709</td>\n",
       "    </tr>\n",
       "    <tr>\n",
       "      <th>2022-03-17</th>\n",
       "      <td>344.014709</td>\n",
       "      <td>346.400556</td>\n",
       "      <td>358.580750</td>\n",
       "      <td>-1</td>\n",
       "      <td>0.012034</td>\n",
       "      <td>-0.012034</td>\n",
       "      <td>311.427002</td>\n",
       "    </tr>\n",
       "    <tr>\n",
       "      <th>2022-03-18</th>\n",
       "      <td>351.055969</td>\n",
       "      <td>345.947306</td>\n",
       "      <td>358.703171</td>\n",
       "      <td>-1</td>\n",
       "      <td>0.020261</td>\n",
       "      <td>-0.020261</td>\n",
       "      <td>310.457672</td>\n",
       "    </tr>\n",
       "    <tr>\n",
       "      <th>2022-03-21</th>\n",
       "      <td>350.079987</td>\n",
       "      <td>345.567604</td>\n",
       "      <td>358.860334</td>\n",
       "      <td>-1</td>\n",
       "      <td>-0.002784</td>\n",
       "      <td>0.002784</td>\n",
       "      <td>309.885406</td>\n",
       "    </tr>\n",
       "    <tr>\n",
       "      <th>2022-03-22</th>\n",
       "      <td>356.959991</td>\n",
       "      <td>345.464905</td>\n",
       "      <td>359.040279</td>\n",
       "      <td>-1</td>\n",
       "      <td>0.019462</td>\n",
       "      <td>-0.019462</td>\n",
       "      <td>309.784607</td>\n",
       "    </tr>\n",
       "    <tr>\n",
       "      <th>2022-03-23</th>\n",
       "      <td>351.829987</td>\n",
       "      <td>345.478577</td>\n",
       "      <td>359.177048</td>\n",
       "      <td>-1</td>\n",
       "      <td>-0.014476</td>\n",
       "      <td>0.014476</td>\n",
       "      <td>310.195374</td>\n",
       "    </tr>\n",
       "    <tr>\n",
       "      <th>2022-03-24</th>\n",
       "      <td>359.649994</td>\n",
       "      <td>345.640155</td>\n",
       "      <td>359.350049</td>\n",
       "      <td>-1</td>\n",
       "      <td>0.021983</td>\n",
       "      <td>-0.021983</td>\n",
       "      <td>311.062103</td>\n",
       "    </tr>\n",
       "    <tr>\n",
       "      <th>2022-03-25</th>\n",
       "      <td>359.350006</td>\n",
       "      <td>345.989349</td>\n",
       "      <td>359.542833</td>\n",
       "      <td>-1</td>\n",
       "      <td>-0.000834</td>\n",
       "      <td>0.000834</td>\n",
       "      <td>312.328613</td>\n",
       "    </tr>\n",
       "    <tr>\n",
       "      <th>2022-03-28</th>\n",
       "      <td>364.910004</td>\n",
       "      <td>346.483765</td>\n",
       "      <td>359.759622</td>\n",
       "      <td>-1</td>\n",
       "      <td>0.015354</td>\n",
       "      <td>-0.015354</td>\n",
       "      <td>313.914124</td>\n",
       "    </tr>\n",
       "    <tr>\n",
       "      <th>2022-03-29</th>\n",
       "      <td>371.190002</td>\n",
       "      <td>347.210221</td>\n",
       "      <td>359.982837</td>\n",
       "      <td>-1</td>\n",
       "      <td>0.017063</td>\n",
       "      <td>-0.017063</td>\n",
       "      <td>315.755096</td>\n",
       "    </tr>\n",
       "  </tbody>\n",
       "</table>\n",
       "</div>"
      ],
      "text/plain": [
       "                 price     SmaFast     SmaSlow  Position    Return  Strategy  \\\n",
       "Date                                                                           \n",
       "2022-03-02  346.791260  360.802035  357.675793         1  0.016640  0.016640   \n",
       "2022-03-03  341.837402  359.480098  357.775617         1 -0.014388 -0.014388   \n",
       "2022-03-04  336.883514  357.949134  357.892096         1 -0.014598 -0.014598   \n",
       "2022-03-07  324.458862  356.246239  357.979460        -1 -0.037578 -0.037578   \n",
       "2022-03-08  322.950745  354.797078  358.042964        -1 -0.004659  0.004659   \n",
       "2022-03-09  334.576355  353.631139  358.186441        -1  0.035365 -0.035365   \n",
       "2022-03-10  330.860962  352.475663  358.268995        -1 -0.011167  0.011167   \n",
       "2022-03-11  323.999420  351.150872  358.328019        -1 -0.020957  0.020957   \n",
       "2022-03-14  317.777161  349.542148  358.334526        -1 -0.019391  0.019391   \n",
       "2022-03-15  327.744812  348.134365  358.390372        -1  0.030885 -0.030885   \n",
       "2022-03-16  339.899780  347.246414  358.480885        -1  0.036416 -0.036416   \n",
       "2022-03-17  344.014709  346.400556  358.580750        -1  0.012034 -0.012034   \n",
       "2022-03-18  351.055969  345.947306  358.703171        -1  0.020261 -0.020261   \n",
       "2022-03-21  350.079987  345.567604  358.860334        -1 -0.002784  0.002784   \n",
       "2022-03-22  356.959991  345.464905  359.040279        -1  0.019462 -0.019462   \n",
       "2022-03-23  351.829987  345.478577  359.177048        -1 -0.014476  0.014476   \n",
       "2022-03-24  359.649994  345.640155  359.350049        -1  0.021983 -0.021983   \n",
       "2022-03-25  359.350006  345.989349  359.542833        -1 -0.000834  0.000834   \n",
       "2022-03-28  364.910004  346.483765  359.759622        -1  0.015354 -0.015354   \n",
       "2022-03-29  371.190002  347.210221  359.982837        -1  0.017063 -0.017063   \n",
       "\n",
       "            Predictions  \n",
       "Date                     \n",
       "2022-03-02   322.395844  \n",
       "2022-03-03   321.383942  \n",
       "2022-03-04   320.540558  \n",
       "2022-03-07   319.822906  \n",
       "2022-03-08   319.102722  \n",
       "2022-03-09   318.261658  \n",
       "2022-03-10   317.307678  \n",
       "2022-03-11   316.273621  \n",
       "2022-03-14   315.160217  \n",
       "2022-03-15   313.933289  \n",
       "2022-03-16   312.639709  \n",
       "2022-03-17   311.427002  \n",
       "2022-03-18   310.457672  \n",
       "2022-03-21   309.885406  \n",
       "2022-03-22   309.784607  \n",
       "2022-03-23   310.195374  \n",
       "2022-03-24   311.062103  \n",
       "2022-03-25   312.328613  \n",
       "2022-03-28   313.914124  \n",
       "2022-03-29   315.755096  "
      ]
     },
     "execution_count": 131,
     "metadata": {},
     "output_type": "execute_result"
    }
   ],
   "source": [
    "# show the actual and predicted price\n",
    "finalDF.tail(20)\n"
   ]
  },
  {
   "cell_type": "markdown",
   "id": "0a2d2ced",
   "metadata": {},
   "source": [
    "#### Save the Model"
   ]
  },
  {
   "cell_type": "code",
   "execution_count": 132,
   "id": "abee93b3",
   "metadata": {},
   "outputs": [],
   "source": [
    "# Pretty decent result, now lets save the model \n",
    "model.save('model.h5')"
   ]
  },
  {
   "cell_type": "markdown",
   "id": "6957b960",
   "metadata": {},
   "source": [
    "### Predict prices of other stocks and financial asset and evaluate the robustness of the LSTM\n",
    "\n",
    "The model is trained with Google's stock price. To see how this model perform, now we're going to use this model to predict different asset class: such as stock index and digital currency. "
   ]
  },
  {
   "cell_type": "markdown",
   "id": "32dd9c3b",
   "metadata": {},
   "source": [
    " Predict Google stock price"
   ]
  },
  {
   "cell_type": "code",
   "execution_count": 133,
   "id": "22359dc9",
   "metadata": {},
   "outputs": [],
   "source": [
    "# Define a function that download data and predict price of the desired financial asset\n",
    "def predict_price(symbol,startdate,enddate,interval):\n",
    "    '''\n",
    "    input: symbol of the stock/financial instrument as a string\n",
    "    input: startdate & enddate & interval as string\n",
    "    output: predicted price for the next dag\n",
    "    '''\n",
    "    DFPred = download_data(symbol, startdate, enddate,interval)\n",
    "    DFPred = DFPred.filter(['Adj Close'])\n",
    "    # Get the last 50 day Adj Close price and convert the df into an array\n",
    "    last_50_days = DFPred[-50:].values\n",
    "    # Transform the data into value between 0 and 1\n",
    "    last_50_days_scaled = scaler.transform(last_50_days)\n",
    "    # Creat an empty list and append the last 50 days and convert it into numply array \n",
    "    X_test =[]\n",
    "    X_test.append(last_50_days_scaled)\n",
    "    X_test = np.array(X_test)\n",
    "    X_test = np.reshape(X_test, (X_test.shape[0], X_test.shape[1],1))\n",
    "    # Get the predicted scaled price and undo the scaling\n",
    "    pred_price = model.predict(X_test)\n",
    "    pred_price = scaler.inverse_transform(pred_price)\n",
    "    str_pred = str(pred_price[0][0])\n",
    "    print( \"The predicted price is \" + str_pred)"
   ]
  },
  {
   "cell_type": "code",
   "execution_count": 149,
   "id": "9696d64f",
   "metadata": {},
   "outputs": [],
   "source": [
    "#model = keras.models.load_model('model.h5')"
   ]
  },
  {
   "cell_type": "markdown",
   "id": "d3c0f7a9",
   "metadata": {},
   "source": [
    "##### Use the model to predict price of 1 day in the future and compare with the actual result"
   ]
  },
  {
   "cell_type": "code",
   "execution_count": 154,
   "id": "92ca18b6",
   "metadata": {},
   "outputs": [
    {
     "name": "stdout",
     "output_type": "stream",
     "text": [
      "[*********************100%***********************]  1 of 1 completed\n",
      "The predicted price is 360.69687\n",
      "[*********************100%***********************]  1 of 1 completed\n"
     ]
    },
    {
     "data": {
      "text/html": [
       "<div>\n",
       "<style scoped>\n",
       "    .dataframe tbody tr th:only-of-type {\n",
       "        vertical-align: middle;\n",
       "    }\n",
       "\n",
       "    .dataframe tbody tr th {\n",
       "        vertical-align: top;\n",
       "    }\n",
       "\n",
       "    .dataframe thead th {\n",
       "        text-align: right;\n",
       "    }\n",
       "</style>\n",
       "<table border=\"1\" class=\"dataframe\">\n",
       "  <thead>\n",
       "    <tr style=\"text-align: right;\">\n",
       "      <th></th>\n",
       "      <th>Open</th>\n",
       "      <th>High</th>\n",
       "      <th>Low</th>\n",
       "      <th>Close</th>\n",
       "      <th>Adj Close</th>\n",
       "      <th>Volume</th>\n",
       "    </tr>\n",
       "    <tr>\n",
       "      <th>Date</th>\n",
       "      <th></th>\n",
       "      <th></th>\n",
       "      <th></th>\n",
       "      <th></th>\n",
       "      <th></th>\n",
       "      <th></th>\n",
       "    </tr>\n",
       "  </thead>\n",
       "  <tbody>\n",
       "    <tr>\n",
       "      <th>2021-12-01</th>\n",
       "      <td>398.279999</td>\n",
       "      <td>400.480011</td>\n",
       "      <td>386.640015</td>\n",
       "      <td>387.119995</td>\n",
       "      <td>386.148804</td>\n",
       "      <td>77766500</td>\n",
       "    </tr>\n",
       "  </tbody>\n",
       "</table>\n",
       "</div>"
      ],
      "text/plain": [
       "                  Open        High         Low       Close   Adj Close  \\\n",
       "Date                                                                     \n",
       "2021-12-01  398.279999  400.480011  386.640015  387.119995  386.148804   \n",
       "\n",
       "              Volume  \n",
       "Date                  \n",
       "2021-12-01  77766500  "
      ]
     },
     "execution_count": 154,
     "metadata": {},
     "output_type": "execute_result"
    }
   ],
   "source": [
    "symbol = \"QQQ\"\n",
    "startdate = \"2021-01-01\"\n",
    "enddate = \"2021-11-30\"\n",
    "interval = \"1d\"\n",
    "\n",
    "predict_price(symbol, startdate, enddate, interval)\n",
    "# Take a look of the actual price of Nov 2021\n",
    "QQQ_price = download_data(\"QQQ\", \"2021-12-02\", \"2021-12-02\",\"1d\")\n",
    "QQQ_price"
   ]
  },
  {
   "cell_type": "code",
   "execution_count": null,
   "id": "163f5b2a",
   "metadata": {},
   "outputs": [],
   "source": []
  },
  {
   "cell_type": "code",
   "execution_count": 136,
   "id": "26a38d50",
   "metadata": {},
   "outputs": [],
   "source": [
    "# Run the model in the future by load the model \n",
    "#model = keras.models.load_model('model.h5')"
   ]
  },
  {
   "cell_type": "markdown",
   "id": "c3c387a3",
   "metadata": {},
   "source": [
    "##### Let's use the model to predict the price of other stock and financial asset\n"
   ]
  },
  {
   "cell_type": "code",
   "execution_count": 156,
   "id": "0d85e21f",
   "metadata": {},
   "outputs": [
    {
     "name": "stdout",
     "output_type": "stream",
     "text": [
      "[*********************100%***********************]  1 of 1 completed\n",
      "The predicted price is 314.53964\n",
      "[*********************100%***********************]  1 of 1 completed\n"
     ]
    },
    {
     "data": {
      "text/html": [
       "<div>\n",
       "<style scoped>\n",
       "    .dataframe tbody tr th:only-of-type {\n",
       "        vertical-align: middle;\n",
       "    }\n",
       "\n",
       "    .dataframe tbody tr th {\n",
       "        vertical-align: top;\n",
       "    }\n",
       "\n",
       "    .dataframe thead th {\n",
       "        text-align: right;\n",
       "    }\n",
       "</style>\n",
       "<table border=\"1\" class=\"dataframe\">\n",
       "  <thead>\n",
       "    <tr style=\"text-align: right;\">\n",
       "      <th></th>\n",
       "      <th>Open</th>\n",
       "      <th>High</th>\n",
       "      <th>Low</th>\n",
       "      <th>Close</th>\n",
       "      <th>Adj Close</th>\n",
       "      <th>Volume</th>\n",
       "    </tr>\n",
       "    <tr>\n",
       "      <th>Date</th>\n",
       "      <th></th>\n",
       "      <th></th>\n",
       "      <th></th>\n",
       "      <th></th>\n",
       "      <th></th>\n",
       "      <th></th>\n",
       "    </tr>\n",
       "  </thead>\n",
       "  <tbody>\n",
       "    <tr>\n",
       "      <th>2021-12-01</th>\n",
       "      <td>330.290009</td>\n",
       "      <td>330.5</td>\n",
       "      <td>310.290009</td>\n",
       "      <td>310.600006</td>\n",
       "      <td>310.600006</td>\n",
       "      <td>30329600</td>\n",
       "    </tr>\n",
       "  </tbody>\n",
       "</table>\n",
       "</div>"
      ],
      "text/plain": [
       "                  Open   High         Low       Close   Adj Close    Volume\n",
       "Date                                                                       \n",
       "2021-12-01  330.290009  330.5  310.290009  310.600006  310.600006  30329600"
      ]
     },
     "execution_count": 156,
     "metadata": {},
     "output_type": "execute_result"
    }
   ],
   "source": [
    "symbol = \"FB\"\n",
    "startdate = \"2021-01-01\"\n",
    "enddate = \"2021-11-30\"\n",
    "interval = \"1d\"\n",
    "predict_price(symbol, startdate, enddate, interval)\n",
    "new = download_data(symbol, \"2021-12-02\", \"2021-12-02\",\"1d\")\n",
    "new"
   ]
  },
  {
   "cell_type": "code",
   "execution_count": null,
   "id": "576ba0a0",
   "metadata": {},
   "outputs": [],
   "source": []
  },
  {
   "cell_type": "markdown",
   "id": "a37f20f8",
   "metadata": {},
   "source": [
    "##### Evaluate the model and use the model to predict the price of Amsterdam AEX index"
   ]
  },
  {
   "cell_type": "code",
   "execution_count": 160,
   "id": "b9ec6034",
   "metadata": {},
   "outputs": [
    {
     "name": "stdout",
     "output_type": "stream",
     "text": [
      "[*********************100%***********************]  1 of 1 completed\n",
      "The predicted price is 587.0219\n",
      "[*********************100%***********************]  1 of 1 completed\n"
     ]
    },
    {
     "data": {
      "text/html": [
       "<div>\n",
       "<style scoped>\n",
       "    .dataframe tbody tr th:only-of-type {\n",
       "        vertical-align: middle;\n",
       "    }\n",
       "\n",
       "    .dataframe tbody tr th {\n",
       "        vertical-align: top;\n",
       "    }\n",
       "\n",
       "    .dataframe thead th {\n",
       "        text-align: right;\n",
       "    }\n",
       "</style>\n",
       "<table border=\"1\" class=\"dataframe\">\n",
       "  <thead>\n",
       "    <tr style=\"text-align: right;\">\n",
       "      <th></th>\n",
       "      <th>Open</th>\n",
       "      <th>High</th>\n",
       "      <th>Low</th>\n",
       "      <th>Close</th>\n",
       "      <th>Adj Close</th>\n",
       "      <th>Volume</th>\n",
       "    </tr>\n",
       "    <tr>\n",
       "      <th>Date</th>\n",
       "      <th></th>\n",
       "      <th></th>\n",
       "      <th></th>\n",
       "      <th></th>\n",
       "      <th></th>\n",
       "      <th></th>\n",
       "    </tr>\n",
       "  </thead>\n",
       "  <tbody>\n",
       "    <tr>\n",
       "      <th>2021-12-01</th>\n",
       "      <td>783.840027</td>\n",
       "      <td>792.159973</td>\n",
       "      <td>783.840027</td>\n",
       "      <td>790.700012</td>\n",
       "      <td>790.700012</td>\n",
       "      <td>90800</td>\n",
       "    </tr>\n",
       "  </tbody>\n",
       "</table>\n",
       "</div>"
      ],
      "text/plain": [
       "                  Open        High         Low       Close   Adj Close  Volume\n",
       "Date                                                                          \n",
       "2021-12-01  783.840027  792.159973  783.840027  790.700012  790.700012   90800"
      ]
     },
     "execution_count": 160,
     "metadata": {},
     "output_type": "execute_result"
    }
   ],
   "source": [
    "symbol = \"^AEX\"\n",
    "startdate = \"2021-01-01\"\n",
    "enddate = \"2021-11-30\"\n",
    "interval = \"1d\"\n",
    "predict_price(symbol, startdate, enddate, interval)\n",
    "new = download_data(symbol, \"2021-12-01\", \"2021-12-02\",\"1d\")\n",
    "new"
   ]
  },
  {
   "cell_type": "code",
   "execution_count": null,
   "id": "83a43564",
   "metadata": {},
   "outputs": [],
   "source": []
  },
  {
   "cell_type": "markdown",
   "id": "6b9986d1",
   "metadata": {},
   "source": [
    "##### Use the Model to predict the price of Microsoft stock"
   ]
  },
  {
   "cell_type": "code",
   "execution_count": 161,
   "id": "faee5b75",
   "metadata": {},
   "outputs": [
    {
     "name": "stdout",
     "output_type": "stream",
     "text": [
      "[*********************100%***********************]  1 of 1 completed\n",
      "The predicted price is 312.5284\n",
      "[*********************100%***********************]  1 of 1 completed\n"
     ]
    },
    {
     "data": {
      "text/html": [
       "<div>\n",
       "<style scoped>\n",
       "    .dataframe tbody tr th:only-of-type {\n",
       "        vertical-align: middle;\n",
       "    }\n",
       "\n",
       "    .dataframe tbody tr th {\n",
       "        vertical-align: top;\n",
       "    }\n",
       "\n",
       "    .dataframe thead th {\n",
       "        text-align: right;\n",
       "    }\n",
       "</style>\n",
       "<table border=\"1\" class=\"dataframe\">\n",
       "  <thead>\n",
       "    <tr style=\"text-align: right;\">\n",
       "      <th></th>\n",
       "      <th>Open</th>\n",
       "      <th>High</th>\n",
       "      <th>Low</th>\n",
       "      <th>Close</th>\n",
       "      <th>Adj Close</th>\n",
       "      <th>Volume</th>\n",
       "    </tr>\n",
       "    <tr>\n",
       "      <th>Date</th>\n",
       "      <th></th>\n",
       "      <th></th>\n",
       "      <th></th>\n",
       "      <th></th>\n",
       "      <th></th>\n",
       "      <th></th>\n",
       "    </tr>\n",
       "  </thead>\n",
       "  <tbody>\n",
       "    <tr>\n",
       "      <th>2021-12-01</th>\n",
       "      <td>335.130005</td>\n",
       "      <td>339.279999</td>\n",
       "      <td>329.390015</td>\n",
       "      <td>330.079987</td>\n",
       "      <td>329.398895</td>\n",
       "      <td>33337600</td>\n",
       "    </tr>\n",
       "  </tbody>\n",
       "</table>\n",
       "</div>"
      ],
      "text/plain": [
       "                  Open        High         Low       Close   Adj Close  \\\n",
       "Date                                                                     \n",
       "2021-12-01  335.130005  339.279999  329.390015  330.079987  329.398895   \n",
       "\n",
       "              Volume  \n",
       "Date                  \n",
       "2021-12-01  33337600  "
      ]
     },
     "execution_count": 161,
     "metadata": {},
     "output_type": "execute_result"
    }
   ],
   "source": [
    "symbol = \"MSFT\"\n",
    "startdate = \"2021-01-01\"\n",
    "enddate = \"2021-11-30\"\n",
    "interval = \"1d\"\n",
    "predict_price(symbol, startdate, enddate, interval)\n",
    "new = download_data(symbol, \"2021-12-02\", \"2021-12-02\",\"1d\")\n",
    "new\n"
   ]
  },
  {
   "cell_type": "markdown",
   "id": "f61d71f4",
   "metadata": {},
   "source": [
    "\n",
    "##### Use the Model to predict the price of  Shell plc"
   ]
  },
  {
   "cell_type": "code",
   "execution_count": 164,
   "id": "6fbee400",
   "metadata": {},
   "outputs": [
    {
     "name": "stdout",
     "output_type": "stream",
     "text": [
      "[*********************100%***********************]  1 of 1 completed\n",
      "The predicted price is 42.934303\n",
      "[*********************100%***********************]  1 of 1 completed\n"
     ]
    },
    {
     "data": {
      "text/html": [
       "<div>\n",
       "<style scoped>\n",
       "    .dataframe tbody tr th:only-of-type {\n",
       "        vertical-align: middle;\n",
       "    }\n",
       "\n",
       "    .dataframe tbody tr th {\n",
       "        vertical-align: top;\n",
       "    }\n",
       "\n",
       "    .dataframe thead th {\n",
       "        text-align: right;\n",
       "    }\n",
       "</style>\n",
       "<table border=\"1\" class=\"dataframe\">\n",
       "  <thead>\n",
       "    <tr style=\"text-align: right;\">\n",
       "      <th></th>\n",
       "      <th>Open</th>\n",
       "      <th>High</th>\n",
       "      <th>Low</th>\n",
       "      <th>Close</th>\n",
       "      <th>Adj Close</th>\n",
       "      <th>Volume</th>\n",
       "    </tr>\n",
       "    <tr>\n",
       "      <th>Date</th>\n",
       "      <th></th>\n",
       "      <th></th>\n",
       "      <th></th>\n",
       "      <th></th>\n",
       "      <th></th>\n",
       "      <th></th>\n",
       "    </tr>\n",
       "  </thead>\n",
       "  <tbody>\n",
       "    <tr>\n",
       "      <th>2021-12-01</th>\n",
       "      <td>43.02</td>\n",
       "      <td>43.115002</td>\n",
       "      <td>41.560001</td>\n",
       "      <td>41.59</td>\n",
       "      <td>41.59</td>\n",
       "      <td>6006255</td>\n",
       "    </tr>\n",
       "  </tbody>\n",
       "</table>\n",
       "</div>"
      ],
      "text/plain": [
       "             Open       High        Low  Close  Adj Close   Volume\n",
       "Date                                                              \n",
       "2021-12-01  43.02  43.115002  41.560001  41.59      41.59  6006255"
      ]
     },
     "execution_count": 164,
     "metadata": {},
     "output_type": "execute_result"
    }
   ],
   "source": [
    "symbol = \"SHEL\"\n",
    "startdate = \"2021-01-01\"\n",
    "enddate = \"2021-11-30\"\n",
    "interval = \"1d\"\n",
    "predict_price(symbol, startdate, enddate, interval)\n",
    "new = download_data(symbol, \"2021-12-02\", \"2021-12-02\",\"1d\")\n",
    "new"
   ]
  },
  {
   "cell_type": "markdown",
   "id": "e8f31917",
   "metadata": {},
   "source": [
    "##### Use the Model to predict the price of HERMES"
   ]
  },
  {
   "cell_type": "code",
   "execution_count": 168,
   "id": "83454e60",
   "metadata": {},
   "outputs": [
    {
     "name": "stdout",
     "output_type": "stream",
     "text": [
      "[*********************100%***********************]  1 of 1 completed\n",
      "The predicted price is 687.1214\n",
      "[*********************100%***********************]  1 of 1 completed\n"
     ]
    },
    {
     "data": {
      "text/html": [
       "<div>\n",
       "<style scoped>\n",
       "    .dataframe tbody tr th:only-of-type {\n",
       "        vertical-align: middle;\n",
       "    }\n",
       "\n",
       "    .dataframe tbody tr th {\n",
       "        vertical-align: top;\n",
       "    }\n",
       "\n",
       "    .dataframe thead th {\n",
       "        text-align: right;\n",
       "    }\n",
       "</style>\n",
       "<table border=\"1\" class=\"dataframe\">\n",
       "  <thead>\n",
       "    <tr style=\"text-align: right;\">\n",
       "      <th></th>\n",
       "      <th>Open</th>\n",
       "      <th>High</th>\n",
       "      <th>Low</th>\n",
       "      <th>Close</th>\n",
       "      <th>Adj Close</th>\n",
       "      <th>Volume</th>\n",
       "    </tr>\n",
       "    <tr>\n",
       "      <th>Date</th>\n",
       "      <th></th>\n",
       "      <th></th>\n",
       "      <th></th>\n",
       "      <th></th>\n",
       "      <th></th>\n",
       "      <th></th>\n",
       "    </tr>\n",
       "  </thead>\n",
       "  <tbody>\n",
       "    <tr>\n",
       "      <th>2021-11-30</th>\n",
       "      <td>1623.5</td>\n",
       "      <td>1676.5</td>\n",
       "      <td>1614.5</td>\n",
       "      <td>1653.0</td>\n",
       "      <td>1642.203613</td>\n",
       "      <td>206735</td>\n",
       "    </tr>\n",
       "    <tr>\n",
       "      <th>2021-12-01</th>\n",
       "      <td>1666.0</td>\n",
       "      <td>1678.0</td>\n",
       "      <td>1618.0</td>\n",
       "      <td>1668.5</td>\n",
       "      <td>1657.602539</td>\n",
       "      <td>70320</td>\n",
       "    </tr>\n",
       "  </tbody>\n",
       "</table>\n",
       "</div>"
      ],
      "text/plain": [
       "              Open    High     Low   Close    Adj Close  Volume\n",
       "Date                                                           \n",
       "2021-11-30  1623.5  1676.5  1614.5  1653.0  1642.203613  206735\n",
       "2021-12-01  1666.0  1678.0  1618.0  1668.5  1657.602539   70320"
      ]
     },
     "execution_count": 168,
     "metadata": {},
     "output_type": "execute_result"
    }
   ],
   "source": [
    "symbol = \"RMS.PA\"\n",
    "startdate = \"2021-01-01\"\n",
    "enddate = \"2021-11-30\"\n",
    "interval = \"1d\"\n",
    "predict_price(symbol, startdate, enddate, interval)\n",
    "new = download_data(symbol, \"2021-11-30\", \"2021-12-02\",\"1d\")\n",
    "new"
   ]
  },
  {
   "cell_type": "code",
   "execution_count": null,
   "id": "ef0d2475",
   "metadata": {},
   "outputs": [],
   "source": []
  },
  {
   "cell_type": "markdown",
   "id": "b98a076a",
   "metadata": {},
   "source": [
    "##### Use the Model to predict the price of bitcoin"
   ]
  },
  {
   "cell_type": "code",
   "execution_count": 162,
   "id": "95f4dd19",
   "metadata": {},
   "outputs": [
    {
     "name": "stdout",
     "output_type": "stream",
     "text": [
      "[*********************100%***********************]  1 of 1 completed\n",
      "The predicted price is 542.3786\n",
      "[*********************100%***********************]  1 of 1 completed\n"
     ]
    },
    {
     "data": {
      "text/html": [
       "<div>\n",
       "<style scoped>\n",
       "    .dataframe tbody tr th:only-of-type {\n",
       "        vertical-align: middle;\n",
       "    }\n",
       "\n",
       "    .dataframe tbody tr th {\n",
       "        vertical-align: top;\n",
       "    }\n",
       "\n",
       "    .dataframe thead th {\n",
       "        text-align: right;\n",
       "    }\n",
       "</style>\n",
       "<table border=\"1\" class=\"dataframe\">\n",
       "  <thead>\n",
       "    <tr style=\"text-align: right;\">\n",
       "      <th></th>\n",
       "      <th>Open</th>\n",
       "      <th>High</th>\n",
       "      <th>Low</th>\n",
       "      <th>Close</th>\n",
       "      <th>Adj Close</th>\n",
       "      <th>Volume</th>\n",
       "    </tr>\n",
       "    <tr>\n",
       "      <th>Date</th>\n",
       "      <th></th>\n",
       "      <th></th>\n",
       "      <th></th>\n",
       "      <th></th>\n",
       "      <th></th>\n",
       "      <th></th>\n",
       "    </tr>\n",
       "  </thead>\n",
       "  <tbody>\n",
       "    <tr>\n",
       "      <th>2021-12-01</th>\n",
       "      <td>56907.964844</td>\n",
       "      <td>59041.683594</td>\n",
       "      <td>56553.082031</td>\n",
       "      <td>57229.828125</td>\n",
       "      <td>57229.828125</td>\n",
       "      <td>36858195307</td>\n",
       "    </tr>\n",
       "  </tbody>\n",
       "</table>\n",
       "</div>"
      ],
      "text/plain": [
       "                    Open          High           Low         Close  \\\n",
       "Date                                                                 \n",
       "2021-12-01  56907.964844  59041.683594  56553.082031  57229.828125   \n",
       "\n",
       "               Adj Close       Volume  \n",
       "Date                                   \n",
       "2021-12-01  57229.828125  36858195307  "
      ]
     },
     "execution_count": 162,
     "metadata": {},
     "output_type": "execute_result"
    }
   ],
   "source": [
    "symbol = \"BTC-USD\"\n",
    "startdate = \"2021-01-01\"\n",
    "enddate = \"2021-11-30\"\n",
    "interval = \"1d\"\n",
    "predict_price(symbol, startdate, enddate, interval)\n",
    "# The actual price\n",
    "new = download_data(symbol, \"2021-12-02\", \"2021-12-02\",\"1d\")\n",
    "new"
   ]
  },
  {
   "cell_type": "markdown",
   "id": "88b63c8e",
   "metadata": {},
   "source": [
    "Took a look of this result, the model's prediction of Bitcoin price is not even close to the actual price at all. It might have something to do with the fact that we have trained this model with a tech stock data. Difference financial assets have different price movement patterns, they trend in different way. Obviously, Bitcoine is a totally different culture than equity(stocks)"
   ]
  },
  {
   "cell_type": "code",
   "execution_count": 171,
   "id": "51eb010f",
   "metadata": {},
   "outputs": [
    {
     "data": {
      "image/png": "[encoded data removed]",
      "text/plain": [
       "<IPython.core.display.Image object>"
      ]
     },
     "execution_count": 171,
     "metadata": {},
     "output_type": "execute_result"
    }
   ],
   "source": [
    "from IPython import display\n",
    "display.Image(\"./result.png\")\n"
   ]
  },
  {
   "cell_type": "markdown",
   "id": "40e04498",
   "metadata": {},
   "source": [
    "Took a look of this result, the model's prediction of Bitcoin price is not even close to the actual price at all. The same result showed up at prediction of  Hermes & AEX price. (Note: EX is a miner European Index(Amsterdam Exchange), which contains a basket of stocks across different sectors.)\n",
    "\n",
    "It might have something to do with the fact that we have trained this model with an index Fund that tracks Tech companies. Difference financial instruments across sectors and asset’s class have different fundamentals and price movement patterns, they  behave in different way. Obviously, Bitcoin is a totally different creature than equity(stocks)."
   ]
  },
  {
   "cell_type": "markdown",
   "id": "d97a88b4",
   "metadata": {},
   "source": [
    "##### Train the model after adding 50 more neurons"
   ]
  },
  {
   "cell_type": "code",
   "execution_count": 169,
   "id": "7f3ad23e",
   "metadata": {},
   "outputs": [
    {
     "name": "stdout",
     "output_type": "stream",
     "text": [
      "Epoch 1/20\n",
      "133/133 [==============================] - 24s 134ms/step - loss: 5.3773e-04\n",
      "Epoch 2/20\n",
      "133/133 [==============================] - 17s 129ms/step - loss: 1.0132e-04\n",
      "Epoch 3/20\n",
      "133/133 [==============================] - 17s 125ms/step - loss: 1.0630e-04\n",
      "Epoch 4/20\n",
      "133/133 [==============================] - 18s 132ms/step - loss: 9.9304e-05\n",
      "Epoch 5/20\n",
      "133/133 [==============================] - 18s 135ms/step - loss: 8.9333e-05\n",
      "Epoch 6/20\n",
      "133/133 [==============================] - 17s 131ms/step - loss: 9.7710e-05\n",
      "Epoch 7/20\n",
      "133/133 [==============================] - 14s 108ms/step - loss: 1.2177e-04\n",
      "Epoch 8/20\n",
      "133/133 [==============================] - 16s 119ms/step - loss: 8.3690e-05\n",
      "Epoch 9/20\n",
      "133/133 [==============================] - 16s 117ms/step - loss: 8.1644e-05\n",
      "Epoch 10/20\n",
      "133/133 [==============================] - 18s 133ms/step - loss: 8.7655e-05\n",
      "Epoch 11/20\n",
      "133/133 [==============================] - 14s 109ms/step - loss: 9.1406e-05\n",
      "Epoch 12/20\n",
      "133/133 [==============================] - 14s 108ms/step - loss: 7.2540e-05\n",
      "Epoch 13/20\n",
      "133/133 [==============================] - 15s 109ms/step - loss: 9.1240e-05\n",
      "Epoch 14/20\n",
      "133/133 [==============================] - 15s 115ms/step - loss: 7.3730e-05\n",
      "Epoch 15/20\n",
      "133/133 [==============================] - 15s 112ms/step - loss: 1.3975e-04\n",
      "Epoch 16/20\n",
      "133/133 [==============================] - 16s 121ms/step - loss: 6.4083e-05\n",
      "Epoch 17/20\n",
      "133/133 [==============================] - 17s 125ms/step - loss: 6.8178e-05\n",
      "Epoch 18/20\n",
      "133/133 [==============================] - 16s 117ms/step - loss: 6.9163e-05\n",
      "Epoch 19/20\n",
      "133/133 [==============================] - 16s 117ms/step - loss: 5.7781e-05\n",
      "Epoch 20/20\n",
      "133/133 [==============================] - 16s 121ms/step - loss: 6.3101e-05\n",
      "The Root Mean Square Error is :16.017252\n"
     ]
    }
   ],
   "source": [
    "model = Sequential()\n",
    "# 1st lstm layer\n",
    "model.add(LSTM(units=150,return_sequences=True,input_shape=(x_train.shape[1], 1)))\n",
    "model.add(Dropout(0.2))\n",
    "# 2st lstm layer\n",
    "model.add(LSTM(units=150,return_sequences=True))\n",
    "model.add(Dropout(0.2))\n",
    "# 3st lstm layer\n",
    "model.add(LSTM(units=150,return_sequences=True))\n",
    "model.add(Dropout(0.2))\n",
    "# 3st lstm layer \n",
    "model.add(LSTM(units=150,return_sequences= False))\n",
    "model.add(Dropout(0.2))\n",
    "model.add(Dense(units=1))\n",
    "model.compile(optimizer='adam',loss='mean_squared_error')\n",
    "model.fit(x_train,y_train, batch_size =32, epochs =20)\n",
    "# Get the mean squared error (RMSE), the lower the value of RMSE, the better the model fits\n",
    "rsme = np.sqrt(np.mean(predictions - y_test)**2)\n",
    "print( \"The Root Mean Square Error is :\" + str(rsme.round(6)))"
   ]
  },
  {
   "cell_type": "code",
   "execution_count": 147,
   "id": "d6a3b50c",
   "metadata": {},
   "outputs": [],
   "source": [
    "model.save('model_updated.h5')"
   ]
  },
  {
   "cell_type": "code",
   "execution_count": 148,
   "id": "3535378a",
   "metadata": {},
   "outputs": [
    {
     "name": "stdout",
     "output_type": "stream",
     "text": [
      "[*********************100%***********************]  1 of 1 completed\n",
      "The predicted price is 641.8372\n",
      "[*********************100%***********************]  1 of 1 completed\n"
     ]
    },
    {
     "data": {
      "text/html": [
       "<div>\n",
       "<style scoped>\n",
       "    .dataframe tbody tr th:only-of-type {\n",
       "        vertical-align: middle;\n",
       "    }\n",
       "\n",
       "    .dataframe tbody tr th {\n",
       "        vertical-align: top;\n",
       "    }\n",
       "\n",
       "    .dataframe thead th {\n",
       "        text-align: right;\n",
       "    }\n",
       "</style>\n",
       "<table border=\"1\" class=\"dataframe\">\n",
       "  <thead>\n",
       "    <tr style=\"text-align: right;\">\n",
       "      <th></th>\n",
       "      <th>Open</th>\n",
       "      <th>High</th>\n",
       "      <th>Low</th>\n",
       "      <th>Close</th>\n",
       "      <th>Adj Close</th>\n",
       "      <th>Volume</th>\n",
       "    </tr>\n",
       "    <tr>\n",
       "      <th>Date</th>\n",
       "      <th></th>\n",
       "      <th></th>\n",
       "      <th></th>\n",
       "      <th></th>\n",
       "      <th></th>\n",
       "      <th></th>\n",
       "    </tr>\n",
       "  </thead>\n",
       "  <tbody>\n",
       "    <tr>\n",
       "      <th>2021-11-29</th>\n",
       "      <td>3547.639893</td>\n",
       "      <td>3596.000000</td>\n",
       "      <td>3531.500000</td>\n",
       "      <td>3561.570068</td>\n",
       "      <td>3561.570068</td>\n",
       "      <td>3265600</td>\n",
       "    </tr>\n",
       "    <tr>\n",
       "      <th>2021-11-30</th>\n",
       "      <td>3563.500000</td>\n",
       "      <td>3585.770020</td>\n",
       "      <td>3492.010010</td>\n",
       "      <td>3507.070068</td>\n",
       "      <td>3507.070068</td>\n",
       "      <td>4001100</td>\n",
       "    </tr>\n",
       "    <tr>\n",
       "      <th>2021-12-01</th>\n",
       "      <td>3545.000000</td>\n",
       "      <td>3559.879883</td>\n",
       "      <td>3441.600098</td>\n",
       "      <td>3443.719971</td>\n",
       "      <td>3443.719971</td>\n",
       "      <td>3745800</td>\n",
       "    </tr>\n",
       "  </tbody>\n",
       "</table>\n",
       "</div>"
      ],
      "text/plain": [
       "                   Open         High          Low        Close    Adj Close  \\\n",
       "Date                                                                          \n",
       "2021-11-29  3547.639893  3596.000000  3531.500000  3561.570068  3561.570068   \n",
       "2021-11-30  3563.500000  3585.770020  3492.010010  3507.070068  3507.070068   \n",
       "2021-12-01  3545.000000  3559.879883  3441.600098  3443.719971  3443.719971   \n",
       "\n",
       "             Volume  \n",
       "Date                 \n",
       "2021-11-29  3265600  \n",
       "2021-11-30  4001100  \n",
       "2021-12-01  3745800  "
      ]
     },
     "execution_count": 148,
     "metadata": {},
     "output_type": "execute_result"
    }
   ],
   "source": [
    "symbol = \"FB\"\n",
    "startdate = \"2021-01-01\"\n",
    "enddate = \"2021-11-30\"\n",
    "interval = \"1d\"\n",
    "predict_price(symbol, startdate, enddate, interval)\n",
    "new = download_data(symbol, \"2021-11-30\", \"2021-12-02\",\"1d\")\n",
    "new"
   ]
  },
  {
   "cell_type": "code",
   "execution_count": null,
   "id": "ab080565",
   "metadata": {},
   "outputs": [],
   "source": []
  },
  {
   "cell_type": "markdown",
   "id": "c908dbde",
   "metadata": {},
   "source": [
    "### Conclusion And Possible Improvements"
   ]
  },
  {
   "cell_type": "markdown",
   "id": "e5029029",
   "metadata": {},
   "source": [
    "The model does reasonably well when predicting the financial instruments in the same asset class and sector, that is : tech stock (equity).  \n",
    "\n",
    "The model does not perform well when predicting the price of Bitcoin which is a in totally different asset class. In financial sector, there are many assets classes, such as Fixed Income( Bonds), Equity(stocks), Currency(Forex), Digital Assets.  Different asset classed exhibit different price movements patterns, due to the fact that prices of those assets are determined on different factors. If you are trading or invest in one particular financial instrument , it’s better to train the model consistently with the same asset class and re-train the model if you wish to predict the price of another instrument from different sector or assets class. \n",
    "\n",
    "To summaries, the LTSM  along is just too simply to forecast stock price, and trader&investor should definitely not trade according to the predictions. Financial market is an extremely complicated system, forecasting price movements is as difficult as forecasting weather. There are many factors can introduce dramatic changes of stock price. Use one model to predict and generate single for trading or investment decision is rather dangerous. Sometimes, It’s better to combine the results of different models. For example, utilize NLP sentiment analysis to evaluate the market sentiment, if the market sentiment is bearish and LTSM prediction also shows price drop, then we short-selling the stock; if the market sentiment is bullish and LTSM prediction also shows price increase, then we long the stock. \n",
    "\n"
   ]
  },
  {
   "cell_type": "markdown",
   "id": "7f2c13f3",
   "metadata": {},
   "source": [
    "### References:"
   ]
  },
  {
   "cell_type": "markdown",
   "id": "ea0bad18",
   "metadata": {},
   "source": [
    "* Python for finance by Yves Hilpisch https://www.oreilly.com/library/view/python-for-finance/9781492024323/\n",
    "\n",
    "* Time Series - LSTM Model https://www.tutorialspoint.com/time_series/time_series_lstm_model.htm\n",
    "\n",
    "* Short-term stock market price trend prediction using a comprehensive deep learning system by Jingyi Shen & M. Omair Shafiq ttps://journalofbigdata.springeropen.com/articles/10.1186/s40537-020-00333-6\n",
    "\n",
    "* P516, Hands-on Machine Learning with Scikit-Learn, Keras & TensorFlow by Aurelien Geron \n",
    "\n"
   ]
  },
  {
   "cell_type": "code",
   "execution_count": null,
   "id": "5d43cce4",
   "metadata": {},
   "outputs": [],
   "source": []
  }
 ],
 "metadata": {
  "kernelspec": {
   "display_name": "Python 3 (ipykernel)",
   "language": "python",
   "name": "python3"
  },
  "language_info": {
   "codemirror_mode": {
    "name": "ipython",
    "version": 3
   },
   "file_extension": ".py",
   "mimetype": "text/x-python",
   "name": "python",
   "nbconvert_exporter": "python",
   "pygments_lexer": "ipython3",
   "version": "3.8.8"
  }
 },
 "nbformat": 4,
 "nbformat_minor": 5
}
